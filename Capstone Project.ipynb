{
  "nbformat": 4,
  "nbformat_minor": 0,
  "metadata": {
    "colab": {
      "name": "Copy of capstone.ipynb",
      "provenance": [],
      "authorship_tag": "ABX9TyNji/wmlfAUMWGbw1fFZgAQ",
      "include_colab_link": true
    },
    "kernelspec": {
      "name": "python3",
      "display_name": "Python 3"
    }
  },
  "cells": [
    {
      "cell_type": "markdown",
      "metadata": {
        "id": "view-in-github",
        "colab_type": "text"
      },
      "source": [
        "<a href=\"https://colab.research.google.com/github/mazprimrez/capstoneprojectDS/blob/master/Capstone%20Project.ipynb\" target=\"_parent\"><img src=\"https://colab.research.google.com/assets/colab-badge.svg\" alt=\"Open In Colab\"/></a>"
      ]
    },
    {
      "cell_type": "markdown",
      "metadata": {
        "id": "_t4aBVVLYfdZ"
      },
      "source": [
        "# Capstone Project\n",
        "This Notebook will be used for capstone project, a data science specialization by IBM on Coursera"
      ]
    },
    {
      "cell_type": "code",
      "metadata": {
        "id": "vWY7u4DlYZIW"
      },
      "source": [
        "import numpy as np\n",
        "import pandas as pd"
      ],
      "execution_count": 61,
      "outputs": []
    },
    {
      "cell_type": "markdown",
      "metadata": {
        "id": "iGSNDuk5ZS5r"
      },
      "source": [
        "# The Data"
      ]
    },
    {
      "cell_type": "code",
      "metadata": {
        "id": "rSVZL4CeYdZT"
      },
      "source": [
        "dataset = pd.read_csv(\"https://opendata.arcgis.com/datasets/5b5c745e0f1f48e7a53acec63a0022ab_0.csv\")"
      ],
      "execution_count": 62,
      "outputs": []
    },
    {
      "cell_type": "code",
      "metadata": {
        "id": "lbWUnhmxkrUD",
        "outputId": "3291df15-c270-4099-896f-90a52bdc23ad",
        "colab": {
          "base_uri": "https://localhost:8080/",
          "height": 632
        }
      },
      "source": [
        "dataset.head()"
      ],
      "execution_count": 63,
      "outputs": [
        {
          "output_type": "execute_result",
          "data": {
            "text/html": [
              "<div>\n",
              "<style scoped>\n",
              "    .dataframe tbody tr th:only-of-type {\n",
              "        vertical-align: middle;\n",
              "    }\n",
              "\n",
              "    .dataframe tbody tr th {\n",
              "        vertical-align: top;\n",
              "    }\n",
              "\n",
              "    .dataframe thead th {\n",
              "        text-align: right;\n",
              "    }\n",
              "</style>\n",
              "<table border=\"1\" class=\"dataframe\">\n",
              "  <thead>\n",
              "    <tr style=\"text-align: right;\">\n",
              "      <th></th>\n",
              "      <th>X</th>\n",
              "      <th>Y</th>\n",
              "      <th>OBJECTID</th>\n",
              "      <th>INCKEY</th>\n",
              "      <th>COLDETKEY</th>\n",
              "      <th>REPORTNO</th>\n",
              "      <th>STATUS</th>\n",
              "      <th>ADDRTYPE</th>\n",
              "      <th>INTKEY</th>\n",
              "      <th>LOCATION</th>\n",
              "      <th>EXCEPTRSNCODE</th>\n",
              "      <th>EXCEPTRSNDESC</th>\n",
              "      <th>SEVERITYCODE</th>\n",
              "      <th>SEVERITYDESC</th>\n",
              "      <th>COLLISIONTYPE</th>\n",
              "      <th>PERSONCOUNT</th>\n",
              "      <th>PEDCOUNT</th>\n",
              "      <th>PEDCYLCOUNT</th>\n",
              "      <th>VEHCOUNT</th>\n",
              "      <th>INJURIES</th>\n",
              "      <th>SERIOUSINJURIES</th>\n",
              "      <th>FATALITIES</th>\n",
              "      <th>INCDATE</th>\n",
              "      <th>INCDTTM</th>\n",
              "      <th>JUNCTIONTYPE</th>\n",
              "      <th>SDOT_COLCODE</th>\n",
              "      <th>SDOT_COLDESC</th>\n",
              "      <th>INATTENTIONIND</th>\n",
              "      <th>UNDERINFL</th>\n",
              "      <th>WEATHER</th>\n",
              "      <th>ROADCOND</th>\n",
              "      <th>LIGHTCOND</th>\n",
              "      <th>PEDROWNOTGRNT</th>\n",
              "      <th>SDOTCOLNUM</th>\n",
              "      <th>SPEEDING</th>\n",
              "      <th>ST_COLCODE</th>\n",
              "      <th>ST_COLDESC</th>\n",
              "      <th>SEGLANEKEY</th>\n",
              "      <th>CROSSWALKKEY</th>\n",
              "      <th>HITPARKEDCAR</th>\n",
              "    </tr>\n",
              "  </thead>\n",
              "  <tbody>\n",
              "    <tr>\n",
              "      <th>0</th>\n",
              "      <td>-122.356511</td>\n",
              "      <td>47.517361</td>\n",
              "      <td>1</td>\n",
              "      <td>327920</td>\n",
              "      <td>329420</td>\n",
              "      <td>3856094</td>\n",
              "      <td>Matched</td>\n",
              "      <td>Intersection</td>\n",
              "      <td>34911.0</td>\n",
              "      <td>17TH AVE SW AND SW ROXBURY ST</td>\n",
              "      <td></td>\n",
              "      <td>NaN</td>\n",
              "      <td>1</td>\n",
              "      <td>Property Damage Only Collision</td>\n",
              "      <td>Angles</td>\n",
              "      <td>2</td>\n",
              "      <td>0</td>\n",
              "      <td>0</td>\n",
              "      <td>2</td>\n",
              "      <td>0</td>\n",
              "      <td>0</td>\n",
              "      <td>0</td>\n",
              "      <td>2020/01/19 00:00:00+00</td>\n",
              "      <td>1/19/2020 9:01:00 AM</td>\n",
              "      <td>At Intersection (intersection related)</td>\n",
              "      <td>11.0</td>\n",
              "      <td>MOTOR VEHICLE STRUCK MOTOR VEHICLE, FRONT END ...</td>\n",
              "      <td>NaN</td>\n",
              "      <td>N</td>\n",
              "      <td>Clear</td>\n",
              "      <td>Dry</td>\n",
              "      <td>Daylight</td>\n",
              "      <td>NaN</td>\n",
              "      <td>NaN</td>\n",
              "      <td>NaN</td>\n",
              "      <td>10</td>\n",
              "      <td>Entering at angle</td>\n",
              "      <td>0</td>\n",
              "      <td>0</td>\n",
              "      <td>N</td>\n",
              "    </tr>\n",
              "    <tr>\n",
              "      <th>1</th>\n",
              "      <td>-122.361405</td>\n",
              "      <td>47.702064</td>\n",
              "      <td>2</td>\n",
              "      <td>46200</td>\n",
              "      <td>46200</td>\n",
              "      <td>1791736</td>\n",
              "      <td>Matched</td>\n",
              "      <td>Block</td>\n",
              "      <td>NaN</td>\n",
              "      <td>HOLMAN RD NW BETWEEN 4TH AVE NW AND 3RD AVE NW</td>\n",
              "      <td>NaN</td>\n",
              "      <td>NaN</td>\n",
              "      <td>1</td>\n",
              "      <td>Property Damage Only Collision</td>\n",
              "      <td>Rear Ended</td>\n",
              "      <td>2</td>\n",
              "      <td>0</td>\n",
              "      <td>0</td>\n",
              "      <td>2</td>\n",
              "      <td>0</td>\n",
              "      <td>0</td>\n",
              "      <td>0</td>\n",
              "      <td>2005/04/11 00:00:00+00</td>\n",
              "      <td>4/11/2005 6:31:00 PM</td>\n",
              "      <td>Mid-Block (not related to intersection)</td>\n",
              "      <td>14.0</td>\n",
              "      <td>MOTOR VEHICLE STRUCK MOTOR VEHICLE, REAR END</td>\n",
              "      <td>Y</td>\n",
              "      <td>0</td>\n",
              "      <td>Raining</td>\n",
              "      <td>Wet</td>\n",
              "      <td>Dusk</td>\n",
              "      <td>NaN</td>\n",
              "      <td>5101020.0</td>\n",
              "      <td>NaN</td>\n",
              "      <td>13</td>\n",
              "      <td>From same direction - both going straight - bo...</td>\n",
              "      <td>0</td>\n",
              "      <td>0</td>\n",
              "      <td>N</td>\n",
              "    </tr>\n",
              "    <tr>\n",
              "      <th>2</th>\n",
              "      <td>-122.317414</td>\n",
              "      <td>47.664028</td>\n",
              "      <td>3</td>\n",
              "      <td>1212</td>\n",
              "      <td>1212</td>\n",
              "      <td>3507861</td>\n",
              "      <td>Matched</td>\n",
              "      <td>Block</td>\n",
              "      <td>NaN</td>\n",
              "      <td>ROOSEVELT WAY NE BETWEEN NE 47TH ST AND NE 50T...</td>\n",
              "      <td></td>\n",
              "      <td>NaN</td>\n",
              "      <td>2</td>\n",
              "      <td>Injury Collision</td>\n",
              "      <td>Head On</td>\n",
              "      <td>2</td>\n",
              "      <td>0</td>\n",
              "      <td>0</td>\n",
              "      <td>2</td>\n",
              "      <td>1</td>\n",
              "      <td>0</td>\n",
              "      <td>0</td>\n",
              "      <td>2013/03/31 00:00:00+00</td>\n",
              "      <td>3/31/2013 2:09:00 AM</td>\n",
              "      <td>Mid-Block (not related to intersection)</td>\n",
              "      <td>11.0</td>\n",
              "      <td>MOTOR VEHICLE STRUCK MOTOR VEHICLE, FRONT END ...</td>\n",
              "      <td>NaN</td>\n",
              "      <td>N</td>\n",
              "      <td>Clear</td>\n",
              "      <td>Dry</td>\n",
              "      <td>Dark - Street Lights On</td>\n",
              "      <td>NaN</td>\n",
              "      <td>NaN</td>\n",
              "      <td>NaN</td>\n",
              "      <td>30</td>\n",
              "      <td>From opposite direction - all others</td>\n",
              "      <td>0</td>\n",
              "      <td>0</td>\n",
              "      <td>N</td>\n",
              "    </tr>\n",
              "    <tr>\n",
              "      <th>3</th>\n",
              "      <td>-122.318234</td>\n",
              "      <td>47.619927</td>\n",
              "      <td>4</td>\n",
              "      <td>327909</td>\n",
              "      <td>329409</td>\n",
              "      <td>EA03026</td>\n",
              "      <td>Matched</td>\n",
              "      <td>Intersection</td>\n",
              "      <td>29054.0</td>\n",
              "      <td>11TH AVE E AND E JOHN ST</td>\n",
              "      <td></td>\n",
              "      <td>NaN</td>\n",
              "      <td>2</td>\n",
              "      <td>Injury Collision</td>\n",
              "      <td>Pedestrian</td>\n",
              "      <td>3</td>\n",
              "      <td>1</td>\n",
              "      <td>0</td>\n",
              "      <td>1</td>\n",
              "      <td>1</td>\n",
              "      <td>0</td>\n",
              "      <td>0</td>\n",
              "      <td>2020/01/06 00:00:00+00</td>\n",
              "      <td>1/6/2020 5:55:00 PM</td>\n",
              "      <td>At Intersection (intersection related)</td>\n",
              "      <td>24.0</td>\n",
              "      <td>MOTOR VEHCILE STRUCK PEDESTRIAN</td>\n",
              "      <td>NaN</td>\n",
              "      <td>N</td>\n",
              "      <td>Raining</td>\n",
              "      <td>Wet</td>\n",
              "      <td>Dark - Street Lights On</td>\n",
              "      <td>NaN</td>\n",
              "      <td>NaN</td>\n",
              "      <td>NaN</td>\n",
              "      <td>0</td>\n",
              "      <td>Vehicle going straight hits pedestrian</td>\n",
              "      <td>0</td>\n",
              "      <td>0</td>\n",
              "      <td>N</td>\n",
              "    </tr>\n",
              "    <tr>\n",
              "      <th>4</th>\n",
              "      <td>-122.351724</td>\n",
              "      <td>47.560306</td>\n",
              "      <td>5</td>\n",
              "      <td>104900</td>\n",
              "      <td>104900</td>\n",
              "      <td>2671936</td>\n",
              "      <td>Matched</td>\n",
              "      <td>Block</td>\n",
              "      <td>NaN</td>\n",
              "      <td>WEST MARGINAL WAY SW BETWEEN SW ALASKA ST AND ...</td>\n",
              "      <td>NaN</td>\n",
              "      <td>NaN</td>\n",
              "      <td>2</td>\n",
              "      <td>Injury Collision</td>\n",
              "      <td>Other</td>\n",
              "      <td>2</td>\n",
              "      <td>0</td>\n",
              "      <td>0</td>\n",
              "      <td>1</td>\n",
              "      <td>1</td>\n",
              "      <td>0</td>\n",
              "      <td>0</td>\n",
              "      <td>2009/12/25 00:00:00+00</td>\n",
              "      <td>12/25/2009 7:00:00 PM</td>\n",
              "      <td>Mid-Block (not related to intersection)</td>\n",
              "      <td>28.0</td>\n",
              "      <td>MOTOR VEHICLE RAN OFF ROAD - HIT FIXED OBJECT</td>\n",
              "      <td>NaN</td>\n",
              "      <td>0</td>\n",
              "      <td>Clear</td>\n",
              "      <td>Ice</td>\n",
              "      <td>Dark - Street Lights On</td>\n",
              "      <td>NaN</td>\n",
              "      <td>9359012.0</td>\n",
              "      <td>Y</td>\n",
              "      <td>50</td>\n",
              "      <td>Fixed object</td>\n",
              "      <td>0</td>\n",
              "      <td>0</td>\n",
              "      <td>N</td>\n",
              "    </tr>\n",
              "  </tbody>\n",
              "</table>\n",
              "</div>"
            ],
            "text/plain": [
              "            X          Y  OBJECTID  ...  SEGLANEKEY  CROSSWALKKEY HITPARKEDCAR\n",
              "0 -122.356511  47.517361         1  ...           0             0            N\n",
              "1 -122.361405  47.702064         2  ...           0             0            N\n",
              "2 -122.317414  47.664028         3  ...           0             0            N\n",
              "3 -122.318234  47.619927         4  ...           0             0            N\n",
              "4 -122.351724  47.560306         5  ...           0             0            N\n",
              "\n",
              "[5 rows x 40 columns]"
            ]
          },
          "metadata": {
            "tags": []
          },
          "execution_count": 63
        }
      ]
    },
    {
      "cell_type": "code",
      "metadata": {
        "id": "nwxWKKnVnSif",
        "outputId": "6e8ccd21-c652-48a8-9012-fe6093d3b56a",
        "colab": {
          "base_uri": "https://localhost:8080/",
          "height": 34
        }
      },
      "source": [
        "dataset.shape"
      ],
      "execution_count": 64,
      "outputs": [
        {
          "output_type": "execute_result",
          "data": {
            "text/plain": [
              "(221738, 40)"
            ]
          },
          "metadata": {
            "tags": []
          },
          "execution_count": 64
        }
      ]
    },
    {
      "cell_type": "markdown",
      "metadata": {
        "id": "LiIPmvmn_J9M"
      },
      "source": [
        "# Data Cleaning"
      ]
    },
    {
      "cell_type": "markdown",
      "metadata": {
        "id": "SUBplCepmGU5"
      },
      "source": [
        "There are NaN value that filled with ' ' and \n",
        "'unknown' instead."
      ]
    },
    {
      "cell_type": "code",
      "metadata": {
        "id": "QagdEdCQmNFg"
      },
      "source": [
        "str_cols = dataset.select_dtypes(['object']).columns\n",
        "dataset[str_cols] = dataset[str_cols].replace(' ',np.nan).replace('Unknown',np.nan)"
      ],
      "execution_count": 65,
      "outputs": []
    },
    {
      "cell_type": "code",
      "metadata": {
        "id": "y33mATA1ZV57",
        "outputId": "c58ef058-e78d-4e80-c90d-bd44140a2d5c",
        "colab": {
          "base_uri": "https://localhost:8080/",
          "height": 816
        }
      },
      "source": [
        "dataset.info()"
      ],
      "execution_count": 66,
      "outputs": [
        {
          "output_type": "stream",
          "text": [
            "<class 'pandas.core.frame.DataFrame'>\n",
            "RangeIndex: 221738 entries, 0 to 221737\n",
            "Data columns (total 40 columns):\n",
            " #   Column           Non-Null Count   Dtype  \n",
            "---  ------           --------------   -----  \n",
            " 0   X                214260 non-null  float64\n",
            " 1   Y                214260 non-null  float64\n",
            " 2   OBJECTID         221738 non-null  int64  \n",
            " 3   INCKEY           221738 non-null  int64  \n",
            " 4   COLDETKEY        221738 non-null  int64  \n",
            " 5   REPORTNO         221738 non-null  object \n",
            " 6   STATUS           221738 non-null  object \n",
            " 7   ADDRTYPE         218024 non-null  object \n",
            " 8   INTKEY           72027 non-null   float64\n",
            " 9   LOCATION         217145 non-null  object \n",
            " 10  EXCEPTRSNCODE    11785 non-null   object \n",
            " 11  EXCEPTRSNDESC    11785 non-null   object \n",
            " 12  SEVERITYCODE     221737 non-null  object \n",
            " 13  SEVERITYDESC     200081 non-null  object \n",
            " 14  COLLISIONTYPE    195287 non-null  object \n",
            " 15  PERSONCOUNT      221738 non-null  int64  \n",
            " 16  PEDCOUNT         221738 non-null  int64  \n",
            " 17  PEDCYLCOUNT      221738 non-null  int64  \n",
            " 18  VEHCOUNT         221738 non-null  int64  \n",
            " 19  INJURIES         221738 non-null  int64  \n",
            " 20  SERIOUSINJURIES  221738 non-null  int64  \n",
            " 21  FATALITIES       221738 non-null  int64  \n",
            " 22  INCDATE          221738 non-null  object \n",
            " 23  INCDTTM          221738 non-null  object \n",
            " 24  JUNCTIONTYPE     209738 non-null  object \n",
            " 25  SDOT_COLCODE     221737 non-null  float64\n",
            " 26  SDOT_COLDESC     221737 non-null  object \n",
            " 27  INATTENTIONIND   30188 non-null   object \n",
            " 28  UNDERINFL        195307 non-null  object \n",
            " 29  WEATHER          179966 non-null  object \n",
            " 30  ROADCOND         180039 non-null  object \n",
            " 31  LIGHTCOND        181475 non-null  object \n",
            " 32  PEDROWNOTGRNT    5195 non-null    object \n",
            " 33  SDOTCOLNUM       127205 non-null  float64\n",
            " 34  SPEEDING         9936 non-null    object \n",
            " 35  ST_COLCODE       195287 non-null  object \n",
            " 36  ST_COLDESC       195287 non-null  object \n",
            " 37  SEGLANEKEY       221738 non-null  int64  \n",
            " 38  CROSSWALKKEY     221738 non-null  int64  \n",
            " 39  HITPARKEDCAR     221738 non-null  object \n",
            "dtypes: float64(5), int64(12), object(23)\n",
            "memory usage: 67.7+ MB\n"
          ],
          "name": "stdout"
        }
      ]
    },
    {
      "cell_type": "code",
      "metadata": {
        "id": "mvNbX0GRdRGc",
        "outputId": "573e50fe-fc6b-4c7f-bc76-8c152e7d839c",
        "colab": {
          "base_uri": "https://localhost:8080/",
          "height": 714
        }
      },
      "source": [
        "dataset.isna().sum().sort_values()"
      ],
      "execution_count": 67,
      "outputs": [
        {
          "output_type": "execute_result",
          "data": {
            "text/plain": [
              "INJURIES                0\n",
              "SEGLANEKEY              0\n",
              "INCDTTM                 0\n",
              "INCDATE                 0\n",
              "FATALITIES              0\n",
              "SERIOUSINJURIES         0\n",
              "CROSSWALKKEY            0\n",
              "VEHCOUNT                0\n",
              "PEDCYLCOUNT             0\n",
              "PEDCOUNT                0\n",
              "PERSONCOUNT             0\n",
              "HITPARKEDCAR            0\n",
              "OBJECTID                0\n",
              "INCKEY                  0\n",
              "COLDETKEY               0\n",
              "REPORTNO                0\n",
              "STATUS                  0\n",
              "SEVERITYCODE            1\n",
              "SDOT_COLDESC            1\n",
              "SDOT_COLCODE            1\n",
              "ADDRTYPE             3714\n",
              "LOCATION             4593\n",
              "X                    7478\n",
              "Y                    7478\n",
              "JUNCTIONTYPE        12000\n",
              "SEVERITYDESC        21657\n",
              "UNDERINFL           26431\n",
              "COLLISIONTYPE       26451\n",
              "ST_COLDESC          26451\n",
              "ST_COLCODE          26451\n",
              "LIGHTCOND           40263\n",
              "ROADCOND            41699\n",
              "WEATHER             41772\n",
              "SDOTCOLNUM          94533\n",
              "INTKEY             149711\n",
              "INATTENTIONIND     191550\n",
              "EXCEPTRSNDESC      209953\n",
              "EXCEPTRSNCODE      209953\n",
              "SPEEDING           211802\n",
              "PEDROWNOTGRNT      216543\n",
              "dtype: int64"
            ]
          },
          "metadata": {
            "tags": []
          },
          "execution_count": 67
        }
      ]
    },
    {
      "cell_type": "markdown",
      "metadata": {
        "id": "l3dJLXzhqkhO"
      },
      "source": [
        "In this section I will delete some features such as features with NaN values more than 50k, features with desc values that already described by code, and ID number."
      ]
    },
    {
      "cell_type": "code",
      "metadata": {
        "id": "L8lFCkN6l0Sk"
      },
      "source": [
        "rem_col = dataset.isna().sum()[dataset.isna().sum().sort_values() > 50000].index"
      ],
      "execution_count": 68,
      "outputs": []
    },
    {
      "cell_type": "code",
      "metadata": {
        "id": "ZKQosWhvl3o5"
      },
      "source": [
        "a = [col for col in dataset.columns if col not in rem_col]\n",
        "a = [col for col in dataset[a].columns if col not in np.array(['SEVERITYCODE.1','LOCATION','SEVERITYDESC','INCDATE','INCDTTM',\n",
        "                                                            'SDOT_COLDESC','ST_COLDESC','SEGLANEKEY','CROSSWALKKEY','OBJECTID','INCKEY',\n",
        "                                                            'COLDETKEY','REPORTNO','STATUS'])]"
      ],
      "execution_count": 69,
      "outputs": []
    },
    {
      "cell_type": "code",
      "metadata": {
        "id": "zpH-oz4-rip-",
        "outputId": "e82ffda6-5f15-481d-ddf8-c5afe44ac17c",
        "colab": {
          "base_uri": "https://localhost:8080/",
          "height": 394
        }
      },
      "source": [
        "df = dataset[a]\n",
        "df = df[df.SEVERITYCODE.isna()==False] #remove NaN value in label\n",
        "df = df[df.SEVERITYCODE!='0']\n",
        "df.head()"
      ],
      "execution_count": 70,
      "outputs": [
        {
          "output_type": "execute_result",
          "data": {
            "text/html": [
              "<div>\n",
              "<style scoped>\n",
              "    .dataframe tbody tr th:only-of-type {\n",
              "        vertical-align: middle;\n",
              "    }\n",
              "\n",
              "    .dataframe tbody tr th {\n",
              "        vertical-align: top;\n",
              "    }\n",
              "\n",
              "    .dataframe thead th {\n",
              "        text-align: right;\n",
              "    }\n",
              "</style>\n",
              "<table border=\"1\" class=\"dataframe\">\n",
              "  <thead>\n",
              "    <tr style=\"text-align: right;\">\n",
              "      <th></th>\n",
              "      <th>X</th>\n",
              "      <th>Y</th>\n",
              "      <th>ADDRTYPE</th>\n",
              "      <th>SEVERITYCODE</th>\n",
              "      <th>COLLISIONTYPE</th>\n",
              "      <th>PERSONCOUNT</th>\n",
              "      <th>PEDCOUNT</th>\n",
              "      <th>PEDCYLCOUNT</th>\n",
              "      <th>VEHCOUNT</th>\n",
              "      <th>INJURIES</th>\n",
              "      <th>SERIOUSINJURIES</th>\n",
              "      <th>FATALITIES</th>\n",
              "      <th>JUNCTIONTYPE</th>\n",
              "      <th>SDOT_COLCODE</th>\n",
              "      <th>UNDERINFL</th>\n",
              "      <th>WEATHER</th>\n",
              "      <th>ROADCOND</th>\n",
              "      <th>LIGHTCOND</th>\n",
              "      <th>ST_COLCODE</th>\n",
              "      <th>HITPARKEDCAR</th>\n",
              "    </tr>\n",
              "  </thead>\n",
              "  <tbody>\n",
              "    <tr>\n",
              "      <th>0</th>\n",
              "      <td>-122.356511</td>\n",
              "      <td>47.517361</td>\n",
              "      <td>Intersection</td>\n",
              "      <td>1</td>\n",
              "      <td>Angles</td>\n",
              "      <td>2</td>\n",
              "      <td>0</td>\n",
              "      <td>0</td>\n",
              "      <td>2</td>\n",
              "      <td>0</td>\n",
              "      <td>0</td>\n",
              "      <td>0</td>\n",
              "      <td>At Intersection (intersection related)</td>\n",
              "      <td>11.0</td>\n",
              "      <td>N</td>\n",
              "      <td>Clear</td>\n",
              "      <td>Dry</td>\n",
              "      <td>Daylight</td>\n",
              "      <td>10</td>\n",
              "      <td>N</td>\n",
              "    </tr>\n",
              "    <tr>\n",
              "      <th>1</th>\n",
              "      <td>-122.361405</td>\n",
              "      <td>47.702064</td>\n",
              "      <td>Block</td>\n",
              "      <td>1</td>\n",
              "      <td>Rear Ended</td>\n",
              "      <td>2</td>\n",
              "      <td>0</td>\n",
              "      <td>0</td>\n",
              "      <td>2</td>\n",
              "      <td>0</td>\n",
              "      <td>0</td>\n",
              "      <td>0</td>\n",
              "      <td>Mid-Block (not related to intersection)</td>\n",
              "      <td>14.0</td>\n",
              "      <td>0</td>\n",
              "      <td>Raining</td>\n",
              "      <td>Wet</td>\n",
              "      <td>Dusk</td>\n",
              "      <td>13</td>\n",
              "      <td>N</td>\n",
              "    </tr>\n",
              "    <tr>\n",
              "      <th>2</th>\n",
              "      <td>-122.317414</td>\n",
              "      <td>47.664028</td>\n",
              "      <td>Block</td>\n",
              "      <td>2</td>\n",
              "      <td>Head On</td>\n",
              "      <td>2</td>\n",
              "      <td>0</td>\n",
              "      <td>0</td>\n",
              "      <td>2</td>\n",
              "      <td>1</td>\n",
              "      <td>0</td>\n",
              "      <td>0</td>\n",
              "      <td>Mid-Block (not related to intersection)</td>\n",
              "      <td>11.0</td>\n",
              "      <td>N</td>\n",
              "      <td>Clear</td>\n",
              "      <td>Dry</td>\n",
              "      <td>Dark - Street Lights On</td>\n",
              "      <td>30</td>\n",
              "      <td>N</td>\n",
              "    </tr>\n",
              "    <tr>\n",
              "      <th>3</th>\n",
              "      <td>-122.318234</td>\n",
              "      <td>47.619927</td>\n",
              "      <td>Intersection</td>\n",
              "      <td>2</td>\n",
              "      <td>Pedestrian</td>\n",
              "      <td>3</td>\n",
              "      <td>1</td>\n",
              "      <td>0</td>\n",
              "      <td>1</td>\n",
              "      <td>1</td>\n",
              "      <td>0</td>\n",
              "      <td>0</td>\n",
              "      <td>At Intersection (intersection related)</td>\n",
              "      <td>24.0</td>\n",
              "      <td>N</td>\n",
              "      <td>Raining</td>\n",
              "      <td>Wet</td>\n",
              "      <td>Dark - Street Lights On</td>\n",
              "      <td>0</td>\n",
              "      <td>N</td>\n",
              "    </tr>\n",
              "    <tr>\n",
              "      <th>4</th>\n",
              "      <td>-122.351724</td>\n",
              "      <td>47.560306</td>\n",
              "      <td>Block</td>\n",
              "      <td>2</td>\n",
              "      <td>Other</td>\n",
              "      <td>2</td>\n",
              "      <td>0</td>\n",
              "      <td>0</td>\n",
              "      <td>1</td>\n",
              "      <td>1</td>\n",
              "      <td>0</td>\n",
              "      <td>0</td>\n",
              "      <td>Mid-Block (not related to intersection)</td>\n",
              "      <td>28.0</td>\n",
              "      <td>0</td>\n",
              "      <td>Clear</td>\n",
              "      <td>Ice</td>\n",
              "      <td>Dark - Street Lights On</td>\n",
              "      <td>50</td>\n",
              "      <td>N</td>\n",
              "    </tr>\n",
              "  </tbody>\n",
              "</table>\n",
              "</div>"
            ],
            "text/plain": [
              "            X          Y  ... ST_COLCODE HITPARKEDCAR\n",
              "0 -122.356511  47.517361  ...         10            N\n",
              "1 -122.361405  47.702064  ...         13            N\n",
              "2 -122.317414  47.664028  ...         30            N\n",
              "3 -122.318234  47.619927  ...          0            N\n",
              "4 -122.351724  47.560306  ...         50            N\n",
              "\n",
              "[5 rows x 20 columns]"
            ]
          },
          "metadata": {
            "tags": []
          },
          "execution_count": 70
        }
      ]
    },
    {
      "cell_type": "code",
      "metadata": {
        "id": "WMxZ6dKUuJdW",
        "outputId": "4f40a9d5-6e99-498b-9e6d-cb1020ca1e30",
        "colab": {
          "base_uri": "https://localhost:8080/",
          "height": 663
        }
      },
      "source": [
        "for i in df.columns:\n",
        "    print(f\"{i}: {df[i].unique()}\")"
      ],
      "execution_count": 71,
      "outputs": [
        {
          "output_type": "stream",
          "text": [
            "X: [-122.35651081 -122.36140492 -122.31741361 ... -122.28073397 -122.2807745\n",
            " -122.35958574]\n",
            "Y: [47.5173613  47.70206353 47.66402754 ... 47.55783671 47.55156407\n",
            " 47.65958298]\n",
            "ADDRTYPE: ['Intersection' 'Block' nan 'Alley']\n",
            "SEVERITYCODE: ['1' '2' '2b' '3']\n",
            "COLLISIONTYPE: ['Angles' 'Rear Ended' 'Head On' 'Pedestrian' 'Other' 'Cycles'\n",
            " 'Parked Car' 'Left Turn' 'Sideswipe' 'Right Turn' nan]\n",
            "PERSONCOUNT: [ 2  3  0  1  7  5  6  4  8 16 25 12 11 17  9 22 26 13 10 37 28 36 14 19\n",
            " 53 30 29 23 44 15 32 21 20 41 27 35 43 81 18 48 24 34 57 47 39 31 54 93]\n",
            "PEDCOUNT: [0 1 2 3 4 5 6]\n",
            "PEDCYLCOUNT: [0 1 2]\n",
            "VEHCOUNT: [ 2  1  3  4  0  7  5  6  8 11  9 14 10 12 13 15]\n",
            "INJURIES: [ 0  1  3  2  5  4  6  7  8 11  9 13 10 12 15 78]\n",
            "SERIOUSINJURIES: [ 0  1  2  3  5  4 41]\n",
            "FATALITIES: [0 2 1 4 3 5]\n",
            "JUNCTIONTYPE: ['At Intersection (intersection related)'\n",
            " 'Mid-Block (not related to intersection)'\n",
            " 'Mid-Block (but intersection related)' 'Driveway Junction'\n",
            " 'At Intersection (but not related to intersection)' nan 'Ramp Junction']\n",
            "SDOT_COLCODE: [11. 14. 24. 28. 18. 13. 51. 16. 26.  0. 33. 69. 12. 15. 29. 23. 55. 56.\n",
            " 34. 21. 44. 66. 31. 25. 48. 54. 32. 27. 36. 64. 47. 22. 58. 35. 61. 53.\n",
            " 46. 68. 52. 87.]\n",
            "UNDERINFL: ['N' '0' '1' nan 'Y']\n",
            "WEATHER: ['Clear' 'Raining' 'Overcast' nan 'Other' 'Snowing'\n",
            " 'Sleet/Hail/Freezing Rain' 'Fog/Smog/Smoke' 'Blowing Sand/Dirt'\n",
            " 'Severe Crosswind' 'Partly Cloudy' 'Blowing Snow']\n",
            "ROADCOND: ['Dry' 'Wet' 'Ice' nan 'Snow/Slush' 'Standing Water' 'Other'\n",
            " 'Sand/Mud/Dirt' 'Oil']\n",
            "LIGHTCOND: ['Daylight' 'Dusk' 'Dark - Street Lights On' nan 'Dawn'\n",
            " 'Dark - No Street Lights' 'Dark - Street Lights Off' 'Other'\n",
            " 'Dark - Unknown Lighting']\n",
            "ST_COLCODE: ['10' '13' '30' '0' '50' '14' '5' '32' '45' '22' '51' '15' '11' '66' '1'\n",
            " '20' '21' '23' '28' '12' '71' '16' nan '3' '2' '52' '26' '81' '19' '4'\n",
            " '27' '57' '74' '40' '25' '83' '6' '8' '24' '29' '53' '56' '72' '17' '41'\n",
            " '73' '65' '82' '49' '67' '84' '31' '42' '48' '43' '64' '54' '60' '87' '7'\n",
            " '85' '18' '88']\n",
            "HITPARKEDCAR: ['N' 'Y']\n"
          ],
          "name": "stdout"
        }
      ]
    },
    {
      "cell_type": "code",
      "metadata": {
        "id": "M_gbc-Ndh1SJ",
        "outputId": "84b7a51d-6289-4f7f-a5ee-e52dcc5acbc8",
        "colab": {
          "base_uri": "https://localhost:8080/",
          "height": 374
        }
      },
      "source": [
        "df.isna().sum()"
      ],
      "execution_count": 72,
      "outputs": [
        {
          "output_type": "execute_result",
          "data": {
            "text/plain": [
              "X                   5409\n",
              "Y                   5409\n",
              "ADDRTYPE            1933\n",
              "SEVERITYCODE           0\n",
              "COLLISIONTYPE       4796\n",
              "PERSONCOUNT            0\n",
              "PEDCOUNT               0\n",
              "PEDCYLCOUNT            0\n",
              "VEHCOUNT               0\n",
              "INJURIES               0\n",
              "SERIOUSINJURIES        0\n",
              "FATALITIES             0\n",
              "JUNCTIONTYPE        6392\n",
              "SDOT_COLCODE           0\n",
              "UNDERINFL           4776\n",
              "WEATHER            20118\n",
              "ROADCOND           20045\n",
              "LIGHTCOND          18609\n",
              "ST_COLCODE          4796\n",
              "HITPARKEDCAR           0\n",
              "dtype: int64"
            ]
          },
          "metadata": {
            "tags": []
          },
          "execution_count": 72
        }
      ]
    },
    {
      "cell_type": "code",
      "metadata": {
        "id": "TrHhxQYv8r2g",
        "outputId": "5a57b7c6-9918-4849-b501-ae6305a97245",
        "colab": {
          "base_uri": "https://localhost:8080/",
          "height": 34
        }
      },
      "source": [
        "df[a].shape"
      ],
      "execution_count": 73,
      "outputs": [
        {
          "output_type": "execute_result",
          "data": {
            "text/plain": [
              "(200081, 20)"
            ]
          },
          "metadata": {
            "tags": []
          },
          "execution_count": 73
        }
      ]
    },
    {
      "cell_type": "markdown",
      "metadata": {
        "id": "iCmFB66B9nBZ"
      },
      "source": [
        "For UNDERINFL feature, the value seems weird, so I will change '1' to Y and '0' to 'N'"
      ]
    },
    {
      "cell_type": "code",
      "metadata": {
        "id": "263tontm95J2"
      },
      "source": [
        "df['UNDERINFL'] = df['UNDERINFL'].replace(['1','0'],['Y','N'])"
      ],
      "execution_count": 74,
      "outputs": []
    },
    {
      "cell_type": "markdown",
      "metadata": {
        "id": "83wlcaVO-vRN"
      },
      "source": [
        "The Number of each category of severity code:"
      ]
    },
    {
      "cell_type": "code",
      "metadata": {
        "id": "UwGgoLnIUHJw",
        "outputId": "7352c8c3-537c-43d5-d704-f3e00933267a",
        "colab": {
          "base_uri": "https://localhost:8080/",
          "height": 796
        }
      },
      "source": [
        "df"
      ],
      "execution_count": 75,
      "outputs": [
        {
          "output_type": "execute_result",
          "data": {
            "text/html": [
              "<div>\n",
              "<style scoped>\n",
              "    .dataframe tbody tr th:only-of-type {\n",
              "        vertical-align: middle;\n",
              "    }\n",
              "\n",
              "    .dataframe tbody tr th {\n",
              "        vertical-align: top;\n",
              "    }\n",
              "\n",
              "    .dataframe thead th {\n",
              "        text-align: right;\n",
              "    }\n",
              "</style>\n",
              "<table border=\"1\" class=\"dataframe\">\n",
              "  <thead>\n",
              "    <tr style=\"text-align: right;\">\n",
              "      <th></th>\n",
              "      <th>X</th>\n",
              "      <th>Y</th>\n",
              "      <th>ADDRTYPE</th>\n",
              "      <th>SEVERITYCODE</th>\n",
              "      <th>COLLISIONTYPE</th>\n",
              "      <th>PERSONCOUNT</th>\n",
              "      <th>PEDCOUNT</th>\n",
              "      <th>PEDCYLCOUNT</th>\n",
              "      <th>VEHCOUNT</th>\n",
              "      <th>INJURIES</th>\n",
              "      <th>SERIOUSINJURIES</th>\n",
              "      <th>FATALITIES</th>\n",
              "      <th>JUNCTIONTYPE</th>\n",
              "      <th>SDOT_COLCODE</th>\n",
              "      <th>UNDERINFL</th>\n",
              "      <th>WEATHER</th>\n",
              "      <th>ROADCOND</th>\n",
              "      <th>LIGHTCOND</th>\n",
              "      <th>ST_COLCODE</th>\n",
              "      <th>HITPARKEDCAR</th>\n",
              "    </tr>\n",
              "  </thead>\n",
              "  <tbody>\n",
              "    <tr>\n",
              "      <th>0</th>\n",
              "      <td>-122.356511</td>\n",
              "      <td>47.517361</td>\n",
              "      <td>Intersection</td>\n",
              "      <td>1</td>\n",
              "      <td>Angles</td>\n",
              "      <td>2</td>\n",
              "      <td>0</td>\n",
              "      <td>0</td>\n",
              "      <td>2</td>\n",
              "      <td>0</td>\n",
              "      <td>0</td>\n",
              "      <td>0</td>\n",
              "      <td>At Intersection (intersection related)</td>\n",
              "      <td>11.0</td>\n",
              "      <td>N</td>\n",
              "      <td>Clear</td>\n",
              "      <td>Dry</td>\n",
              "      <td>Daylight</td>\n",
              "      <td>10</td>\n",
              "      <td>N</td>\n",
              "    </tr>\n",
              "    <tr>\n",
              "      <th>1</th>\n",
              "      <td>-122.361405</td>\n",
              "      <td>47.702064</td>\n",
              "      <td>Block</td>\n",
              "      <td>1</td>\n",
              "      <td>Rear Ended</td>\n",
              "      <td>2</td>\n",
              "      <td>0</td>\n",
              "      <td>0</td>\n",
              "      <td>2</td>\n",
              "      <td>0</td>\n",
              "      <td>0</td>\n",
              "      <td>0</td>\n",
              "      <td>Mid-Block (not related to intersection)</td>\n",
              "      <td>14.0</td>\n",
              "      <td>N</td>\n",
              "      <td>Raining</td>\n",
              "      <td>Wet</td>\n",
              "      <td>Dusk</td>\n",
              "      <td>13</td>\n",
              "      <td>N</td>\n",
              "    </tr>\n",
              "    <tr>\n",
              "      <th>2</th>\n",
              "      <td>-122.317414</td>\n",
              "      <td>47.664028</td>\n",
              "      <td>Block</td>\n",
              "      <td>2</td>\n",
              "      <td>Head On</td>\n",
              "      <td>2</td>\n",
              "      <td>0</td>\n",
              "      <td>0</td>\n",
              "      <td>2</td>\n",
              "      <td>1</td>\n",
              "      <td>0</td>\n",
              "      <td>0</td>\n",
              "      <td>Mid-Block (not related to intersection)</td>\n",
              "      <td>11.0</td>\n",
              "      <td>N</td>\n",
              "      <td>Clear</td>\n",
              "      <td>Dry</td>\n",
              "      <td>Dark - Street Lights On</td>\n",
              "      <td>30</td>\n",
              "      <td>N</td>\n",
              "    </tr>\n",
              "    <tr>\n",
              "      <th>3</th>\n",
              "      <td>-122.318234</td>\n",
              "      <td>47.619927</td>\n",
              "      <td>Intersection</td>\n",
              "      <td>2</td>\n",
              "      <td>Pedestrian</td>\n",
              "      <td>3</td>\n",
              "      <td>1</td>\n",
              "      <td>0</td>\n",
              "      <td>1</td>\n",
              "      <td>1</td>\n",
              "      <td>0</td>\n",
              "      <td>0</td>\n",
              "      <td>At Intersection (intersection related)</td>\n",
              "      <td>24.0</td>\n",
              "      <td>N</td>\n",
              "      <td>Raining</td>\n",
              "      <td>Wet</td>\n",
              "      <td>Dark - Street Lights On</td>\n",
              "      <td>0</td>\n",
              "      <td>N</td>\n",
              "    </tr>\n",
              "    <tr>\n",
              "      <th>4</th>\n",
              "      <td>-122.351724</td>\n",
              "      <td>47.560306</td>\n",
              "      <td>Block</td>\n",
              "      <td>2</td>\n",
              "      <td>Other</td>\n",
              "      <td>2</td>\n",
              "      <td>0</td>\n",
              "      <td>0</td>\n",
              "      <td>1</td>\n",
              "      <td>1</td>\n",
              "      <td>0</td>\n",
              "      <td>0</td>\n",
              "      <td>Mid-Block (not related to intersection)</td>\n",
              "      <td>28.0</td>\n",
              "      <td>N</td>\n",
              "      <td>Clear</td>\n",
              "      <td>Ice</td>\n",
              "      <td>Dark - Street Lights On</td>\n",
              "      <td>50</td>\n",
              "      <td>N</td>\n",
              "    </tr>\n",
              "    <tr>\n",
              "      <th>...</th>\n",
              "      <td>...</td>\n",
              "      <td>...</td>\n",
              "      <td>...</td>\n",
              "      <td>...</td>\n",
              "      <td>...</td>\n",
              "      <td>...</td>\n",
              "      <td>...</td>\n",
              "      <td>...</td>\n",
              "      <td>...</td>\n",
              "      <td>...</td>\n",
              "      <td>...</td>\n",
              "      <td>...</td>\n",
              "      <td>...</td>\n",
              "      <td>...</td>\n",
              "      <td>...</td>\n",
              "      <td>...</td>\n",
              "      <td>...</td>\n",
              "      <td>...</td>\n",
              "      <td>...</td>\n",
              "      <td>...</td>\n",
              "    </tr>\n",
              "    <tr>\n",
              "      <th>221732</th>\n",
              "      <td>-122.334832</td>\n",
              "      <td>47.522784</td>\n",
              "      <td>Block</td>\n",
              "      <td>2</td>\n",
              "      <td>Rear Ended</td>\n",
              "      <td>3</td>\n",
              "      <td>0</td>\n",
              "      <td>0</td>\n",
              "      <td>2</td>\n",
              "      <td>2</td>\n",
              "      <td>0</td>\n",
              "      <td>0</td>\n",
              "      <td>Mid-Block (but intersection related)</td>\n",
              "      <td>14.0</td>\n",
              "      <td>N</td>\n",
              "      <td>Clear</td>\n",
              "      <td>Dry</td>\n",
              "      <td>Dark - Street Lights On</td>\n",
              "      <td>14</td>\n",
              "      <td>N</td>\n",
              "    </tr>\n",
              "    <tr>\n",
              "      <th>221734</th>\n",
              "      <td>-122.379619</td>\n",
              "      <td>47.668051</td>\n",
              "      <td>Block</td>\n",
              "      <td>1</td>\n",
              "      <td>Sideswipe</td>\n",
              "      <td>2</td>\n",
              "      <td>0</td>\n",
              "      <td>0</td>\n",
              "      <td>2</td>\n",
              "      <td>0</td>\n",
              "      <td>0</td>\n",
              "      <td>0</td>\n",
              "      <td>Mid-Block (not related to intersection)</td>\n",
              "      <td>11.0</td>\n",
              "      <td>N</td>\n",
              "      <td>Clear</td>\n",
              "      <td>Dry</td>\n",
              "      <td>Daylight</td>\n",
              "      <td>71</td>\n",
              "      <td>N</td>\n",
              "    </tr>\n",
              "    <tr>\n",
              "      <th>221735</th>\n",
              "      <td>-122.312837</td>\n",
              "      <td>47.526850</td>\n",
              "      <td>Intersection</td>\n",
              "      <td>2</td>\n",
              "      <td>Angles</td>\n",
              "      <td>3</td>\n",
              "      <td>0</td>\n",
              "      <td>0</td>\n",
              "      <td>2</td>\n",
              "      <td>3</td>\n",
              "      <td>0</td>\n",
              "      <td>0</td>\n",
              "      <td>At Intersection (intersection related)</td>\n",
              "      <td>11.0</td>\n",
              "      <td>N</td>\n",
              "      <td>Clear</td>\n",
              "      <td>Dry</td>\n",
              "      <td>Daylight</td>\n",
              "      <td>10</td>\n",
              "      <td>N</td>\n",
              "    </tr>\n",
              "    <tr>\n",
              "      <th>221736</th>\n",
              "      <td>-122.285051</td>\n",
              "      <td>47.567923</td>\n",
              "      <td>Intersection</td>\n",
              "      <td>2</td>\n",
              "      <td>Angles</td>\n",
              "      <td>3</td>\n",
              "      <td>0</td>\n",
              "      <td>0</td>\n",
              "      <td>2</td>\n",
              "      <td>2</td>\n",
              "      <td>0</td>\n",
              "      <td>0</td>\n",
              "      <td>At Intersection (intersection related)</td>\n",
              "      <td>11.0</td>\n",
              "      <td>N</td>\n",
              "      <td>Clear</td>\n",
              "      <td>Dry</td>\n",
              "      <td>Daylight</td>\n",
              "      <td>10</td>\n",
              "      <td>N</td>\n",
              "    </tr>\n",
              "    <tr>\n",
              "      <th>221737</th>\n",
              "      <td>-122.363032</td>\n",
              "      <td>47.548385</td>\n",
              "      <td>Block</td>\n",
              "      <td>2</td>\n",
              "      <td>Parked Car</td>\n",
              "      <td>3</td>\n",
              "      <td>0</td>\n",
              "      <td>0</td>\n",
              "      <td>2</td>\n",
              "      <td>2</td>\n",
              "      <td>0</td>\n",
              "      <td>0</td>\n",
              "      <td>Mid-Block (not related to intersection)</td>\n",
              "      <td>11.0</td>\n",
              "      <td>N</td>\n",
              "      <td>Raining</td>\n",
              "      <td>Wet</td>\n",
              "      <td>Daylight</td>\n",
              "      <td>32</td>\n",
              "      <td>N</td>\n",
              "    </tr>\n",
              "  </tbody>\n",
              "</table>\n",
              "<p>200081 rows × 20 columns</p>\n",
              "</div>"
            ],
            "text/plain": [
              "                 X          Y  ... ST_COLCODE HITPARKEDCAR\n",
              "0      -122.356511  47.517361  ...         10            N\n",
              "1      -122.361405  47.702064  ...         13            N\n",
              "2      -122.317414  47.664028  ...         30            N\n",
              "3      -122.318234  47.619927  ...          0            N\n",
              "4      -122.351724  47.560306  ...         50            N\n",
              "...            ...        ...  ...        ...          ...\n",
              "221732 -122.334832  47.522784  ...         14            N\n",
              "221734 -122.379619  47.668051  ...         71            N\n",
              "221735 -122.312837  47.526850  ...         10            N\n",
              "221736 -122.285051  47.567923  ...         10            N\n",
              "221737 -122.363032  47.548385  ...         32            N\n",
              "\n",
              "[200081 rows x 20 columns]"
            ]
          },
          "metadata": {
            "tags": []
          },
          "execution_count": 75
        }
      ]
    },
    {
      "cell_type": "code",
      "metadata": {
        "id": "94it231f9-vs",
        "outputId": "99306418-afcf-4303-ec8e-0c4dbac8179e",
        "colab": {
          "base_uri": "https://localhost:8080/",
          "height": 102
        }
      },
      "source": [
        "df.SEVERITYCODE.value_counts()"
      ],
      "execution_count": 76,
      "outputs": [
        {
          "output_type": "execute_result",
          "data": {
            "text/plain": [
              "1     137776\n",
              "2      58842\n",
              "2b      3111\n",
              "3        352\n",
              "Name: SEVERITYCODE, dtype: int64"
            ]
          },
          "metadata": {
            "tags": []
          },
          "execution_count": 76
        }
      ]
    },
    {
      "cell_type": "markdown",
      "metadata": {
        "id": "fAqwcHod_n3N"
      },
      "source": [
        "ST_COLCODE must be int not object"
      ]
    },
    {
      "cell_type": "code",
      "metadata": {
        "id": "gCyAWrsY_tla"
      },
      "source": [
        "df['ST_COLCODE'] = df['ST_COLCODE'].astype('float')"
      ],
      "execution_count": 81,
      "outputs": []
    },
    {
      "cell_type": "markdown",
      "metadata": {
        "id": "isOcTK49-Jbu"
      },
      "source": [
        "# Exploratory Data Analysis"
      ]
    },
    {
      "cell_type": "code",
      "metadata": {
        "id": "N7IqtYGv_Nrh"
      },
      "source": [
        "import seaborn as sns\n",
        "import matplotlib.pyplot as plt"
      ],
      "execution_count": 82,
      "outputs": []
    },
    {
      "cell_type": "code",
      "metadata": {
        "id": "bVHQPxPO9jOj",
        "outputId": "54607162-9547-442d-fbdf-9fc004ccde6f",
        "colab": {
          "base_uri": "https://localhost:8080/",
          "height": 285
        }
      },
      "source": [
        "df.SEVERITYCODE.value_counts().plot(kind='bar')"
      ],
      "execution_count": 80,
      "outputs": [
        {
          "output_type": "execute_result",
          "data": {
            "text/plain": [
              "<matplotlib.axes._subplots.AxesSubplot at 0x7f3b27d37320>"
            ]
          },
          "metadata": {
            "tags": []
          },
          "execution_count": 80
        },
        {
          "output_type": "display_data",
          "data": {
            "image/png": "[encoded data removed]",
            "text/plain": [
              "<Figure size 432x288 with 1 Axes>"
            ]
          },
          "metadata": {
            "tags": [],
            "needs_background": "light"
          }
        }
      ]
    },
    {
      "cell_type": "code",
      "metadata": {
        "id": "fFgUrHC2_T9o",
        "outputId": "3ef57c97-f7a5-4be9-fd22-267c0715ca51",
        "colab": {
          "base_uri": "https://localhost:8080/",
          "height": 607
        }
      },
      "source": [
        "fig, axes = plt.subplots(3,4, figsize=(20,10))\n",
        "axes = axes.flatten()\n",
        "\n",
        "i = 0\n",
        "for t in df.select_dtypes('object').columns:\n",
        "    df[t].value_counts().plot(kind='bar', ax=axes[i], title=t)\n",
        "    i +=1"
      ],
      "execution_count": 83,
      "outputs": [
        {
          "output_type": "display_data",
          "data": {
            "image/png": "[encoded data removed]",
            "text/plain": [
              "<Figure size 1440x720 with 12 Axes>"
            ]
          },
          "metadata": {
            "tags": [],
            "needs_background": "light"
          }
        }
      ]
    },
    {
      "cell_type": "code",
      "metadata": {
        "id": "4K0WjMpRMhr3",
        "outputId": "542d4051-add6-4531-e0b2-427c714068fa",
        "colab": {
          "base_uri": "https://localhost:8080/",
          "height": 606
        }
      },
      "source": [
        "x_var = \"SEVERITYCODE\"\n",
        "fig, axes = plt.subplots(3,4, figsize=(20,10))\n",
        "axes = axes.flatten()\n",
        "\n",
        "i = 0\n",
        "for t in df.select_dtypes(['int','float']):\n",
        "    ax = sns.boxplot(x=x_var, y=t, data=df, ax=axes[i])\n",
        "    i +=1"
      ],
      "execution_count": 84,
      "outputs": [
        {
          "output_type": "display_data",
          "data": {
            "image/png": "[encoded data removed]",
            "text/plain": [
              "<Figure size 1440x720 with 12 Axes>"
            ]
          },
          "metadata": {
            "tags": [],
            "needs_background": "light"
          }
        }
      ]
    },
    {
      "cell_type": "markdown",
      "metadata": {
        "id": "DzqI35wfN8BU"
      },
      "source": [
        "# Encode Data\n",
        "In this part, I will encode the categorical text data to int using OneHotEncoder by scikit-learn."
      ]
    },
    {
      "cell_type": "code",
      "metadata": {
        "id": "x9Hz_L7jpq9x",
        "outputId": "29efa80b-165b-4718-fc1a-d8e5323b276a",
        "colab": {
          "base_uri": "https://localhost:8080/",
          "height": 394
        }
      },
      "source": [
        "df.head()"
      ],
      "execution_count": 85,
      "outputs": [
        {
          "output_type": "execute_result",
          "data": {
            "text/html": [
              "<div>\n",
              "<style scoped>\n",
              "    .dataframe tbody tr th:only-of-type {\n",
              "        vertical-align: middle;\n",
              "    }\n",
              "\n",
              "    .dataframe tbody tr th {\n",
              "        vertical-align: top;\n",
              "    }\n",
              "\n",
              "    .dataframe thead th {\n",
              "        text-align: right;\n",
              "    }\n",
              "</style>\n",
              "<table border=\"1\" class=\"dataframe\">\n",
              "  <thead>\n",
              "    <tr style=\"text-align: right;\">\n",
              "      <th></th>\n",
              "      <th>X</th>\n",
              "      <th>Y</th>\n",
              "      <th>ADDRTYPE</th>\n",
              "      <th>SEVERITYCODE</th>\n",
              "      <th>COLLISIONTYPE</th>\n",
              "      <th>PERSONCOUNT</th>\n",
              "      <th>PEDCOUNT</th>\n",
              "      <th>PEDCYLCOUNT</th>\n",
              "      <th>VEHCOUNT</th>\n",
              "      <th>INJURIES</th>\n",
              "      <th>SERIOUSINJURIES</th>\n",
              "      <th>FATALITIES</th>\n",
              "      <th>JUNCTIONTYPE</th>\n",
              "      <th>SDOT_COLCODE</th>\n",
              "      <th>UNDERINFL</th>\n",
              "      <th>WEATHER</th>\n",
              "      <th>ROADCOND</th>\n",
              "      <th>LIGHTCOND</th>\n",
              "      <th>ST_COLCODE</th>\n",
              "      <th>HITPARKEDCAR</th>\n",
              "    </tr>\n",
              "  </thead>\n",
              "  <tbody>\n",
              "    <tr>\n",
              "      <th>0</th>\n",
              "      <td>-122.356511</td>\n",
              "      <td>47.517361</td>\n",
              "      <td>Intersection</td>\n",
              "      <td>1</td>\n",
              "      <td>Angles</td>\n",
              "      <td>2</td>\n",
              "      <td>0</td>\n",
              "      <td>0</td>\n",
              "      <td>2</td>\n",
              "      <td>0</td>\n",
              "      <td>0</td>\n",
              "      <td>0</td>\n",
              "      <td>At Intersection (intersection related)</td>\n",
              "      <td>11.0</td>\n",
              "      <td>N</td>\n",
              "      <td>Clear</td>\n",
              "      <td>Dry</td>\n",
              "      <td>Daylight</td>\n",
              "      <td>10.0</td>\n",
              "      <td>N</td>\n",
              "    </tr>\n",
              "    <tr>\n",
              "      <th>1</th>\n",
              "      <td>-122.361405</td>\n",
              "      <td>47.702064</td>\n",
              "      <td>Block</td>\n",
              "      <td>1</td>\n",
              "      <td>Rear Ended</td>\n",
              "      <td>2</td>\n",
              "      <td>0</td>\n",
              "      <td>0</td>\n",
              "      <td>2</td>\n",
              "      <td>0</td>\n",
              "      <td>0</td>\n",
              "      <td>0</td>\n",
              "      <td>Mid-Block (not related to intersection)</td>\n",
              "      <td>14.0</td>\n",
              "      <td>N</td>\n",
              "      <td>Raining</td>\n",
              "      <td>Wet</td>\n",
              "      <td>Dusk</td>\n",
              "      <td>13.0</td>\n",
              "      <td>N</td>\n",
              "    </tr>\n",
              "    <tr>\n",
              "      <th>2</th>\n",
              "      <td>-122.317414</td>\n",
              "      <td>47.664028</td>\n",
              "      <td>Block</td>\n",
              "      <td>2</td>\n",
              "      <td>Head On</td>\n",
              "      <td>2</td>\n",
              "      <td>0</td>\n",
              "      <td>0</td>\n",
              "      <td>2</td>\n",
              "      <td>1</td>\n",
              "      <td>0</td>\n",
              "      <td>0</td>\n",
              "      <td>Mid-Block (not related to intersection)</td>\n",
              "      <td>11.0</td>\n",
              "      <td>N</td>\n",
              "      <td>Clear</td>\n",
              "      <td>Dry</td>\n",
              "      <td>Dark - Street Lights On</td>\n",
              "      <td>30.0</td>\n",
              "      <td>N</td>\n",
              "    </tr>\n",
              "    <tr>\n",
              "      <th>3</th>\n",
              "      <td>-122.318234</td>\n",
              "      <td>47.619927</td>\n",
              "      <td>Intersection</td>\n",
              "      <td>2</td>\n",
              "      <td>Pedestrian</td>\n",
              "      <td>3</td>\n",
              "      <td>1</td>\n",
              "      <td>0</td>\n",
              "      <td>1</td>\n",
              "      <td>1</td>\n",
              "      <td>0</td>\n",
              "      <td>0</td>\n",
              "      <td>At Intersection (intersection related)</td>\n",
              "      <td>24.0</td>\n",
              "      <td>N</td>\n",
              "      <td>Raining</td>\n",
              "      <td>Wet</td>\n",
              "      <td>Dark - Street Lights On</td>\n",
              "      <td>0.0</td>\n",
              "      <td>N</td>\n",
              "    </tr>\n",
              "    <tr>\n",
              "      <th>4</th>\n",
              "      <td>-122.351724</td>\n",
              "      <td>47.560306</td>\n",
              "      <td>Block</td>\n",
              "      <td>2</td>\n",
              "      <td>Other</td>\n",
              "      <td>2</td>\n",
              "      <td>0</td>\n",
              "      <td>0</td>\n",
              "      <td>1</td>\n",
              "      <td>1</td>\n",
              "      <td>0</td>\n",
              "      <td>0</td>\n",
              "      <td>Mid-Block (not related to intersection)</td>\n",
              "      <td>28.0</td>\n",
              "      <td>N</td>\n",
              "      <td>Clear</td>\n",
              "      <td>Ice</td>\n",
              "      <td>Dark - Street Lights On</td>\n",
              "      <td>50.0</td>\n",
              "      <td>N</td>\n",
              "    </tr>\n",
              "  </tbody>\n",
              "</table>\n",
              "</div>"
            ],
            "text/plain": [
              "            X          Y  ... ST_COLCODE HITPARKEDCAR\n",
              "0 -122.356511  47.517361  ...       10.0            N\n",
              "1 -122.361405  47.702064  ...       13.0            N\n",
              "2 -122.317414  47.664028  ...       30.0            N\n",
              "3 -122.318234  47.619927  ...        0.0            N\n",
              "4 -122.351724  47.560306  ...       50.0            N\n",
              "\n",
              "[5 rows x 20 columns]"
            ]
          },
          "metadata": {
            "tags": []
          },
          "execution_count": 85
        }
      ]
    },
    {
      "cell_type": "code",
      "metadata": {
        "id": "GxYc7jZkpH9i",
        "outputId": "283f0198-91ff-4f98-fbbb-80c4e9844639",
        "colab": {
          "base_uri": "https://localhost:8080/",
          "height": 374
        }
      },
      "source": [
        "df.isna().sum()"
      ],
      "execution_count": 86,
      "outputs": [
        {
          "output_type": "execute_result",
          "data": {
            "text/plain": [
              "X                   5409\n",
              "Y                   5409\n",
              "ADDRTYPE            1933\n",
              "SEVERITYCODE           0\n",
              "COLLISIONTYPE       4796\n",
              "PERSONCOUNT            0\n",
              "PEDCOUNT               0\n",
              "PEDCYLCOUNT            0\n",
              "VEHCOUNT               0\n",
              "INJURIES               0\n",
              "SERIOUSINJURIES        0\n",
              "FATALITIES             0\n",
              "JUNCTIONTYPE        6392\n",
              "SDOT_COLCODE           0\n",
              "UNDERINFL           4776\n",
              "WEATHER            20118\n",
              "ROADCOND           20045\n",
              "LIGHTCOND          18609\n",
              "ST_COLCODE          4796\n",
              "HITPARKEDCAR           0\n",
              "dtype: int64"
            ]
          },
          "metadata": {
            "tags": []
          },
          "execution_count": 86
        }
      ]
    },
    {
      "cell_type": "code",
      "metadata": {
        "id": "YMxc_Bb6pGaA"
      },
      "source": [
        "df_clean = df[df['X'].isna()==False]"
      ],
      "execution_count": 87,
      "outputs": []
    },
    {
      "cell_type": "code",
      "metadata": {
        "id": "YhIvs7B8eDtK",
        "outputId": "0b246f58-ca56-4e49-8fdf-cf8938d6b452",
        "colab": {
          "base_uri": "https://localhost:8080/",
          "height": 221
        }
      },
      "source": [
        "df_clean[df_clean.select_dtypes('int').columns] = df_clean.select_dtypes('int').fillna(-1)\n",
        "df_clean = df[df['X'].isna()==False]\n",
        "df_clean[df_clean.select_dtypes('float').columns] = df_clean.select_dtypes('float').fillna(-1)\n",
        "df_clean[df_clean.select_dtypes('object').columns] = df_clean.select_dtypes('object').replace(np.nan,'Unknown')"
      ],
      "execution_count": 88,
      "outputs": [
        {
          "output_type": "stream",
          "text": [
            "/usr/local/lib/python3.6/dist-packages/pandas/core/frame.py:3065: SettingWithCopyWarning: \n",
            "A value is trying to be set on a copy of a slice from a DataFrame.\n",
            "Try using .loc[row_indexer,col_indexer] = value instead\n",
            "\n",
            "See the caveats in the documentation: https://pandas.pydata.org/pandas-docs/stable/user_guide/indexing.html#returning-a-view-versus-a-copy\n",
            "  self[k1] = value[k2]\n",
            "/usr/local/lib/python3.6/dist-packages/pandas/core/frame.py:3065: SettingWithCopyWarning: \n",
            "A value is trying to be set on a copy of a slice from a DataFrame.\n",
            "Try using .loc[row_indexer,col_indexer] = value instead\n",
            "\n",
            "See the caveats in the documentation: https://pandas.pydata.org/pandas-docs/stable/user_guide/indexing.html#returning-a-view-versus-a-copy\n",
            "  self[k1] = value[k2]\n"
          ],
          "name": "stderr"
        }
      ]
    },
    {
      "cell_type": "code",
      "metadata": {
        "id": "JE8HFB06VqSy",
        "outputId": "f7b32b3a-e67b-44c9-ac4a-edba8eb1679c",
        "colab": {
          "base_uri": "https://localhost:8080/",
          "height": 374
        }
      },
      "source": [
        "df_clean.isna().sum()"
      ],
      "execution_count": 89,
      "outputs": [
        {
          "output_type": "execute_result",
          "data": {
            "text/plain": [
              "X                  0\n",
              "Y                  0\n",
              "ADDRTYPE           0\n",
              "SEVERITYCODE       0\n",
              "COLLISIONTYPE      0\n",
              "PERSONCOUNT        0\n",
              "PEDCOUNT           0\n",
              "PEDCYLCOUNT        0\n",
              "VEHCOUNT           0\n",
              "INJURIES           0\n",
              "SERIOUSINJURIES    0\n",
              "FATALITIES         0\n",
              "JUNCTIONTYPE       0\n",
              "SDOT_COLCODE       0\n",
              "UNDERINFL          0\n",
              "WEATHER            0\n",
              "ROADCOND           0\n",
              "LIGHTCOND          0\n",
              "ST_COLCODE         0\n",
              "HITPARKEDCAR       0\n",
              "dtype: int64"
            ]
          },
          "metadata": {
            "tags": []
          },
          "execution_count": 89
        }
      ]
    },
    {
      "cell_type": "code",
      "metadata": {
        "id": "h1vKZWWlrEmX"
      },
      "source": [
        "import seaborn as sns"
      ],
      "execution_count": 90,
      "outputs": []
    },
    {
      "cell_type": "code",
      "metadata": {
        "id": "HHJ-XT8ErGUu",
        "outputId": "37b8ea5e-6965-48fd-bbc2-8a734eafcc62",
        "colab": {
          "base_uri": "https://localhost:8080/",
          "height": 363
        }
      },
      "source": [
        "sns.heatmap(df_clean.corr())"
      ],
      "execution_count": 91,
      "outputs": [
        {
          "output_type": "execute_result",
          "data": {
            "text/plain": [
              "<matplotlib.axes._subplots.AxesSubplot at 0x7f3b2718d9b0>"
            ]
          },
          "metadata": {
            "tags": []
          },
          "execution_count": 91
        },
        {
          "output_type": "display_data",
          "data": {
            "image/png": "[encoded data removed]",
            "text/plain": [
              "<Figure size 432x288 with 2 Axes>"
            ]
          },
          "metadata": {
            "tags": [],
            "needs_background": "light"
          }
        }
      ]
    },
    {
      "cell_type": "code",
      "metadata": {
        "id": "Vy13hL7IVpz0"
      },
      "source": [
        "Xdata = df_clean.drop(columns='SEVERITYCODE')\n",
        "y = df_clean['SEVERITYCODE']"
      ],
      "execution_count": 92,
      "outputs": []
    },
    {
      "cell_type": "code",
      "metadata": {
        "id": "G3X1Qy1jVzC4"
      },
      "source": [
        "X = pd.get_dummies(Xdata, drop_first=True)"
      ],
      "execution_count": 93,
      "outputs": []
    },
    {
      "cell_type": "code",
      "metadata": {
        "id": "ze7-uTaWrrva"
      },
      "source": [
        "from sklearn import preprocessing\n",
        "data_clean_scaled = preprocessing.StandardScaler().fit(X).transform(X)"
      ],
      "execution_count": 94,
      "outputs": []
    },
    {
      "cell_type": "code",
      "metadata": {
        "id": "bvQo-JFqYv1I",
        "outputId": "2501c437-c642-4131-a064-0aa2441d0d54",
        "colab": {
          "base_uri": "https://localhost:8080/",
          "height": 51
        }
      },
      "source": [
        "print(f\"After Delete the NaN values: {X.shape}\")\n",
        "print(f\"Before delete the NaN values: {df.shape}\")"
      ],
      "execution_count": 95,
      "outputs": [
        {
          "output_type": "stream",
          "text": [
            "After Delete the NaN values: (194672, 58)\n",
            "Before delete the NaN values: (200081, 20)\n"
          ],
          "name": "stdout"
        }
      ]
    },
    {
      "cell_type": "markdown",
      "metadata": {
        "id": "-JDumHU0dbqL"
      },
      "source": [
        "# Modeling"
      ]
    },
    {
      "cell_type": "code",
      "metadata": {
        "id": "VmOZcfWndcae"
      },
      "source": [
        "from sklearn.neighbors import KNeighborsClassifier\n",
        "from sklearn.model_selection import train_test_split"
      ],
      "execution_count": 96,
      "outputs": []
    },
    {
      "cell_type": "code",
      "metadata": {
        "id": "g-Z-2t2GyFmX"
      },
      "source": [
        "X_train, X_test, y_train, y_test = train_test_split(data_clean_scaled,y, test_size=0.65, random_state=42, shuffle=True)"
      ],
      "execution_count": 97,
      "outputs": []
    },
    {
      "cell_type": "code",
      "metadata": {
        "id": "zXhoYJSsyYya",
        "outputId": "3abe5961-5bc7-4eb3-f52f-2cdf3494468d",
        "colab": {
          "base_uri": "https://localhost:8080/",
          "height": 102
        }
      },
      "source": [
        "y_train.value_counts()/y_train.shape[0]"
      ],
      "execution_count": 98,
      "outputs": [
        {
          "output_type": "execute_result",
          "data": {
            "text/plain": [
              "1     0.685199\n",
              "2     0.297644\n",
              "2b    0.015396\n",
              "3     0.001761\n",
              "Name: SEVERITYCODE, dtype: float64"
            ]
          },
          "metadata": {
            "tags": []
          },
          "execution_count": 98
        }
      ]
    },
    {
      "cell_type": "markdown",
      "metadata": {
        "id": "jM8_Ui5b0LY4"
      },
      "source": [
        "## Testing the best ML Classfier Model\n",
        "In this part I will use some of Classifier model such as SVM, KNN, Decision tree, etc., after that I will use Random Search method to search the best hyperparameter."
      ]
    },
    {
      "cell_type": "markdown",
      "metadata": {
        "id": "JCXYHrdZuEMl"
      },
      "source": [
        "### Random Forest"
      ]
    },
    {
      "cell_type": "code",
      "metadata": {
        "id": "M3dLl3u4uDvV",
        "outputId": "e8737410-3264-4e82-e116-fd5143a03f90",
        "colab": {
          "base_uri": "https://localhost:8080/",
          "height": 51
        }
      },
      "source": [
        "from sklearn.ensemble import RandomForestClassifier\n",
        "clf = RandomForestClassifier(random_state=0, max_depth=50)\n",
        "\n",
        "clf.fit(X_train, y_train)\n",
        "print(f\"Train accuracy: {clf.score(X_train, y_train)}\")\n",
        "print(f\"Test accuracy: {clf.score(X_test, y_test)}\")"
      ],
      "execution_count": 99,
      "outputs": [
        {
          "output_type": "stream",
          "text": [
            "Train accuracy: 0.999985323255302\n",
            "Test accuracy: 0.9994468021211187\n"
          ],
          "name": "stdout"
        }
      ]
    },
    {
      "cell_type": "code",
      "metadata": {
        "id": "rybVvHzgv5bu",
        "outputId": "2c613497-9b05-4617-ac12-3d0e39c25d8f",
        "colab": {
          "base_uri": "https://localhost:8080/",
          "height": 105
        }
      },
      "source": [
        "from sklearn.model_selection import RandomizedSearchCV\n",
        "\n",
        "t = RandomForestClassifier()\n",
        "params = {'max_depth': [None, 10,20, 50,80]}\n",
        "\n",
        "rsearch = RandomizedSearchCV(estimator=t, param_distributions=params, cv=4, random_state=0)\n",
        "rsearch.fit(X_train,y_train)\n",
        "\n",
        "print(f\"Best Parameter: {rsearch.best_params_}\")\n",
        "print(f\"Best Score: {rsearch.best_score_}\")"
      ],
      "execution_count": 100,
      "outputs": [
        {
          "output_type": "stream",
          "text": [
            "/usr/local/lib/python3.6/dist-packages/sklearn/model_selection/_search.py:281: UserWarning: The total space of parameters 5 is smaller than n_iter=10. Running 5 iterations. For exhaustive searches, use GridSearchCV.\n",
            "  % (grid_size, self.n_iter, grid_size), UserWarning)\n"
          ],
          "name": "stderr"
        },
        {
          "output_type": "stream",
          "text": [
            "Best Parameter: {'max_depth': None}\n",
            "Best Score: 0.9993101927833338\n"
          ],
          "name": "stdout"
        }
      ]
    },
    {
      "cell_type": "code",
      "metadata": {
        "id": "ySzVzzLjx2nK",
        "outputId": "1629e845-a745-4b21-9186-b93066938b9e",
        "colab": {
          "base_uri": "https://localhost:8080/",
          "height": 51
        }
      },
      "source": [
        "clf = RandomForestClassifier(random_state=0, max_depth=rsearch.best_params_['max_depth'])\n",
        "\n",
        "clf.fit(X_train, y_train)\n",
        "print(f\"Train accuracy: {clf.score(X_train, y_train)}\")\n",
        "print(f\"Test accuracy: {clf.score(X_test, y_test)}\")"
      ],
      "execution_count": 101,
      "outputs": [
        {
          "output_type": "stream",
          "text": [
            "Train accuracy: 0.999985323255302\n",
            "Test accuracy: 0.9994468021211187\n"
          ],
          "name": "stdout"
        }
      ]
    },
    {
      "cell_type": "code",
      "metadata": {
        "id": "-cAr25SZy5hK"
      },
      "source": [
        "from sklearn.metrics import  classification_report\n",
        "yhat = clf.predict(X_test)"
      ],
      "execution_count": 102,
      "outputs": []
    },
    {
      "cell_type": "code",
      "metadata": {
        "id": "3HAanfev1H7i",
        "outputId": "b4c12854-7128-4792-c4ca-0e2758e4596e",
        "colab": {
          "base_uri": "https://localhost:8080/",
          "height": 204
        }
      },
      "source": [
        "print(classification_report(y_test, yhat))"
      ],
      "execution_count": 103,
      "outputs": [
        {
          "output_type": "stream",
          "text": [
            "              precision    recall  f1-score   support\n",
            "\n",
            "           1       1.00      1.00      1.00     86815\n",
            "           2       1.00      1.00      1.00     37490\n",
            "          2b       0.99      0.99      0.99      2009\n",
            "           3       1.00      0.85      0.92       223\n",
            "\n",
            "    accuracy                           1.00    126537\n",
            "   macro avg       1.00      0.96      0.98    126537\n",
            "weighted avg       1.00      1.00      1.00    126537\n",
            "\n"
          ],
          "name": "stdout"
        }
      ]
    },
    {
      "cell_type": "markdown",
      "metadata": {
        "id": "lNTL6RKqwgrR"
      },
      "source": [
        "### Neural Networks"
      ]
    },
    {
      "cell_type": "code",
      "metadata": {
        "id": "UwsK5EA4wuW5",
        "outputId": "b28975b4-afb7-4cfb-e812-6d88d4319c8b",
        "colab": {
          "base_uri": "https://localhost:8080/",
          "height": 34
        }
      },
      "source": [
        "X_train.shape[1]"
      ],
      "execution_count": 116,
      "outputs": [
        {
          "output_type": "execute_result",
          "data": {
            "text/plain": [
              "58"
            ]
          },
          "metadata": {
            "tags": []
          },
          "execution_count": 116
        }
      ]
    },
    {
      "cell_type": "code",
      "metadata": {
        "id": "lKz8yZcr1ct7"
      },
      "source": [
        "import tensorflow as tf\n",
        "y_train_tf = tf.keras.utils.to_categorical(y_train.map({'1':0,'2':1,'2b':2,'3':3}), num_classes=4)\n",
        "y_test_tf = tf.keras.utils.to_categorical(y_test.map({'1':0,'2':1,'2b':2,'3':3}), num_classes=4)"
      ],
      "execution_count": 109,
      "outputs": []
    },
    {
      "cell_type": "code",
      "metadata": {
        "id": "6AG4OmMxGM9Z",
        "outputId": "fab63260-f07d-47dc-fe1c-e655c05a62c8",
        "colab": {
          "base_uri": "https://localhost:8080/",
          "height": 34
        }
      },
      "source": [
        "y_test_tf.shape"
      ],
      "execution_count": 117,
      "outputs": [
        {
          "output_type": "execute_result",
          "data": {
            "text/plain": [
              "(126537, 4)"
            ]
          },
          "metadata": {
            "tags": []
          },
          "execution_count": 117
        }
      ]
    },
    {
      "cell_type": "code",
      "metadata": {
        "id": "ivFNOu4bwh85",
        "outputId": "d69609f5-9600-4d2e-f6c2-d7529da27c1b",
        "colab": {
          "base_uri": "https://localhost:8080/",
          "height": 1000
        }
      },
      "source": [
        "from keras.models import Sequential\n",
        "from keras.layers import Dense\n",
        "\n",
        "model = Sequential()\n",
        "model.add(Dense(256, input_shape=(X_train.shape[1],), activation=\"relu\"))\n",
        "model.add(Dense(256, activation=\"relu\"))\n",
        "model.add(Dense(y_test_tf.shape[1]))\n",
        "\n",
        "model.compile(optimizer=\"adam\", loss=\"mse\", metrics=['accuracy'])\n",
        "\n",
        "model.fit(X_train, y_train_tf, epochs=100, batch_size=64)\n"
      ],
      "execution_count": 119,
      "outputs": [
        {
          "output_type": "stream",
          "text": [
            "Epoch 1/100\n",
            "1065/1065 [==============================] - 3s 3ms/step - loss: 0.0205 - accuracy: 0.9905\n",
            "Epoch 2/100\n",
            "1065/1065 [==============================] - 3s 3ms/step - loss: 0.0021 - accuracy: 0.9988\n",
            "Epoch 3/100\n",
            "1065/1065 [==============================] - 3s 3ms/step - loss: 0.0012 - accuracy: 0.9989\n",
            "Epoch 4/100\n",
            "1065/1065 [==============================] - 3s 3ms/step - loss: 9.3476e-04 - accuracy: 0.9989\n",
            "Epoch 5/100\n",
            "1065/1065 [==============================] - 3s 3ms/step - loss: 7.5213e-04 - accuracy: 0.9989\n",
            "Epoch 6/100\n",
            "1065/1065 [==============================] - 3s 3ms/step - loss: 6.2711e-04 - accuracy: 0.9992\n",
            "Epoch 7/100\n",
            "1065/1065 [==============================] - 3s 3ms/step - loss: 5.2021e-04 - accuracy: 0.9992\n",
            "Epoch 8/100\n",
            "1065/1065 [==============================] - 3s 3ms/step - loss: 4.1888e-04 - accuracy: 0.9994\n",
            "Epoch 9/100\n",
            "1065/1065 [==============================] - 3s 3ms/step - loss: 4.8996e-04 - accuracy: 0.9994\n",
            "Epoch 10/100\n",
            "1065/1065 [==============================] - 3s 3ms/step - loss: 3.5001e-04 - accuracy: 0.9995\n",
            "Epoch 11/100\n",
            "1065/1065 [==============================] - 3s 3ms/step - loss: 3.9589e-04 - accuracy: 0.9995\n",
            "Epoch 12/100\n",
            "1065/1065 [==============================] - 3s 3ms/step - loss: 3.1375e-04 - accuracy: 0.9995\n",
            "Epoch 13/100\n",
            "1065/1065 [==============================] - 3s 3ms/step - loss: 2.7111e-04 - accuracy: 0.9996\n",
            "Epoch 14/100\n",
            "1065/1065 [==============================] - 3s 3ms/step - loss: 2.4028e-04 - accuracy: 0.9996\n",
            "Epoch 15/100\n",
            "1065/1065 [==============================] - 3s 3ms/step - loss: 2.6833e-04 - accuracy: 0.9996\n",
            "Epoch 16/100\n",
            "1065/1065 [==============================] - 5s 4ms/step - loss: 2.2125e-04 - accuracy: 0.9996\n",
            "Epoch 17/100\n",
            "1065/1065 [==============================] - 6s 6ms/step - loss: 2.1573e-04 - accuracy: 0.9997\n",
            "Epoch 18/100\n",
            "1065/1065 [==============================] - 3s 3ms/step - loss: 1.9978e-04 - accuracy: 0.9996\n",
            "Epoch 19/100\n",
            "1065/1065 [==============================] - 3s 3ms/step - loss: 1.8292e-04 - accuracy: 0.9997\n",
            "Epoch 20/100\n",
            "1065/1065 [==============================] - 3s 3ms/step - loss: 1.8738e-04 - accuracy: 0.9997\n",
            "Epoch 21/100\n",
            "1065/1065 [==============================] - 3s 3ms/step - loss: 1.6692e-04 - accuracy: 0.9997\n",
            "Epoch 22/100\n",
            "1065/1065 [==============================] - 3s 3ms/step - loss: 1.6577e-04 - accuracy: 0.9997\n",
            "Epoch 23/100\n",
            "1065/1065 [==============================] - 3s 3ms/step - loss: 1.6277e-04 - accuracy: 0.9997\n",
            "Epoch 24/100\n",
            "1065/1065 [==============================] - 3s 3ms/step - loss: 1.4193e-04 - accuracy: 0.9997\n",
            "Epoch 25/100\n",
            "1065/1065 [==============================] - 3s 3ms/step - loss: 1.4748e-04 - accuracy: 0.9998\n",
            "Epoch 26/100\n",
            "1065/1065 [==============================] - 3s 3ms/step - loss: 1.5536e-04 - accuracy: 0.9997\n",
            "Epoch 27/100\n",
            "1065/1065 [==============================] - 3s 3ms/step - loss: 1.5023e-04 - accuracy: 0.9997\n",
            "Epoch 28/100\n",
            "1065/1065 [==============================] - 3s 3ms/step - loss: 1.5864e-04 - accuracy: 0.9997\n",
            "Epoch 29/100\n",
            "1065/1065 [==============================] - 3s 3ms/step - loss: 1.4164e-04 - accuracy: 0.9998\n",
            "Epoch 30/100\n",
            "1065/1065 [==============================] - 3s 3ms/step - loss: 1.3531e-04 - accuracy: 0.9997\n",
            "Epoch 31/100\n",
            "1065/1065 [==============================] - 3s 3ms/step - loss: 1.3800e-04 - accuracy: 0.9998\n",
            "Epoch 32/100\n",
            "1065/1065 [==============================] - 3s 3ms/step - loss: 1.2749e-04 - accuracy: 0.9998\n",
            "Epoch 33/100\n",
            "1065/1065 [==============================] - 3s 3ms/step - loss: 1.3159e-04 - accuracy: 0.9998\n",
            "Epoch 34/100\n",
            "1065/1065 [==============================] - 3s 3ms/step - loss: 1.1582e-04 - accuracy: 0.9998\n",
            "Epoch 35/100\n",
            "1065/1065 [==============================] - 3s 3ms/step - loss: 1.1723e-04 - accuracy: 0.9998\n",
            "Epoch 36/100\n",
            "1065/1065 [==============================] - 3s 3ms/step - loss: 1.2096e-04 - accuracy: 0.9998\n",
            "Epoch 37/100\n",
            "1065/1065 [==============================] - 3s 3ms/step - loss: 1.2512e-04 - accuracy: 0.9998\n",
            "Epoch 38/100\n",
            "1065/1065 [==============================] - 3s 3ms/step - loss: 1.1352e-04 - accuracy: 0.9998\n",
            "Epoch 39/100\n",
            "1065/1065 [==============================] - 3s 3ms/step - loss: 1.2309e-04 - accuracy: 0.9998\n",
            "Epoch 40/100\n",
            "1065/1065 [==============================] - 3s 3ms/step - loss: 1.2884e-04 - accuracy: 0.9997\n",
            "Epoch 41/100\n",
            "1065/1065 [==============================] - 3s 3ms/step - loss: 1.2480e-04 - accuracy: 0.9998\n",
            "Epoch 42/100\n",
            "1065/1065 [==============================] - 3s 3ms/step - loss: 1.1874e-04 - accuracy: 0.9998\n",
            "Epoch 43/100\n",
            "1065/1065 [==============================] - 3s 3ms/step - loss: 1.0741e-04 - accuracy: 0.9997\n",
            "Epoch 44/100\n",
            "1065/1065 [==============================] - 3s 3ms/step - loss: 1.1221e-04 - accuracy: 0.9998\n",
            "Epoch 45/100\n",
            "1065/1065 [==============================] - 3s 3ms/step - loss: 1.1675e-04 - accuracy: 0.9998\n",
            "Epoch 46/100\n",
            "1065/1065 [==============================] - 3s 3ms/step - loss: 1.0244e-04 - accuracy: 0.9998\n",
            "Epoch 47/100\n",
            "1065/1065 [==============================] - 3s 3ms/step - loss: 1.1837e-04 - accuracy: 0.9998\n",
            "Epoch 48/100\n",
            "1065/1065 [==============================] - 3s 3ms/step - loss: 1.0030e-04 - accuracy: 0.9998\n",
            "Epoch 49/100\n",
            "1065/1065 [==============================] - 3s 3ms/step - loss: 1.0840e-04 - accuracy: 0.9998\n",
            "Epoch 50/100\n",
            "1065/1065 [==============================] - 3s 3ms/step - loss: 1.0140e-04 - accuracy: 0.9998\n",
            "Epoch 51/100\n",
            "1065/1065 [==============================] - 3s 3ms/step - loss: 1.0393e-04 - accuracy: 0.9998\n",
            "Epoch 52/100\n",
            "1065/1065 [==============================] - 3s 3ms/step - loss: 1.0484e-04 - accuracy: 0.9998\n",
            "Epoch 53/100\n",
            "1065/1065 [==============================] - 3s 3ms/step - loss: 1.0263e-04 - accuracy: 0.9998\n",
            "Epoch 54/100\n",
            "1065/1065 [==============================] - 3s 3ms/step - loss: 8.5049e-05 - accuracy: 0.9998\n",
            "Epoch 55/100\n",
            "1065/1065 [==============================] - 3s 3ms/step - loss: 1.0107e-04 - accuracy: 0.9998\n",
            "Epoch 56/100\n",
            "1065/1065 [==============================] - 3s 3ms/step - loss: 9.8448e-05 - accuracy: 0.9998\n",
            "Epoch 57/100\n",
            "1065/1065 [==============================] - 3s 3ms/step - loss: 1.0325e-04 - accuracy: 0.9998\n",
            "Epoch 58/100\n",
            "1065/1065 [==============================] - 3s 3ms/step - loss: 9.7601e-05 - accuracy: 0.9998\n",
            "Epoch 59/100\n",
            "1065/1065 [==============================] - 3s 3ms/step - loss: 9.5502e-05 - accuracy: 0.9998\n",
            "Epoch 60/100\n",
            "1065/1065 [==============================] - 3s 3ms/step - loss: 9.5914e-05 - accuracy: 0.9998\n",
            "Epoch 61/100\n",
            "1065/1065 [==============================] - 3s 3ms/step - loss: 9.6749e-05 - accuracy: 0.9998\n",
            "Epoch 62/100\n",
            "1065/1065 [==============================] - 3s 3ms/step - loss: 9.3920e-05 - accuracy: 0.9998\n",
            "Epoch 63/100\n",
            "1065/1065 [==============================] - 3s 3ms/step - loss: 8.6770e-05 - accuracy: 0.9998\n",
            "Epoch 64/100\n",
            "1065/1065 [==============================] - 3s 3ms/step - loss: 9.0248e-05 - accuracy: 0.9998\n",
            "Epoch 65/100\n",
            "1065/1065 [==============================] - 3s 3ms/step - loss: 1.1207e-04 - accuracy: 0.9998\n",
            "Epoch 66/100\n",
            "1065/1065 [==============================] - 3s 3ms/step - loss: 8.6730e-05 - accuracy: 0.9998\n",
            "Epoch 67/100\n",
            "1065/1065 [==============================] - 3s 3ms/step - loss: 9.0947e-05 - accuracy: 0.9998\n",
            "Epoch 68/100\n",
            "1065/1065 [==============================] - 3s 3ms/step - loss: 9.3904e-05 - accuracy: 0.9998\n",
            "Epoch 69/100\n",
            "1065/1065 [==============================] - 3s 3ms/step - loss: 1.0529e-04 - accuracy: 0.9998\n",
            "Epoch 70/100\n",
            "1065/1065 [==============================] - 3s 3ms/step - loss: 9.5821e-05 - accuracy: 0.9998\n",
            "Epoch 71/100\n",
            "1065/1065 [==============================] - 3s 3ms/step - loss: 8.7926e-05 - accuracy: 0.9998\n",
            "Epoch 72/100\n",
            "1065/1065 [==============================] - 3s 3ms/step - loss: 8.7676e-05 - accuracy: 0.9998\n",
            "Epoch 73/100\n",
            "1065/1065 [==============================] - 3s 3ms/step - loss: 8.5251e-05 - accuracy: 0.9999\n",
            "Epoch 74/100\n",
            "1065/1065 [==============================] - 3s 3ms/step - loss: 9.6391e-05 - accuracy: 0.9998\n",
            "Epoch 75/100\n",
            "1065/1065 [==============================] - 3s 3ms/step - loss: 8.9820e-05 - accuracy: 0.9998\n",
            "Epoch 76/100\n",
            "1065/1065 [==============================] - 3s 3ms/step - loss: 8.9723e-05 - accuracy: 0.9998\n",
            "Epoch 77/100\n",
            "1065/1065 [==============================] - 3s 3ms/step - loss: 8.4395e-05 - accuracy: 0.9998\n",
            "Epoch 78/100\n",
            "1065/1065 [==============================] - 3s 3ms/step - loss: 9.4418e-05 - accuracy: 0.9998\n",
            "Epoch 79/100\n",
            "1065/1065 [==============================] - 3s 3ms/step - loss: 8.4719e-05 - accuracy: 0.9998\n",
            "Epoch 80/100\n",
            "1065/1065 [==============================] - 3s 3ms/step - loss: 8.7387e-05 - accuracy: 0.9998\n",
            "Epoch 81/100\n",
            "1065/1065 [==============================] - 3s 3ms/step - loss: 9.1241e-05 - accuracy: 0.9998\n",
            "Epoch 82/100\n",
            "1065/1065 [==============================] - 3s 3ms/step - loss: 8.8633e-05 - accuracy: 0.9998\n",
            "Epoch 83/100\n",
            "1065/1065 [==============================] - 3s 3ms/step - loss: 8.4331e-05 - accuracy: 0.9998\n",
            "Epoch 84/100\n",
            "1065/1065 [==============================] - 3s 3ms/step - loss: 9.6925e-05 - accuracy: 0.9998\n",
            "Epoch 85/100\n",
            "1065/1065 [==============================] - 3s 3ms/step - loss: 8.5302e-05 - accuracy: 0.9998\n",
            "Epoch 86/100\n",
            "1065/1065 [==============================] - 3s 3ms/step - loss: 8.6441e-05 - accuracy: 0.9998\n",
            "Epoch 87/100\n",
            "1065/1065 [==============================] - 3s 3ms/step - loss: 7.9428e-05 - accuracy: 0.9998\n",
            "Epoch 88/100\n",
            "1065/1065 [==============================] - 3s 3ms/step - loss: 9.1269e-05 - accuracy: 0.9998\n",
            "Epoch 89/100\n",
            "1065/1065 [==============================] - 3s 3ms/step - loss: 9.1864e-05 - accuracy: 0.9998\n",
            "Epoch 90/100\n",
            "1065/1065 [==============================] - 3s 3ms/step - loss: 8.4660e-05 - accuracy: 0.9998\n",
            "Epoch 91/100\n",
            "1065/1065 [==============================] - 3s 3ms/step - loss: 8.6226e-05 - accuracy: 0.9998\n",
            "Epoch 92/100\n",
            "1065/1065 [==============================] - 3s 3ms/step - loss: 9.4332e-05 - accuracy: 0.9998\n",
            "Epoch 93/100\n",
            "1065/1065 [==============================] - 3s 3ms/step - loss: 8.1610e-05 - accuracy: 0.9998\n",
            "Epoch 94/100\n",
            "1065/1065 [==============================] - 3s 3ms/step - loss: 8.4075e-05 - accuracy: 0.9998\n",
            "Epoch 95/100\n",
            "1065/1065 [==============================] - 3s 3ms/step - loss: 8.0074e-05 - accuracy: 0.9998\n",
            "Epoch 96/100\n",
            "1065/1065 [==============================] - 3s 3ms/step - loss: 1.0400e-04 - accuracy: 0.9998\n",
            "Epoch 97/100\n",
            "1065/1065 [==============================] - 3s 3ms/step - loss: 8.4194e-05 - accuracy: 0.9998\n",
            "Epoch 98/100\n",
            "1065/1065 [==============================] - 3s 3ms/step - loss: 8.1476e-05 - accuracy: 0.9998\n",
            "Epoch 99/100\n",
            "1065/1065 [==============================] - 3s 3ms/step - loss: 8.2705e-05 - accuracy: 0.9998\n",
            "Epoch 100/100\n",
            "1065/1065 [==============================] - 3s 3ms/step - loss: 8.0937e-05 - accuracy: 0.9998\n"
          ],
          "name": "stdout"
        },
        {
          "output_type": "execute_result",
          "data": {
            "text/plain": [
              "<tensorflow.python.keras.callbacks.History at 0x7f3b1fbc1668>"
            ]
          },
          "metadata": {
            "tags": []
          },
          "execution_count": 119
        }
      ]
    },
    {
      "cell_type": "code",
      "metadata": {
        "id": "G3ABtLOg4CJ_"
      },
      "source": [
        "yhat = model.predict(X_test)"
      ],
      "execution_count": 120,
      "outputs": []
    },
    {
      "cell_type": "code",
      "metadata": {
        "id": "CNyEkbmx6NUo"
      },
      "source": [
        "ypred = [np.argmax(i) for i in yhat]\n",
        "ypred = pd.Series(ypred).map({0:'1',1:'2',2:'2b',3:'3'})"
      ],
      "execution_count": 121,
      "outputs": []
    },
    {
      "cell_type": "code",
      "metadata": {
        "id": "oaOAePR16D07",
        "outputId": "8be1c278-53fe-44f4-9f55-1001bb86cdfc",
        "colab": {
          "base_uri": "https://localhost:8080/",
          "height": 204
        }
      },
      "source": [
        "print(classification_report(y_test.reset_index()['SEVERITYCODE'], ypred))"
      ],
      "execution_count": 122,
      "outputs": [
        {
          "output_type": "stream",
          "text": [
            "              precision    recall  f1-score   support\n",
            "\n",
            "           1       1.00      1.00      1.00     86815\n",
            "           2       1.00      1.00      1.00     37490\n",
            "          2b       1.00      0.99      0.99      2009\n",
            "           3       1.00      0.99      1.00       223\n",
            "\n",
            "    accuracy                           1.00    126537\n",
            "   macro avg       1.00      0.99      1.00    126537\n",
            "weighted avg       1.00      1.00      1.00    126537\n",
            "\n"
          ],
          "name": "stdout"
        }
      ]
    }
  ]
}