{
  "nbformat": 4,
  "nbformat_minor": 0,
  "metadata": {
    "colab": {
      "name": "Copy of capstone.ipynb",
      "provenance": [],
      "authorship_tag": "ABX9TyOPmhx2HUA1N7BDhsJt0mlZ",
      "include_colab_link": true
    },
    "kernelspec": {
      "name": "python3",
      "display_name": "Python 3"
    }
  },
  "cells": [
    {
      "cell_type": "markdown",
      "metadata": {
        "id": "view-in-github",
        "colab_type": "text"
      },
      "source": [
        "<a href=\"https://colab.research.google.com/github/mazprimrez/capstoneprojectDS/blob/master/Capstone%20Project.ipynb\" target=\"_parent\"><img src=\"https://colab.research.google.com/assets/colab-badge.svg\" alt=\"Open In Colab\"/></a>"
      ]
    },
    {
      "cell_type": "markdown",
      "metadata": {
        "id": "_t4aBVVLYfdZ"
      },
      "source": [
        "# Capstone Project\n",
        "This Notebook will be used for capstone project, a data science specialization by IBM on Coursera"
      ]
    },
    {
      "cell_type": "code",
      "metadata": {
        "id": "vWY7u4DlYZIW"
      },
      "source": [
        "import numpy as np\n",
        "import pandas as pd"
      ],
      "execution_count": 1,
      "outputs": []
    },
    {
      "cell_type": "markdown",
      "metadata": {
        "id": "iGSNDuk5ZS5r"
      },
      "source": [
        "# The Data"
      ]
    },
    {
      "cell_type": "code",
      "metadata": {
        "id": "rSVZL4CeYdZT",
        "outputId": "8fa476e4-e18e-4801-e827-9af12c36b29e",
        "colab": {
          "base_uri": "https://localhost:8080/",
          "height": 71
        }
      },
      "source": [
        "dataset = pd.read_csv('https://s3.us.cloud-object-storage.appdomain.cloud/cf-courses-data/CognitiveClass/DP0701EN/version-2/Data-Collisions.csv')"
      ],
      "execution_count": 2,
      "outputs": [
        {
          "output_type": "stream",
          "text": [
            "/usr/local/lib/python3.6/dist-packages/IPython/core/interactiveshell.py:2718: DtypeWarning: Columns (33) have mixed types.Specify dtype option on import or set low_memory=False.\n",
            "  interactivity=interactivity, compiler=compiler, result=result)\n"
          ],
          "name": "stderr"
        }
      ]
    },
    {
      "cell_type": "code",
      "metadata": {
        "id": "lbWUnhmxkrUD",
        "outputId": "5452537b-5e67-4a00-d18d-b2291ec98e8a",
        "colab": {
          "base_uri": "https://localhost:8080/",
          "height": 649
        }
      },
      "source": [
        "dataset.head()"
      ],
      "execution_count": 3,
      "outputs": [
        {
          "output_type": "execute_result",
          "data": {
            "text/html": [
              "<div>\n",
              "<style scoped>\n",
              "    .dataframe tbody tr th:only-of-type {\n",
              "        vertical-align: middle;\n",
              "    }\n",
              "\n",
              "    .dataframe tbody tr th {\n",
              "        vertical-align: top;\n",
              "    }\n",
              "\n",
              "    .dataframe thead th {\n",
              "        text-align: right;\n",
              "    }\n",
              "</style>\n",
              "<table border=\"1\" class=\"dataframe\">\n",
              "  <thead>\n",
              "    <tr style=\"text-align: right;\">\n",
              "      <th></th>\n",
              "      <th>SEVERITYCODE</th>\n",
              "      <th>X</th>\n",
              "      <th>Y</th>\n",
              "      <th>OBJECTID</th>\n",
              "      <th>INCKEY</th>\n",
              "      <th>COLDETKEY</th>\n",
              "      <th>REPORTNO</th>\n",
              "      <th>STATUS</th>\n",
              "      <th>ADDRTYPE</th>\n",
              "      <th>INTKEY</th>\n",
              "      <th>LOCATION</th>\n",
              "      <th>EXCEPTRSNCODE</th>\n",
              "      <th>EXCEPTRSNDESC</th>\n",
              "      <th>SEVERITYCODE.1</th>\n",
              "      <th>SEVERITYDESC</th>\n",
              "      <th>COLLISIONTYPE</th>\n",
              "      <th>PERSONCOUNT</th>\n",
              "      <th>PEDCOUNT</th>\n",
              "      <th>PEDCYLCOUNT</th>\n",
              "      <th>VEHCOUNT</th>\n",
              "      <th>INCDATE</th>\n",
              "      <th>INCDTTM</th>\n",
              "      <th>JUNCTIONTYPE</th>\n",
              "      <th>SDOT_COLCODE</th>\n",
              "      <th>SDOT_COLDESC</th>\n",
              "      <th>INATTENTIONIND</th>\n",
              "      <th>UNDERINFL</th>\n",
              "      <th>WEATHER</th>\n",
              "      <th>ROADCOND</th>\n",
              "      <th>LIGHTCOND</th>\n",
              "      <th>PEDROWNOTGRNT</th>\n",
              "      <th>SDOTCOLNUM</th>\n",
              "      <th>SPEEDING</th>\n",
              "      <th>ST_COLCODE</th>\n",
              "      <th>ST_COLDESC</th>\n",
              "      <th>SEGLANEKEY</th>\n",
              "      <th>CROSSWALKKEY</th>\n",
              "      <th>HITPARKEDCAR</th>\n",
              "    </tr>\n",
              "  </thead>\n",
              "  <tbody>\n",
              "    <tr>\n",
              "      <th>0</th>\n",
              "      <td>2</td>\n",
              "      <td>-122.323148</td>\n",
              "      <td>47.703140</td>\n",
              "      <td>1</td>\n",
              "      <td>1307</td>\n",
              "      <td>1307</td>\n",
              "      <td>3502005</td>\n",
              "      <td>Matched</td>\n",
              "      <td>Intersection</td>\n",
              "      <td>37475.0</td>\n",
              "      <td>5TH AVE NE AND NE 103RD ST</td>\n",
              "      <td></td>\n",
              "      <td>NaN</td>\n",
              "      <td>2</td>\n",
              "      <td>Injury Collision</td>\n",
              "      <td>Angles</td>\n",
              "      <td>2</td>\n",
              "      <td>0</td>\n",
              "      <td>0</td>\n",
              "      <td>2</td>\n",
              "      <td>2013/03/27 00:00:00+00</td>\n",
              "      <td>3/27/2013 2:54:00 PM</td>\n",
              "      <td>At Intersection (intersection related)</td>\n",
              "      <td>11</td>\n",
              "      <td>MOTOR VEHICLE STRUCK MOTOR VEHICLE, FRONT END ...</td>\n",
              "      <td>NaN</td>\n",
              "      <td>N</td>\n",
              "      <td>Overcast</td>\n",
              "      <td>Wet</td>\n",
              "      <td>Daylight</td>\n",
              "      <td>NaN</td>\n",
              "      <td>NaN</td>\n",
              "      <td>NaN</td>\n",
              "      <td>10</td>\n",
              "      <td>Entering at angle</td>\n",
              "      <td>0</td>\n",
              "      <td>0</td>\n",
              "      <td>N</td>\n",
              "    </tr>\n",
              "    <tr>\n",
              "      <th>1</th>\n",
              "      <td>1</td>\n",
              "      <td>-122.347294</td>\n",
              "      <td>47.647172</td>\n",
              "      <td>2</td>\n",
              "      <td>52200</td>\n",
              "      <td>52200</td>\n",
              "      <td>2607959</td>\n",
              "      <td>Matched</td>\n",
              "      <td>Block</td>\n",
              "      <td>NaN</td>\n",
              "      <td>AURORA BR BETWEEN RAYE ST AND BRIDGE WAY N</td>\n",
              "      <td>NaN</td>\n",
              "      <td>NaN</td>\n",
              "      <td>1</td>\n",
              "      <td>Property Damage Only Collision</td>\n",
              "      <td>Sideswipe</td>\n",
              "      <td>2</td>\n",
              "      <td>0</td>\n",
              "      <td>0</td>\n",
              "      <td>2</td>\n",
              "      <td>2006/12/20 00:00:00+00</td>\n",
              "      <td>12/20/2006 6:55:00 PM</td>\n",
              "      <td>Mid-Block (not related to intersection)</td>\n",
              "      <td>16</td>\n",
              "      <td>MOTOR VEHICLE STRUCK MOTOR VEHICLE, LEFT SIDE ...</td>\n",
              "      <td>NaN</td>\n",
              "      <td>0</td>\n",
              "      <td>Raining</td>\n",
              "      <td>Wet</td>\n",
              "      <td>Dark - Street Lights On</td>\n",
              "      <td>NaN</td>\n",
              "      <td>6354039.0</td>\n",
              "      <td>NaN</td>\n",
              "      <td>11</td>\n",
              "      <td>From same direction - both going straight - bo...</td>\n",
              "      <td>0</td>\n",
              "      <td>0</td>\n",
              "      <td>N</td>\n",
              "    </tr>\n",
              "    <tr>\n",
              "      <th>2</th>\n",
              "      <td>1</td>\n",
              "      <td>-122.334540</td>\n",
              "      <td>47.607871</td>\n",
              "      <td>3</td>\n",
              "      <td>26700</td>\n",
              "      <td>26700</td>\n",
              "      <td>1482393</td>\n",
              "      <td>Matched</td>\n",
              "      <td>Block</td>\n",
              "      <td>NaN</td>\n",
              "      <td>4TH AVE BETWEEN SENECA ST AND UNIVERSITY ST</td>\n",
              "      <td>NaN</td>\n",
              "      <td>NaN</td>\n",
              "      <td>1</td>\n",
              "      <td>Property Damage Only Collision</td>\n",
              "      <td>Parked Car</td>\n",
              "      <td>4</td>\n",
              "      <td>0</td>\n",
              "      <td>0</td>\n",
              "      <td>3</td>\n",
              "      <td>2004/11/18 00:00:00+00</td>\n",
              "      <td>11/18/2004 10:20:00 AM</td>\n",
              "      <td>Mid-Block (not related to intersection)</td>\n",
              "      <td>14</td>\n",
              "      <td>MOTOR VEHICLE STRUCK MOTOR VEHICLE, REAR END</td>\n",
              "      <td>NaN</td>\n",
              "      <td>0</td>\n",
              "      <td>Overcast</td>\n",
              "      <td>Dry</td>\n",
              "      <td>Daylight</td>\n",
              "      <td>NaN</td>\n",
              "      <td>4323031.0</td>\n",
              "      <td>NaN</td>\n",
              "      <td>32</td>\n",
              "      <td>One parked--one moving</td>\n",
              "      <td>0</td>\n",
              "      <td>0</td>\n",
              "      <td>N</td>\n",
              "    </tr>\n",
              "    <tr>\n",
              "      <th>3</th>\n",
              "      <td>1</td>\n",
              "      <td>-122.334803</td>\n",
              "      <td>47.604803</td>\n",
              "      <td>4</td>\n",
              "      <td>1144</td>\n",
              "      <td>1144</td>\n",
              "      <td>3503937</td>\n",
              "      <td>Matched</td>\n",
              "      <td>Block</td>\n",
              "      <td>NaN</td>\n",
              "      <td>2ND AVE BETWEEN MARION ST AND MADISON ST</td>\n",
              "      <td></td>\n",
              "      <td>NaN</td>\n",
              "      <td>1</td>\n",
              "      <td>Property Damage Only Collision</td>\n",
              "      <td>Other</td>\n",
              "      <td>3</td>\n",
              "      <td>0</td>\n",
              "      <td>0</td>\n",
              "      <td>3</td>\n",
              "      <td>2013/03/29 00:00:00+00</td>\n",
              "      <td>3/29/2013 9:26:00 AM</td>\n",
              "      <td>Mid-Block (not related to intersection)</td>\n",
              "      <td>11</td>\n",
              "      <td>MOTOR VEHICLE STRUCK MOTOR VEHICLE, FRONT END ...</td>\n",
              "      <td>NaN</td>\n",
              "      <td>N</td>\n",
              "      <td>Clear</td>\n",
              "      <td>Dry</td>\n",
              "      <td>Daylight</td>\n",
              "      <td>NaN</td>\n",
              "      <td>NaN</td>\n",
              "      <td>NaN</td>\n",
              "      <td>23</td>\n",
              "      <td>From same direction - all others</td>\n",
              "      <td>0</td>\n",
              "      <td>0</td>\n",
              "      <td>N</td>\n",
              "    </tr>\n",
              "    <tr>\n",
              "      <th>4</th>\n",
              "      <td>2</td>\n",
              "      <td>-122.306426</td>\n",
              "      <td>47.545739</td>\n",
              "      <td>5</td>\n",
              "      <td>17700</td>\n",
              "      <td>17700</td>\n",
              "      <td>1807429</td>\n",
              "      <td>Matched</td>\n",
              "      <td>Intersection</td>\n",
              "      <td>34387.0</td>\n",
              "      <td>SWIFT AVE S AND SWIFT AV OFF RP</td>\n",
              "      <td>NaN</td>\n",
              "      <td>NaN</td>\n",
              "      <td>2</td>\n",
              "      <td>Injury Collision</td>\n",
              "      <td>Angles</td>\n",
              "      <td>2</td>\n",
              "      <td>0</td>\n",
              "      <td>0</td>\n",
              "      <td>2</td>\n",
              "      <td>2004/01/28 00:00:00+00</td>\n",
              "      <td>1/28/2004 8:04:00 AM</td>\n",
              "      <td>At Intersection (intersection related)</td>\n",
              "      <td>11</td>\n",
              "      <td>MOTOR VEHICLE STRUCK MOTOR VEHICLE, FRONT END ...</td>\n",
              "      <td>NaN</td>\n",
              "      <td>0</td>\n",
              "      <td>Raining</td>\n",
              "      <td>Wet</td>\n",
              "      <td>Daylight</td>\n",
              "      <td>NaN</td>\n",
              "      <td>4028032.0</td>\n",
              "      <td>NaN</td>\n",
              "      <td>10</td>\n",
              "      <td>Entering at angle</td>\n",
              "      <td>0</td>\n",
              "      <td>0</td>\n",
              "      <td>N</td>\n",
              "    </tr>\n",
              "  </tbody>\n",
              "</table>\n",
              "</div>"
            ],
            "text/plain": [
              "   SEVERITYCODE           X          Y  ...  SEGLANEKEY  CROSSWALKKEY  HITPARKEDCAR\n",
              "0             2 -122.323148  47.703140  ...           0             0             N\n",
              "1             1 -122.347294  47.647172  ...           0             0             N\n",
              "2             1 -122.334540  47.607871  ...           0             0             N\n",
              "3             1 -122.334803  47.604803  ...           0             0             N\n",
              "4             2 -122.306426  47.545739  ...           0             0             N\n",
              "\n",
              "[5 rows x 38 columns]"
            ]
          },
          "metadata": {
            "tags": []
          },
          "execution_count": 3
        }
      ]
    },
    {
      "cell_type": "code",
      "metadata": {
        "id": "nwxWKKnVnSif",
        "outputId": "78b992c4-5e6a-4943-fa34-0cfe9ec1985d",
        "colab": {
          "base_uri": "https://localhost:8080/",
          "height": 34
        }
      },
      "source": [
        "dataset.shape"
      ],
      "execution_count": 4,
      "outputs": [
        {
          "output_type": "execute_result",
          "data": {
            "text/plain": [
              "(194673, 38)"
            ]
          },
          "metadata": {
            "tags": []
          },
          "execution_count": 4
        }
      ]
    },
    {
      "cell_type": "code",
      "metadata": {
        "id": "TeBgVSL4nijH",
        "outputId": "5452bd3a-cbc2-408d-abff-85f602f8d389",
        "colab": {
          "base_uri": "https://localhost:8080/",
          "height": 1000
        }
      },
      "source": [
        "for i in dataset.columns:\n",
        "    print(f\"{i}: {dataset[i].unique()}\")"
      ],
      "execution_count": 5,
      "outputs": [
        {
          "output_type": "stream",
          "text": [
            "SEVERITYCODE: [2 1]\n",
            "X: [-122.3231484 -122.3472943 -122.33454   ... -122.3927543 -122.3042172\n",
            " -122.3616722]\n",
            "Y: [47.70314032 47.64717249 47.60787143 ... 47.51527348 47.6695375\n",
            " 47.55672231]\n",
            "OBJECTID: [     1      2      3 ... 219545 219546 219547]\n",
            "INCKEY: [  1307  52200  26700 ... 311280 309514 308220]\n",
            "COLDETKEY: [  1307  52200  26700 ... 312640 310794 309500]\n",
            "REPORTNO: ['3502005' '2607959' '1482393' ... '3809984' '3810083' 'E868008']\n",
            "STATUS: ['Matched' 'Unmatched']\n",
            "ADDRTYPE: ['Intersection' 'Block' 'Alley' nan]\n",
            "INTKEY: [37475.    nan 34387. ... 36056. 38057. 26005.]\n",
            "LOCATION: ['5TH AVE NE AND NE 103RD ST' 'AURORA BR BETWEEN RAYE ST AND BRIDGE WAY N'\n",
            " '4TH AVE BETWEEN SENECA ST AND UNIVERSITY ST' ...\n",
            " '47TH AVE SW AND SW 98TH ST' 'NE PARK RD AND NE RAVENNA WB BV'\n",
            " 'PUGET BLVD SW BETWEEN SW HUDSON ST AND DEAD END 1']\n",
            "EXCEPTRSNCODE: [' ' nan 'NEI']\n",
            "EXCEPTRSNDESC: [nan 'Not Enough Information, or Insufficient Location Information']\n",
            "SEVERITYCODE.1: [2 1]\n",
            "SEVERITYDESC: ['Injury Collision' 'Property Damage Only Collision']\n",
            "COLLISIONTYPE: ['Angles' 'Sideswipe' 'Parked Car' 'Other' 'Cycles' 'Rear Ended' 'Head On'\n",
            " nan 'Left Turn' 'Pedestrian' 'Right Turn']\n",
            "PERSONCOUNT: [ 2  4  3  0  1  5  6 16  8  7 11  9 12 17 26 22 10 37 13 36 28 14 53 19\n",
            " 30 29 23 44 15 32 21 41 27 20 35 43 81 18 25 48 24 34 57 39 47 54 31]\n",
            "PEDCOUNT: [0 1 2 3 4 5 6]\n",
            "PEDCYLCOUNT: [0 1 2]\n",
            "VEHCOUNT: [ 2  3  1  0  4  7  5  6  8 11  9 10 12]\n",
            "INCDATE: ['2013/03/27 00:00:00+00' '2006/12/20 00:00:00+00'\n",
            " '2004/11/18 00:00:00+00' ... '2020/05/08 00:00:00+00'\n",
            " '2020/05/14 00:00:00+00' '2020/05/19 00:00:00+00']\n",
            "INCDTTM: ['3/27/2013 2:54:00 PM' '12/20/2006 6:55:00 PM' '11/18/2004 10:20:00 AM'\n",
            " ... '1/19/2019 9:25:00 AM' '1/15/2019 4:48:00 PM' '11/30/2018 3:45:00 PM']\n",
            "JUNCTIONTYPE: ['At Intersection (intersection related)'\n",
            " 'Mid-Block (not related to intersection)' 'Driveway Junction'\n",
            " 'Mid-Block (but intersection related)'\n",
            " 'At Intersection (but not related to intersection)' nan 'Unknown'\n",
            " 'Ramp Junction']\n",
            "SDOT_COLCODE: [11 16 14 51 13 26 28 18 34  0 24 69 12 21 23 29 27 48 15 55 33 56 54 31\n",
            " 44 32 25 66 36 64 22 58 47 61 35 53 46 68 52]\n",
            "SDOT_COLDESC: ['MOTOR VEHICLE STRUCK MOTOR VEHICLE, FRONT END AT ANGLE'\n",
            " 'MOTOR VEHICLE STRUCK MOTOR VEHICLE, LEFT SIDE SIDESWIPE'\n",
            " 'MOTOR VEHICLE STRUCK MOTOR VEHICLE, REAR END'\n",
            " 'PEDALCYCLIST STRUCK MOTOR VEHICLE FRONT END AT ANGLE'\n",
            " 'MOTOR VEHICLE STRUCK MOTOR VEHICLE, LEFT SIDE AT ANGLE'\n",
            " 'MOTOR VEHICLE STRUCK OBJECT IN ROAD'\n",
            " 'MOTOR VEHICLE RAN OFF ROAD - HIT FIXED OBJECT'\n",
            " 'MOTOR VEHICLE STRUCK PEDALCYCLIST, FRONT END AT ANGLE'\n",
            " 'DRIVERLESS VEHICLE STRUCK MOTOR VEHICLE REAR END'\n",
            " 'NOT ENOUGH INFORMATION / NOT APPLICABLE'\n",
            " 'MOTOR VEHCILE STRUCK PEDESTRIAN' 'PEDALCYCLIST OVERTURNED IN ROAD'\n",
            " 'MOTOR VEHICLE STRUCK MOTOR VEHICLE, RIGHT SIDE AT ANGLE'\n",
            " 'MOTOR VEHICLE STRUCK PEDALCYCLIST, REAR END'\n",
            " 'MOTOR VEHICLE STRUCK PEDALCYCLIST, LEFT SIDE SIDESWIPE'\n",
            " 'MOTOR VEHICLE OVERTURNED IN ROAD'\n",
            " 'MOTOR VEHICLE RAN OFF ROAD - NO COLLISION'\n",
            " 'DRIVERLESS VEHICLE RAN OFF ROAD - HIT FIXED OBJECT'\n",
            " 'MOTOR VEHICLE STRUCK MOTOR VEHICLE, RIGHT SIDE SIDESWIPE'\n",
            " 'PEDALCYCLIST STRUCK MOTOR VEHICLE RIGHT SIDE SIDESWIPE'\n",
            " 'DRIVERLESS VEHICLE STRUCK MOTOR VEHICLE LEFT SIDE AT ANGLE'\n",
            " 'PEDALCYCLIST STRUCK MOTOR VEHICLE LEFT SIDE SIDESWIPE'\n",
            " 'PEDALCYCLIST STRUCK MOTOR VEHICLE REAR END'\n",
            " 'DRIVERLESS VEHICLE STRUCK MOTOR VEHICLE FRONT END AT ANGLE'\n",
            " 'DRIVERLESS VEHICLE STRUCK PEDESTRIAN'\n",
            " 'DRIVERLESS VEHICLE STRUCK MOTOR VEHICLE RIGHT SIDE AT ANGLE '\n",
            " 'MOTOR VEHICLE STRUCK TRAIN' 'PEDALCYCLIST STRUCK OBJECT IN ROAD'\n",
            " 'DRIVERLESS VEHICLE STRUCK MOTOR VEHICLE LEFT SIDE SIDESWIPE'\n",
            " 'PEDALCYCLIST STRUCK PEDESTRIAN'\n",
            " 'MOTOR VEHICLE STRUCK PEDALCYCLIST, RIGHT SIDE SIDESWIPE'\n",
            " 'PEDALCYCLIST STRUCK PEDALCYCLIST FRONT END AT ANGLE'\n",
            " 'DRIVERLESS VEHICLE RAN OFF ROAD - NO COLLISION'\n",
            " 'PEDALCYCLIST STRUCK PEDALCYCLIST REAR END'\n",
            " 'DRIVERLESS VEHICLE STRUCK MOTOR VEHICLE RIGHT SIDE SIDESWIPE'\n",
            " 'PEDALCYCLIST STRUCK MOTOR VEHICLE LEFT SIDE AT ANGLE'\n",
            " 'DRIVERLESS VEHICLE STRUCK OBJECT IN ROADWAY'\n",
            " 'PEDALCYCLIST RAN OFF ROAD - HIT FIXED OBJECT'\n",
            " 'PEDALCYCLIST STRUCK MOTOR VEHICLE RIGHT SIDE AT ANGLE']\n",
            "INATTENTIONIND: [nan 'Y']\n",
            "UNDERINFL: ['N' '0' nan '1' 'Y']\n",
            "WEATHER: ['Overcast' 'Raining' 'Clear' nan 'Unknown' 'Other' 'Snowing'\n",
            " 'Fog/Smog/Smoke' 'Sleet/Hail/Freezing Rain' 'Blowing Sand/Dirt'\n",
            " 'Severe Crosswind' 'Partly Cloudy']\n",
            "ROADCOND: ['Wet' 'Dry' nan 'Unknown' 'Snow/Slush' 'Ice' 'Other' 'Sand/Mud/Dirt'\n",
            " 'Standing Water' 'Oil']\n",
            "LIGHTCOND: ['Daylight' 'Dark - Street Lights On' 'Dark - No Street Lights' nan\n",
            " 'Unknown' 'Dusk' 'Dawn' 'Dark - Street Lights Off' 'Other'\n",
            " 'Dark - Unknown Lighting']\n",
            "PEDROWNOTGRNT: [nan 'Y']\n",
            "SDOTCOLNUM: [      nan  6354039.  4323031. ... 13019005. 13034014. 13060031.]\n",
            "SPEEDING: [nan 'Y']\n",
            "ST_COLCODE: ['10' '11' '32' '23' '5' '22' '14' '30' ' ' '28' '51' '13' '50' '12' '45'\n",
            " '0' '20' '21' '1' '52' '16' '15' '74' '81' '26' '19' '2' '66' '71' '3'\n",
            " '24' '40' '57' '6' '83' '25' '27' '4' '72' '29' '56' '73' '41' '17' '65'\n",
            " '82' '67' '49' '84' '31' '43' '42' '48' '64' '53' 32 50 15 10 14 20 13 22\n",
            " 51 11 28 12 52 21 0 19 30 16 40 26 27 83 2 45 65 23 24 71 1 29 81 25 4 73\n",
            " 74 72 3 84 64 57 42 41 48 66 56 31 82 67 '54' '60' 53 43 87 54 '87' nan\n",
            " '7' '8' '85' '88' '18']\n",
            "ST_COLDESC: ['Entering at angle'\n",
            " 'From same direction - both going straight - both moving - sideswipe'\n",
            " 'One parked--one moving' 'From same direction - all others'\n",
            " 'Vehicle Strikes Pedalcyclist' 'One car leaving driveway access'\n",
            " 'From same direction - both going straight - one stopped - rear-end'\n",
            " 'From opposite direction - all others' nan\n",
            " 'From opposite direction - one left turn - one straight' 'Other object'\n",
            " 'From same direction - both going straight - both moving - rear-end'\n",
            " 'Fixed object'\n",
            " 'From same direction - both going straight - one stopped - sideswipe'\n",
            " 'Vehicle - Pedalcyclist' 'Vehicle going straight hits pedestrian'\n",
            " 'One car leaving parked position' 'One car entering driveway access'\n",
            " 'Vehicle turning right hits pedestrian' 'Vehicle overturned'\n",
            " 'From same direction - one right turn - one straight'\n",
            " 'From same direction - one left turn - one straight'\n",
            " 'Same direction -- both turning right -- one stopped -- rear end'\n",
            " 'Same direction -- both turning left -- both moving -- sideswipe'\n",
            " 'From opposite direction - both going straight - sideswipe'\n",
            " 'One car entering parked position' 'Vehicle turning left hits pedestrian'\n",
            " 'Vehicle Hits Other Road or Construction Machinery'\n",
            " 'Same direction -- both turning right -- both moving -- sideswipe'\n",
            " 'Vehicle backing hits pedestrian'\n",
            " 'From opposite direction - both moving - head-on'\n",
            " 'Railway Vehicle Strikes Vehicle' 'All other non-collision'\n",
            " 'Pedalcyclist Strikes Moving Vehicle'\n",
            " 'Same direction -- both turning left -- both moving -- rear end'\n",
            " 'From opposite direction - one stopped - head-on'\n",
            " 'From opposite direction - both going straight - one stopped - sideswipe'\n",
            " 'Vehicle hits Pedestrian - All Other Actions'\n",
            " 'Same direction -- both turning right -- one stopped -- sideswipe'\n",
            " 'From opposite direction - one left turn - one right turn'\n",
            " 'Breakage of any part of the vehicle resulting in injury or in further property damage'\n",
            " 'Same direction -- both turning right -- both moving -- rear end'\n",
            " 'Vehicle Strikes Railway Vehicle'\n",
            " 'Strikes or Was Struck by Object from the Load of Another Vehicle'\n",
            " 'Vehicle Struck by City Road or Construction Machinery'\n",
            " 'Same direction -- both turning left -- one stopped -- sideswipe'\n",
            " 'Vehicle Struck by Other Road or Construction Machinery'\n",
            " 'Non-domestic animal (deer, bear, elk, etc)'\n",
            " 'Same direction -- both turning left -- one stopped -- rear end'\n",
            " 'Not stated' 'Railway Vehicle Strikes Pedalcyclist'\n",
            " 'Railway Vehicle Strikes Pedestrian'\n",
            " 'Domestic animal other (cat, dog, etc)'\n",
            " 'Vehicle Hits City Road or Construction Machinery'\n",
            " 'Person fell, jumped or was pushed from vehicle'\n",
            " 'Fire started in vehicle'\n",
            " 'Vehicle Hits State Road or Construction Machinery'\n",
            " 'Vehicle Strikes All Other Non-Domestic Animal'\n",
            " 'Pedalcyclist Strikes Pedalcyclist or Pedestrian'\n",
            " 'Pedalcyclist All Other Involvements ONE UNIT - PEDALCYCLIST ONLY or PEDALCYCLIST STR'\n",
            " 'Vehicle Strikes Deer' 'All Other Multi Vehicle'\n",
            " 'Strikes or Was Struck by a Part of Another Vehicle (Not from Load)']\n",
            "SEGLANEKEY: [    0  6855 25242 ... 11583 10319 45880]\n",
            "CROSSWALKKEY: [     0 520838 521466 ... 523792 650595 523322]\n",
            "HITPARKEDCAR: ['N' 'Y']\n"
          ],
          "name": "stdout"
        }
      ]
    },
    {
      "cell_type": "markdown",
      "metadata": {
        "id": "LiIPmvmn_J9M"
      },
      "source": [
        "# Data Cleaning"
      ]
    },
    {
      "cell_type": "markdown",
      "metadata": {
        "id": "SUBplCepmGU5"
      },
      "source": [
        "There are NaN value that filled with ' ' and \n",
        "'unknown' instead."
      ]
    },
    {
      "cell_type": "code",
      "metadata": {
        "id": "QagdEdCQmNFg"
      },
      "source": [
        "str_cols = dataset.select_dtypes(['object']).columns\n",
        "dataset[str_cols] = dataset[str_cols].replace(' ',np.nan).replace('Unknown',np.nan)"
      ],
      "execution_count": 6,
      "outputs": []
    },
    {
      "cell_type": "code",
      "metadata": {
        "id": "y33mATA1ZV57",
        "outputId": "2e0b3997-c0a8-49c8-e064-2664f328c7e4",
        "colab": {
          "base_uri": "https://localhost:8080/",
          "height": 782
        }
      },
      "source": [
        "dataset.info()"
      ],
      "execution_count": 7,
      "outputs": [
        {
          "output_type": "stream",
          "text": [
            "<class 'pandas.core.frame.DataFrame'>\n",
            "RangeIndex: 194673 entries, 0 to 194672\n",
            "Data columns (total 38 columns):\n",
            " #   Column          Non-Null Count   Dtype  \n",
            "---  ------          --------------   -----  \n",
            " 0   SEVERITYCODE    194673 non-null  int64  \n",
            " 1   X               189339 non-null  float64\n",
            " 2   Y               189339 non-null  float64\n",
            " 3   OBJECTID        194673 non-null  int64  \n",
            " 4   INCKEY          194673 non-null  int64  \n",
            " 5   COLDETKEY       194673 non-null  int64  \n",
            " 6   REPORTNO        194673 non-null  object \n",
            " 7   STATUS          194673 non-null  object \n",
            " 8   ADDRTYPE        192747 non-null  object \n",
            " 9   INTKEY          65070 non-null   float64\n",
            " 10  LOCATION        191996 non-null  object \n",
            " 11  EXCEPTRSNCODE   5638 non-null    object \n",
            " 12  EXCEPTRSNDESC   5638 non-null    object \n",
            " 13  SEVERITYCODE.1  194673 non-null  int64  \n",
            " 14  SEVERITYDESC    194673 non-null  object \n",
            " 15  COLLISIONTYPE   189769 non-null  object \n",
            " 16  PERSONCOUNT     194673 non-null  int64  \n",
            " 17  PEDCOUNT        194673 non-null  int64  \n",
            " 18  PEDCYLCOUNT     194673 non-null  int64  \n",
            " 19  VEHCOUNT        194673 non-null  int64  \n",
            " 20  INCDATE         194673 non-null  object \n",
            " 21  INCDTTM         194673 non-null  object \n",
            " 22  JUNCTIONTYPE    188335 non-null  object \n",
            " 23  SDOT_COLCODE    194673 non-null  int64  \n",
            " 24  SDOT_COLDESC    194673 non-null  object \n",
            " 25  INATTENTIONIND  29805 non-null   object \n",
            " 26  UNDERINFL       189789 non-null  object \n",
            " 27  WEATHER         174501 non-null  object \n",
            " 28  ROADCOND        174583 non-null  object \n",
            " 29  LIGHTCOND       176030 non-null  object \n",
            " 30  PEDROWNOTGRNT   4667 non-null    object \n",
            " 31  SDOTCOLNUM      114936 non-null  float64\n",
            " 32  SPEEDING        9333 non-null    object \n",
            " 33  ST_COLCODE      189769 non-null  object \n",
            " 34  ST_COLDESC      189769 non-null  object \n",
            " 35  SEGLANEKEY      194673 non-null  int64  \n",
            " 36  CROSSWALKKEY    194673 non-null  int64  \n",
            " 37  HITPARKEDCAR    194673 non-null  object \n",
            "dtypes: float64(4), int64(12), object(22)\n",
            "memory usage: 56.4+ MB\n"
          ],
          "name": "stdout"
        }
      ]
    },
    {
      "cell_type": "code",
      "metadata": {
        "id": "mvNbX0GRdRGc",
        "outputId": "62d79731-ab98-47f4-8b7f-851d54bd5953",
        "colab": {
          "base_uri": "https://localhost:8080/",
          "height": 680
        }
      },
      "source": [
        "dataset.isna().sum().sort_values()"
      ],
      "execution_count": 8,
      "outputs": [
        {
          "output_type": "execute_result",
          "data": {
            "text/plain": [
              "SEVERITYCODE           0\n",
              "SEGLANEKEY             0\n",
              "SDOT_COLDESC           0\n",
              "SDOT_COLCODE           0\n",
              "INCDTTM                0\n",
              "INCDATE                0\n",
              "VEHCOUNT               0\n",
              "CROSSWALKKEY           0\n",
              "PEDCOUNT               0\n",
              "PERSONCOUNT            0\n",
              "SEVERITYDESC           0\n",
              "SEVERITYCODE.1         0\n",
              "PEDCYLCOUNT            0\n",
              "HITPARKEDCAR           0\n",
              "STATUS                 0\n",
              "REPORTNO               0\n",
              "COLDETKEY              0\n",
              "INCKEY                 0\n",
              "OBJECTID               0\n",
              "ADDRTYPE            1926\n",
              "LOCATION            2677\n",
              "UNDERINFL           4884\n",
              "ST_COLDESC          4904\n",
              "ST_COLCODE          4904\n",
              "COLLISIONTYPE       4904\n",
              "Y                   5334\n",
              "X                   5334\n",
              "JUNCTIONTYPE        6338\n",
              "LIGHTCOND          18643\n",
              "ROADCOND           20090\n",
              "WEATHER            20172\n",
              "SDOTCOLNUM         79737\n",
              "INTKEY            129603\n",
              "INATTENTIONIND    164868\n",
              "SPEEDING          185340\n",
              "EXCEPTRSNDESC     189035\n",
              "EXCEPTRSNCODE     189035\n",
              "PEDROWNOTGRNT     190006\n",
              "dtype: int64"
            ]
          },
          "metadata": {
            "tags": []
          },
          "execution_count": 8
        }
      ]
    },
    {
      "cell_type": "markdown",
      "metadata": {
        "id": "l3dJLXzhqkhO"
      },
      "source": [
        "In this section I will delete some features such as features with NaN values more than 50k, features with desc values that already described by code, and ID number."
      ]
    },
    {
      "cell_type": "code",
      "metadata": {
        "id": "L8lFCkN6l0Sk"
      },
      "source": [
        "rem_col = dataset.isna().sum()[dataset.isna().sum().sort_values() > 50000].index"
      ],
      "execution_count": 9,
      "outputs": []
    },
    {
      "cell_type": "code",
      "metadata": {
        "id": "ZKQosWhvl3o5"
      },
      "source": [
        "a = [col for col in dataset.columns if col not in rem_col]\n",
        "a = [col for col in dataset[a].columns if col not in np.array(['SEVERITYCODE.1','LOCATION','SEVERITYDESC','INCDATE','INCDTTM',\n",
        "                                                            'SDOT_COLDESC','ST_COLDESC','SEGLANEKEY','CROSSWALKKEY','OBJECTID','INCKEY',\n",
        "                                                            'COLDETKEY','REPORTNO'])]"
      ],
      "execution_count": 10,
      "outputs": []
    },
    {
      "cell_type": "code",
      "metadata": {
        "id": "zpH-oz4-rip-",
        "outputId": "95bf1168-cc12-42fc-bf9c-62de350b246d",
        "colab": {
          "base_uri": "https://localhost:8080/",
          "height": 394
        }
      },
      "source": [
        "df = dataset[a]\n",
        "df.head()"
      ],
      "execution_count": 11,
      "outputs": [
        {
          "output_type": "execute_result",
          "data": {
            "text/html": [
              "<div>\n",
              "<style scoped>\n",
              "    .dataframe tbody tr th:only-of-type {\n",
              "        vertical-align: middle;\n",
              "    }\n",
              "\n",
              "    .dataframe tbody tr th {\n",
              "        vertical-align: top;\n",
              "    }\n",
              "\n",
              "    .dataframe thead th {\n",
              "        text-align: right;\n",
              "    }\n",
              "</style>\n",
              "<table border=\"1\" class=\"dataframe\">\n",
              "  <thead>\n",
              "    <tr style=\"text-align: right;\">\n",
              "      <th></th>\n",
              "      <th>SEVERITYCODE</th>\n",
              "      <th>X</th>\n",
              "      <th>Y</th>\n",
              "      <th>STATUS</th>\n",
              "      <th>ADDRTYPE</th>\n",
              "      <th>COLLISIONTYPE</th>\n",
              "      <th>PERSONCOUNT</th>\n",
              "      <th>PEDCOUNT</th>\n",
              "      <th>PEDCYLCOUNT</th>\n",
              "      <th>VEHCOUNT</th>\n",
              "      <th>JUNCTIONTYPE</th>\n",
              "      <th>SDOT_COLCODE</th>\n",
              "      <th>UNDERINFL</th>\n",
              "      <th>WEATHER</th>\n",
              "      <th>ROADCOND</th>\n",
              "      <th>LIGHTCOND</th>\n",
              "      <th>ST_COLCODE</th>\n",
              "      <th>HITPARKEDCAR</th>\n",
              "    </tr>\n",
              "  </thead>\n",
              "  <tbody>\n",
              "    <tr>\n",
              "      <th>0</th>\n",
              "      <td>2</td>\n",
              "      <td>-122.323148</td>\n",
              "      <td>47.703140</td>\n",
              "      <td>Matched</td>\n",
              "      <td>Intersection</td>\n",
              "      <td>Angles</td>\n",
              "      <td>2</td>\n",
              "      <td>0</td>\n",
              "      <td>0</td>\n",
              "      <td>2</td>\n",
              "      <td>At Intersection (intersection related)</td>\n",
              "      <td>11</td>\n",
              "      <td>N</td>\n",
              "      <td>Overcast</td>\n",
              "      <td>Wet</td>\n",
              "      <td>Daylight</td>\n",
              "      <td>10</td>\n",
              "      <td>N</td>\n",
              "    </tr>\n",
              "    <tr>\n",
              "      <th>1</th>\n",
              "      <td>1</td>\n",
              "      <td>-122.347294</td>\n",
              "      <td>47.647172</td>\n",
              "      <td>Matched</td>\n",
              "      <td>Block</td>\n",
              "      <td>Sideswipe</td>\n",
              "      <td>2</td>\n",
              "      <td>0</td>\n",
              "      <td>0</td>\n",
              "      <td>2</td>\n",
              "      <td>Mid-Block (not related to intersection)</td>\n",
              "      <td>16</td>\n",
              "      <td>0</td>\n",
              "      <td>Raining</td>\n",
              "      <td>Wet</td>\n",
              "      <td>Dark - Street Lights On</td>\n",
              "      <td>11</td>\n",
              "      <td>N</td>\n",
              "    </tr>\n",
              "    <tr>\n",
              "      <th>2</th>\n",
              "      <td>1</td>\n",
              "      <td>-122.334540</td>\n",
              "      <td>47.607871</td>\n",
              "      <td>Matched</td>\n",
              "      <td>Block</td>\n",
              "      <td>Parked Car</td>\n",
              "      <td>4</td>\n",
              "      <td>0</td>\n",
              "      <td>0</td>\n",
              "      <td>3</td>\n",
              "      <td>Mid-Block (not related to intersection)</td>\n",
              "      <td>14</td>\n",
              "      <td>0</td>\n",
              "      <td>Overcast</td>\n",
              "      <td>Dry</td>\n",
              "      <td>Daylight</td>\n",
              "      <td>32</td>\n",
              "      <td>N</td>\n",
              "    </tr>\n",
              "    <tr>\n",
              "      <th>3</th>\n",
              "      <td>1</td>\n",
              "      <td>-122.334803</td>\n",
              "      <td>47.604803</td>\n",
              "      <td>Matched</td>\n",
              "      <td>Block</td>\n",
              "      <td>Other</td>\n",
              "      <td>3</td>\n",
              "      <td>0</td>\n",
              "      <td>0</td>\n",
              "      <td>3</td>\n",
              "      <td>Mid-Block (not related to intersection)</td>\n",
              "      <td>11</td>\n",
              "      <td>N</td>\n",
              "      <td>Clear</td>\n",
              "      <td>Dry</td>\n",
              "      <td>Daylight</td>\n",
              "      <td>23</td>\n",
              "      <td>N</td>\n",
              "    </tr>\n",
              "    <tr>\n",
              "      <th>4</th>\n",
              "      <td>2</td>\n",
              "      <td>-122.306426</td>\n",
              "      <td>47.545739</td>\n",
              "      <td>Matched</td>\n",
              "      <td>Intersection</td>\n",
              "      <td>Angles</td>\n",
              "      <td>2</td>\n",
              "      <td>0</td>\n",
              "      <td>0</td>\n",
              "      <td>2</td>\n",
              "      <td>At Intersection (intersection related)</td>\n",
              "      <td>11</td>\n",
              "      <td>0</td>\n",
              "      <td>Raining</td>\n",
              "      <td>Wet</td>\n",
              "      <td>Daylight</td>\n",
              "      <td>10</td>\n",
              "      <td>N</td>\n",
              "    </tr>\n",
              "  </tbody>\n",
              "</table>\n",
              "</div>"
            ],
            "text/plain": [
              "   SEVERITYCODE           X  ...  ST_COLCODE HITPARKEDCAR\n",
              "0             2 -122.323148  ...          10            N\n",
              "1             1 -122.347294  ...          11            N\n",
              "2             1 -122.334540  ...          32            N\n",
              "3             1 -122.334803  ...          23            N\n",
              "4             2 -122.306426  ...          10            N\n",
              "\n",
              "[5 rows x 18 columns]"
            ]
          },
          "metadata": {
            "tags": []
          },
          "execution_count": 11
        }
      ]
    },
    {
      "cell_type": "code",
      "metadata": {
        "id": "WMxZ6dKUuJdW",
        "outputId": "92ddcda7-0143-4ec9-f013-a0991d1aa317",
        "colab": {
          "base_uri": "https://localhost:8080/",
          "height": 629
        }
      },
      "source": [
        "for i in df.columns:\n",
        "    print(f\"{i}: {df[i].unique()}\")"
      ],
      "execution_count": 12,
      "outputs": [
        {
          "output_type": "stream",
          "text": [
            "SEVERITYCODE: [2 1]\n",
            "X: [-122.3231484 -122.3472943 -122.33454   ... -122.3927543 -122.3042172\n",
            " -122.3616722]\n",
            "Y: [47.70314032 47.64717249 47.60787143 ... 47.51527348 47.6695375\n",
            " 47.55672231]\n",
            "STATUS: ['Matched' 'Unmatched']\n",
            "ADDRTYPE: ['Intersection' 'Block' 'Alley' nan]\n",
            "COLLISIONTYPE: ['Angles' 'Sideswipe' 'Parked Car' 'Other' 'Cycles' 'Rear Ended' 'Head On'\n",
            " nan 'Left Turn' 'Pedestrian' 'Right Turn']\n",
            "PERSONCOUNT: [ 2  4  3  0  1  5  6 16  8  7 11  9 12 17 26 22 10 37 13 36 28 14 53 19\n",
            " 30 29 23 44 15 32 21 41 27 20 35 43 81 18 25 48 24 34 57 39 47 54 31]\n",
            "PEDCOUNT: [0 1 2 3 4 5 6]\n",
            "PEDCYLCOUNT: [0 1 2]\n",
            "VEHCOUNT: [ 2  3  1  0  4  7  5  6  8 11  9 10 12]\n",
            "JUNCTIONTYPE: ['At Intersection (intersection related)'\n",
            " 'Mid-Block (not related to intersection)' 'Driveway Junction'\n",
            " 'Mid-Block (but intersection related)'\n",
            " 'At Intersection (but not related to intersection)' nan 'Ramp Junction']\n",
            "SDOT_COLCODE: [11 16 14 51 13 26 28 18 34  0 24 69 12 21 23 29 27 48 15 55 33 56 54 31\n",
            " 44 32 25 66 36 64 22 58 47 61 35 53 46 68 52]\n",
            "UNDERINFL: ['N' '0' nan '1' 'Y']\n",
            "WEATHER: ['Overcast' 'Raining' 'Clear' nan 'Other' 'Snowing' 'Fog/Smog/Smoke'\n",
            " 'Sleet/Hail/Freezing Rain' 'Blowing Sand/Dirt' 'Severe Crosswind'\n",
            " 'Partly Cloudy']\n",
            "ROADCOND: ['Wet' 'Dry' nan 'Snow/Slush' 'Ice' 'Other' 'Sand/Mud/Dirt'\n",
            " 'Standing Water' 'Oil']\n",
            "LIGHTCOND: ['Daylight' 'Dark - Street Lights On' 'Dark - No Street Lights' nan 'Dusk'\n",
            " 'Dawn' 'Dark - Street Lights Off' 'Other' 'Dark - Unknown Lighting']\n",
            "ST_COLCODE: ['10' '11' '32' '23' '5' '22' '14' '30' nan '28' '51' '13' '50' '12' '45'\n",
            " '0' '20' '21' '1' '52' '16' '15' '74' '81' '26' '19' '2' '66' '71' '3'\n",
            " '24' '40' '57' '6' '83' '25' '27' '4' '72' '29' '56' '73' '41' '17' '65'\n",
            " '82' '67' '49' '84' '31' '43' '42' '48' '64' '53' 32 50 15 10 14 20 13 22\n",
            " 51 11 28 12 52 21 0 19 30 16 40 26 27 83 2 45 65 23 24 71 1 29 81 25 4 73\n",
            " 74 72 3 84 64 57 42 41 48 66 56 31 82 67 '54' '60' 53 43 87 54 '87' '7'\n",
            " '8' '85' '88' '18']\n",
            "HITPARKEDCAR: ['N' 'Y']\n"
          ],
          "name": "stdout"
        }
      ]
    },
    {
      "cell_type": "code",
      "metadata": {
        "id": "TrHhxQYv8r2g",
        "outputId": "da704636-07ae-4178-fd8a-b7586c9f0544",
        "colab": {
          "base_uri": "https://localhost:8080/",
          "height": 34
        }
      },
      "source": [
        "df[a].shape"
      ],
      "execution_count": 13,
      "outputs": [
        {
          "output_type": "execute_result",
          "data": {
            "text/plain": [
              "(194673, 18)"
            ]
          },
          "metadata": {
            "tags": []
          },
          "execution_count": 13
        }
      ]
    },
    {
      "cell_type": "markdown",
      "metadata": {
        "id": "iCmFB66B9nBZ"
      },
      "source": [
        "For UNDERINFL feature, the value seems weird, so I will change '1' to Y and '0' to 'N'"
      ]
    },
    {
      "cell_type": "code",
      "metadata": {
        "id": "263tontm95J2",
        "outputId": "03e08304-72cb-4dca-a534-851768aa9bc2",
        "colab": {
          "base_uri": "https://localhost:8080/",
          "height": 119
        }
      },
      "source": [
        "df['UNDERINFL'] = df['UNDERINFL'].replace(['1','0'],['Y','N'])"
      ],
      "execution_count": 14,
      "outputs": [
        {
          "output_type": "stream",
          "text": [
            "/usr/local/lib/python3.6/dist-packages/ipykernel_launcher.py:1: SettingWithCopyWarning: \n",
            "A value is trying to be set on a copy of a slice from a DataFrame.\n",
            "Try using .loc[row_indexer,col_indexer] = value instead\n",
            "\n",
            "See the caveats in the documentation: https://pandas.pydata.org/pandas-docs/stable/user_guide/indexing.html#returning-a-view-versus-a-copy\n",
            "  \"\"\"Entry point for launching an IPython kernel.\n"
          ],
          "name": "stderr"
        }
      ]
    },
    {
      "cell_type": "markdown",
      "metadata": {
        "id": "83wlcaVO-vRN"
      },
      "source": [
        "The Number of each category of severity code:"
      ]
    },
    {
      "cell_type": "code",
      "metadata": {
        "id": "94it231f9-vs",
        "outputId": "7dc3d2cc-4d1f-4d93-e28f-b3e833dbb0a3",
        "colab": {
          "base_uri": "https://localhost:8080/",
          "height": 68
        }
      },
      "source": [
        "df.iloc[:,0].value_counts()"
      ],
      "execution_count": 15,
      "outputs": [
        {
          "output_type": "execute_result",
          "data": {
            "text/plain": [
              "1    136485\n",
              "2     58188\n",
              "Name: SEVERITYCODE, dtype: int64"
            ]
          },
          "metadata": {
            "tags": []
          },
          "execution_count": 15
        }
      ]
    },
    {
      "cell_type": "code",
      "metadata": {
        "id": "AM1r924Z_Zvn",
        "outputId": "6f4c1157-c659-4394-9003-123927515b97",
        "colab": {
          "base_uri": "https://localhost:8080/",
          "height": 419
        }
      },
      "source": [
        "df.select_dtypes('float')"
      ],
      "execution_count": 16,
      "outputs": [
        {
          "output_type": "execute_result",
          "data": {
            "text/html": [
              "<div>\n",
              "<style scoped>\n",
              "    .dataframe tbody tr th:only-of-type {\n",
              "        vertical-align: middle;\n",
              "    }\n",
              "\n",
              "    .dataframe tbody tr th {\n",
              "        vertical-align: top;\n",
              "    }\n",
              "\n",
              "    .dataframe thead th {\n",
              "        text-align: right;\n",
              "    }\n",
              "</style>\n",
              "<table border=\"1\" class=\"dataframe\">\n",
              "  <thead>\n",
              "    <tr style=\"text-align: right;\">\n",
              "      <th></th>\n",
              "      <th>X</th>\n",
              "      <th>Y</th>\n",
              "    </tr>\n",
              "  </thead>\n",
              "  <tbody>\n",
              "    <tr>\n",
              "      <th>0</th>\n",
              "      <td>-122.323148</td>\n",
              "      <td>47.703140</td>\n",
              "    </tr>\n",
              "    <tr>\n",
              "      <th>1</th>\n",
              "      <td>-122.347294</td>\n",
              "      <td>47.647172</td>\n",
              "    </tr>\n",
              "    <tr>\n",
              "      <th>2</th>\n",
              "      <td>-122.334540</td>\n",
              "      <td>47.607871</td>\n",
              "    </tr>\n",
              "    <tr>\n",
              "      <th>3</th>\n",
              "      <td>-122.334803</td>\n",
              "      <td>47.604803</td>\n",
              "    </tr>\n",
              "    <tr>\n",
              "      <th>4</th>\n",
              "      <td>-122.306426</td>\n",
              "      <td>47.545739</td>\n",
              "    </tr>\n",
              "    <tr>\n",
              "      <th>...</th>\n",
              "      <td>...</td>\n",
              "      <td>...</td>\n",
              "    </tr>\n",
              "    <tr>\n",
              "      <th>194668</th>\n",
              "      <td>-122.290826</td>\n",
              "      <td>47.565408</td>\n",
              "    </tr>\n",
              "    <tr>\n",
              "      <th>194669</th>\n",
              "      <td>-122.344526</td>\n",
              "      <td>47.690924</td>\n",
              "    </tr>\n",
              "    <tr>\n",
              "      <th>194670</th>\n",
              "      <td>-122.306689</td>\n",
              "      <td>47.683047</td>\n",
              "    </tr>\n",
              "    <tr>\n",
              "      <th>194671</th>\n",
              "      <td>-122.355317</td>\n",
              "      <td>47.678734</td>\n",
              "    </tr>\n",
              "    <tr>\n",
              "      <th>194672</th>\n",
              "      <td>-122.289360</td>\n",
              "      <td>47.611017</td>\n",
              "    </tr>\n",
              "  </tbody>\n",
              "</table>\n",
              "<p>194673 rows × 2 columns</p>\n",
              "</div>"
            ],
            "text/plain": [
              "                 X          Y\n",
              "0      -122.323148  47.703140\n",
              "1      -122.347294  47.647172\n",
              "2      -122.334540  47.607871\n",
              "3      -122.334803  47.604803\n",
              "4      -122.306426  47.545739\n",
              "...            ...        ...\n",
              "194668 -122.290826  47.565408\n",
              "194669 -122.344526  47.690924\n",
              "194670 -122.306689  47.683047\n",
              "194671 -122.355317  47.678734\n",
              "194672 -122.289360  47.611017\n",
              "\n",
              "[194673 rows x 2 columns]"
            ]
          },
          "metadata": {
            "tags": []
          },
          "execution_count": 16
        }
      ]
    },
    {
      "cell_type": "markdown",
      "metadata": {
        "id": "fAqwcHod_n3N"
      },
      "source": [
        "ST_COLCODE must be int not object"
      ]
    },
    {
      "cell_type": "code",
      "metadata": {
        "id": "gCyAWrsY_tla",
        "outputId": "ed524a71-aaf4-4ef3-c35e-e61afc4807ec",
        "colab": {
          "base_uri": "https://localhost:8080/",
          "height": 119
        }
      },
      "source": [
        "df['ST_COLCODE'] = df['ST_COLCODE'].astype('float')"
      ],
      "execution_count": 17,
      "outputs": [
        {
          "output_type": "stream",
          "text": [
            "/usr/local/lib/python3.6/dist-packages/ipykernel_launcher.py:1: SettingWithCopyWarning: \n",
            "A value is trying to be set on a copy of a slice from a DataFrame.\n",
            "Try using .loc[row_indexer,col_indexer] = value instead\n",
            "\n",
            "See the caveats in the documentation: https://pandas.pydata.org/pandas-docs/stable/user_guide/indexing.html#returning-a-view-versus-a-copy\n",
            "  \"\"\"Entry point for launching an IPython kernel.\n"
          ],
          "name": "stderr"
        }
      ]
    },
    {
      "cell_type": "markdown",
      "metadata": {
        "id": "isOcTK49-Jbu"
      },
      "source": [
        "# Exploratory Data Analysis"
      ]
    },
    {
      "cell_type": "code",
      "metadata": {
        "id": "N7IqtYGv_Nrh",
        "outputId": "61c479f0-5508-4db4-c011-611f1da0633e",
        "colab": {
          "base_uri": "https://localhost:8080/",
          "height": 71
        }
      },
      "source": [
        "import seaborn as sns\n",
        "import matplotlib.pyplot as plt"
      ],
      "execution_count": 18,
      "outputs": [
        {
          "output_type": "stream",
          "text": [
            "/usr/local/lib/python3.6/dist-packages/statsmodels/tools/_testing.py:19: FutureWarning: pandas.util.testing is deprecated. Use the functions in the public API at pandas.testing instead.\n",
            "  import pandas.util.testing as tm\n"
          ],
          "name": "stderr"
        }
      ]
    },
    {
      "cell_type": "code",
      "metadata": {
        "id": "bHR7FlLzJsf1",
        "outputId": "bbdef1c3-6842-405a-b9a4-aa97ad049606",
        "colab": {
          "base_uri": "https://localhost:8080/",
          "height": 779
        }
      },
      "source": [
        "df_clean"
      ],
      "execution_count": 79,
      "outputs": [
        {
          "output_type": "execute_result",
          "data": {
            "text/html": [
              "<div>\n",
              "<style scoped>\n",
              "    .dataframe tbody tr th:only-of-type {\n",
              "        vertical-align: middle;\n",
              "    }\n",
              "\n",
              "    .dataframe tbody tr th {\n",
              "        vertical-align: top;\n",
              "    }\n",
              "\n",
              "    .dataframe thead th {\n",
              "        text-align: right;\n",
              "    }\n",
              "</style>\n",
              "<table border=\"1\" class=\"dataframe\">\n",
              "  <thead>\n",
              "    <tr style=\"text-align: right;\">\n",
              "      <th></th>\n",
              "      <th>SEVERITYCODE</th>\n",
              "      <th>X</th>\n",
              "      <th>Y</th>\n",
              "      <th>STATUS</th>\n",
              "      <th>ADDRTYPE</th>\n",
              "      <th>COLLISIONTYPE</th>\n",
              "      <th>PERSONCOUNT</th>\n",
              "      <th>PEDCOUNT</th>\n",
              "      <th>PEDCYLCOUNT</th>\n",
              "      <th>VEHCOUNT</th>\n",
              "      <th>JUNCTIONTYPE</th>\n",
              "      <th>SDOT_COLCODE</th>\n",
              "      <th>UNDERINFL</th>\n",
              "      <th>WEATHER</th>\n",
              "      <th>ROADCOND</th>\n",
              "      <th>LIGHTCOND</th>\n",
              "      <th>ST_COLCODE</th>\n",
              "      <th>HITPARKEDCAR</th>\n",
              "    </tr>\n",
              "  </thead>\n",
              "  <tbody>\n",
              "    <tr>\n",
              "      <th>0</th>\n",
              "      <td>2</td>\n",
              "      <td>-122.323148</td>\n",
              "      <td>47.703140</td>\n",
              "      <td>Matched</td>\n",
              "      <td>Intersection</td>\n",
              "      <td>Angles</td>\n",
              "      <td>2</td>\n",
              "      <td>0</td>\n",
              "      <td>0</td>\n",
              "      <td>2</td>\n",
              "      <td>At Intersection (intersection related)</td>\n",
              "      <td>11</td>\n",
              "      <td>N</td>\n",
              "      <td>Overcast</td>\n",
              "      <td>Wet</td>\n",
              "      <td>Daylight</td>\n",
              "      <td>10.0</td>\n",
              "      <td>N</td>\n",
              "    </tr>\n",
              "    <tr>\n",
              "      <th>1</th>\n",
              "      <td>1</td>\n",
              "      <td>-122.347294</td>\n",
              "      <td>47.647172</td>\n",
              "      <td>Matched</td>\n",
              "      <td>Block</td>\n",
              "      <td>Sideswipe</td>\n",
              "      <td>2</td>\n",
              "      <td>0</td>\n",
              "      <td>0</td>\n",
              "      <td>2</td>\n",
              "      <td>Mid-Block (not related to intersection)</td>\n",
              "      <td>16</td>\n",
              "      <td>N</td>\n",
              "      <td>Raining</td>\n",
              "      <td>Wet</td>\n",
              "      <td>Dark - Street Lights On</td>\n",
              "      <td>11.0</td>\n",
              "      <td>N</td>\n",
              "    </tr>\n",
              "    <tr>\n",
              "      <th>2</th>\n",
              "      <td>1</td>\n",
              "      <td>-122.334540</td>\n",
              "      <td>47.607871</td>\n",
              "      <td>Matched</td>\n",
              "      <td>Block</td>\n",
              "      <td>Parked Car</td>\n",
              "      <td>4</td>\n",
              "      <td>0</td>\n",
              "      <td>0</td>\n",
              "      <td>3</td>\n",
              "      <td>Mid-Block (not related to intersection)</td>\n",
              "      <td>14</td>\n",
              "      <td>N</td>\n",
              "      <td>Overcast</td>\n",
              "      <td>Dry</td>\n",
              "      <td>Daylight</td>\n",
              "      <td>32.0</td>\n",
              "      <td>N</td>\n",
              "    </tr>\n",
              "    <tr>\n",
              "      <th>3</th>\n",
              "      <td>1</td>\n",
              "      <td>-122.334803</td>\n",
              "      <td>47.604803</td>\n",
              "      <td>Matched</td>\n",
              "      <td>Block</td>\n",
              "      <td>Other</td>\n",
              "      <td>3</td>\n",
              "      <td>0</td>\n",
              "      <td>0</td>\n",
              "      <td>3</td>\n",
              "      <td>Mid-Block (not related to intersection)</td>\n",
              "      <td>11</td>\n",
              "      <td>N</td>\n",
              "      <td>Clear</td>\n",
              "      <td>Dry</td>\n",
              "      <td>Daylight</td>\n",
              "      <td>23.0</td>\n",
              "      <td>N</td>\n",
              "    </tr>\n",
              "    <tr>\n",
              "      <th>4</th>\n",
              "      <td>2</td>\n",
              "      <td>-122.306426</td>\n",
              "      <td>47.545739</td>\n",
              "      <td>Matched</td>\n",
              "      <td>Intersection</td>\n",
              "      <td>Angles</td>\n",
              "      <td>2</td>\n",
              "      <td>0</td>\n",
              "      <td>0</td>\n",
              "      <td>2</td>\n",
              "      <td>At Intersection (intersection related)</td>\n",
              "      <td>11</td>\n",
              "      <td>N</td>\n",
              "      <td>Raining</td>\n",
              "      <td>Wet</td>\n",
              "      <td>Daylight</td>\n",
              "      <td>10.0</td>\n",
              "      <td>N</td>\n",
              "    </tr>\n",
              "    <tr>\n",
              "      <th>...</th>\n",
              "      <td>...</td>\n",
              "      <td>...</td>\n",
              "      <td>...</td>\n",
              "      <td>...</td>\n",
              "      <td>...</td>\n",
              "      <td>...</td>\n",
              "      <td>...</td>\n",
              "      <td>...</td>\n",
              "      <td>...</td>\n",
              "      <td>...</td>\n",
              "      <td>...</td>\n",
              "      <td>...</td>\n",
              "      <td>...</td>\n",
              "      <td>...</td>\n",
              "      <td>...</td>\n",
              "      <td>...</td>\n",
              "      <td>...</td>\n",
              "      <td>...</td>\n",
              "    </tr>\n",
              "    <tr>\n",
              "      <th>194668</th>\n",
              "      <td>2</td>\n",
              "      <td>-122.290826</td>\n",
              "      <td>47.565408</td>\n",
              "      <td>Matched</td>\n",
              "      <td>Block</td>\n",
              "      <td>Head On</td>\n",
              "      <td>3</td>\n",
              "      <td>0</td>\n",
              "      <td>0</td>\n",
              "      <td>2</td>\n",
              "      <td>Mid-Block (not related to intersection)</td>\n",
              "      <td>11</td>\n",
              "      <td>N</td>\n",
              "      <td>Clear</td>\n",
              "      <td>Dry</td>\n",
              "      <td>Daylight</td>\n",
              "      <td>24.0</td>\n",
              "      <td>N</td>\n",
              "    </tr>\n",
              "    <tr>\n",
              "      <th>194669</th>\n",
              "      <td>1</td>\n",
              "      <td>-122.344526</td>\n",
              "      <td>47.690924</td>\n",
              "      <td>Matched</td>\n",
              "      <td>Block</td>\n",
              "      <td>Rear Ended</td>\n",
              "      <td>2</td>\n",
              "      <td>0</td>\n",
              "      <td>0</td>\n",
              "      <td>2</td>\n",
              "      <td>Mid-Block (not related to intersection)</td>\n",
              "      <td>14</td>\n",
              "      <td>N</td>\n",
              "      <td>Raining</td>\n",
              "      <td>Wet</td>\n",
              "      <td>Daylight</td>\n",
              "      <td>13.0</td>\n",
              "      <td>N</td>\n",
              "    </tr>\n",
              "    <tr>\n",
              "      <th>194670</th>\n",
              "      <td>2</td>\n",
              "      <td>-122.306689</td>\n",
              "      <td>47.683047</td>\n",
              "      <td>Matched</td>\n",
              "      <td>Intersection</td>\n",
              "      <td>Left Turn</td>\n",
              "      <td>3</td>\n",
              "      <td>0</td>\n",
              "      <td>0</td>\n",
              "      <td>2</td>\n",
              "      <td>At Intersection (intersection related)</td>\n",
              "      <td>11</td>\n",
              "      <td>N</td>\n",
              "      <td>Clear</td>\n",
              "      <td>Dry</td>\n",
              "      <td>Daylight</td>\n",
              "      <td>28.0</td>\n",
              "      <td>N</td>\n",
              "    </tr>\n",
              "    <tr>\n",
              "      <th>194671</th>\n",
              "      <td>2</td>\n",
              "      <td>-122.355317</td>\n",
              "      <td>47.678734</td>\n",
              "      <td>Matched</td>\n",
              "      <td>Intersection</td>\n",
              "      <td>Cycles</td>\n",
              "      <td>2</td>\n",
              "      <td>0</td>\n",
              "      <td>1</td>\n",
              "      <td>1</td>\n",
              "      <td>At Intersection (intersection related)</td>\n",
              "      <td>51</td>\n",
              "      <td>N</td>\n",
              "      <td>Clear</td>\n",
              "      <td>Dry</td>\n",
              "      <td>Dusk</td>\n",
              "      <td>5.0</td>\n",
              "      <td>N</td>\n",
              "    </tr>\n",
              "    <tr>\n",
              "      <th>194672</th>\n",
              "      <td>1</td>\n",
              "      <td>-122.289360</td>\n",
              "      <td>47.611017</td>\n",
              "      <td>Matched</td>\n",
              "      <td>Block</td>\n",
              "      <td>Rear Ended</td>\n",
              "      <td>2</td>\n",
              "      <td>0</td>\n",
              "      <td>0</td>\n",
              "      <td>2</td>\n",
              "      <td>Mid-Block (not related to intersection)</td>\n",
              "      <td>14</td>\n",
              "      <td>N</td>\n",
              "      <td>Clear</td>\n",
              "      <td>Wet</td>\n",
              "      <td>Daylight</td>\n",
              "      <td>14.0</td>\n",
              "      <td>N</td>\n",
              "    </tr>\n",
              "  </tbody>\n",
              "</table>\n",
              "<p>189339 rows × 18 columns</p>\n",
              "</div>"
            ],
            "text/plain": [
              "        SEVERITYCODE           X  ...  ST_COLCODE HITPARKEDCAR\n",
              "0                  2 -122.323148  ...        10.0            N\n",
              "1                  1 -122.347294  ...        11.0            N\n",
              "2                  1 -122.334540  ...        32.0            N\n",
              "3                  1 -122.334803  ...        23.0            N\n",
              "4                  2 -122.306426  ...        10.0            N\n",
              "...              ...         ...  ...         ...          ...\n",
              "194668             2 -122.290826  ...        24.0            N\n",
              "194669             1 -122.344526  ...        13.0            N\n",
              "194670             2 -122.306689  ...        28.0            N\n",
              "194671             2 -122.355317  ...         5.0            N\n",
              "194672             1 -122.289360  ...        14.0            N\n",
              "\n",
              "[189339 rows x 18 columns]"
            ]
          },
          "metadata": {
            "tags": []
          },
          "execution_count": 79
        }
      ]
    },
    {
      "cell_type": "code",
      "metadata": {
        "id": "fFgUrHC2_T9o",
        "outputId": "181f899f-0444-4713-c07a-629372bea5b0",
        "colab": {
          "base_uri": "https://localhost:8080/",
          "height": 721
        }
      },
      "source": [
        "fig, axes = plt.subplots(3,3, figsize=(20,10))\n",
        "axes = axes.flatten()\n",
        "\n",
        "i = 0\n",
        "for t in df.select_dtypes('object').columns:\n",
        "    df[t].value_counts().plot(kind='bar', ax=axes[i], title=t)\n",
        "    i +=1"
      ],
      "execution_count": 20,
      "outputs": [
        {
          "output_type": "display_data",
          "data": {
            "image/png": "[encoded data removed]",
            "text/plain": [
              "<Figure size 1440x720 with 9 Axes>"
            ]
          },
          "metadata": {
            "tags": [],
            "needs_background": "light"
          }
        }
      ]
    },
    {
      "cell_type": "code",
      "metadata": {
        "id": "4K0WjMpRMhr3",
        "outputId": "3c9fe529-0ec6-4cd4-bd09-7d54fa8fd27f",
        "colab": {
          "base_uri": "https://localhost:8080/",
          "height": 606
        }
      },
      "source": [
        "x_var = \"SEVERITYCODE\"\n",
        "fig, axes = plt.subplots(3,3, figsize=(20,10))\n",
        "axes = axes.flatten()\n",
        "\n",
        "i = 0\n",
        "for t in df.select_dtypes(['int','float']):\n",
        "    ax = sns.boxplot(x=x_var, y=t, data=df, ax=axes[i])\n",
        "    i +=1"
      ],
      "execution_count": 21,
      "outputs": [
        {
          "output_type": "display_data",
          "data": {
            "image/png": "[encoded data removed]",
            "text/plain": [
              "<Figure size 1440x720 with 9 Axes>"
            ]
          },
          "metadata": {
            "tags": [],
            "needs_background": "light"
          }
        }
      ]
    },
    {
      "cell_type": "markdown",
      "metadata": {
        "id": "DzqI35wfN8BU"
      },
      "source": [
        "# Encode Data\n",
        "In this part, I will encode the categorical text data to int using OneHotEncoder by scikit-learn."
      ]
    },
    {
      "cell_type": "code",
      "metadata": {
        "id": "YhIvs7B8eDtK",
        "outputId": "99297bee-5db3-40d6-ae40-6e4b52782b5a",
        "colab": {
          "base_uri": "https://localhost:8080/",
          "height": 119
        }
      },
      "source": [
        "df.ST_COLCODE = df.ST_COLCODE.fillna(-1)\n",
        "df_clean = df[df['X'].isna()==False]\n",
        "df_clean[df_clean.select_dtypes('object').columns] = df_clean.select_dtypes('object').replace(np.nan,'Unknown')"
      ],
      "execution_count": 22,
      "outputs": [
        {
          "output_type": "stream",
          "text": [
            "/usr/local/lib/python3.6/dist-packages/pandas/core/generic.py:5303: SettingWithCopyWarning: \n",
            "A value is trying to be set on a copy of a slice from a DataFrame.\n",
            "Try using .loc[row_indexer,col_indexer] = value instead\n",
            "\n",
            "See the caveats in the documentation: https://pandas.pydata.org/pandas-docs/stable/user_guide/indexing.html#returning-a-view-versus-a-copy\n",
            "  self[name] = value\n"
          ],
          "name": "stderr"
        }
      ]
    },
    {
      "cell_type": "code",
      "metadata": {
        "id": "JE8HFB06VqSy",
        "outputId": "a1671152-a429-4157-fe4a-e11df441ab12",
        "colab": {
          "base_uri": "https://localhost:8080/",
          "height": 328
        }
      },
      "source": [
        "df_clean.corr()"
      ],
      "execution_count": 99,
      "outputs": [
        {
          "output_type": "execute_result",
          "data": {
            "text/html": [
              "<div>\n",
              "<style scoped>\n",
              "    .dataframe tbody tr th:only-of-type {\n",
              "        vertical-align: middle;\n",
              "    }\n",
              "\n",
              "    .dataframe tbody tr th {\n",
              "        vertical-align: top;\n",
              "    }\n",
              "\n",
              "    .dataframe thead th {\n",
              "        text-align: right;\n",
              "    }\n",
              "</style>\n",
              "<table border=\"1\" class=\"dataframe\">\n",
              "  <thead>\n",
              "    <tr style=\"text-align: right;\">\n",
              "      <th></th>\n",
              "      <th>SEVERITYCODE</th>\n",
              "      <th>X</th>\n",
              "      <th>Y</th>\n",
              "      <th>PERSONCOUNT</th>\n",
              "      <th>PEDCOUNT</th>\n",
              "      <th>PEDCYLCOUNT</th>\n",
              "      <th>VEHCOUNT</th>\n",
              "      <th>SDOT_COLCODE</th>\n",
              "      <th>ST_COLCODE</th>\n",
              "    </tr>\n",
              "  </thead>\n",
              "  <tbody>\n",
              "    <tr>\n",
              "      <th>SEVERITYCODE</th>\n",
              "      <td>1.000000</td>\n",
              "      <td>0.010309</td>\n",
              "      <td>0.017737</td>\n",
              "      <td>0.128866</td>\n",
              "      <td>0.246722</td>\n",
              "      <td>0.214969</td>\n",
              "      <td>-0.058067</td>\n",
              "      <td>0.185926</td>\n",
              "      <td>-0.149119</td>\n",
              "    </tr>\n",
              "    <tr>\n",
              "      <th>X</th>\n",
              "      <td>0.010309</td>\n",
              "      <td>1.000000</td>\n",
              "      <td>-0.160262</td>\n",
              "      <td>0.012887</td>\n",
              "      <td>0.011304</td>\n",
              "      <td>-0.001752</td>\n",
              "      <td>-0.012168</td>\n",
              "      <td>0.010904</td>\n",
              "      <td>-0.022002</td>\n",
              "    </tr>\n",
              "    <tr>\n",
              "      <th>Y</th>\n",
              "      <td>0.017737</td>\n",
              "      <td>-0.160262</td>\n",
              "      <td>1.000000</td>\n",
              "      <td>-0.013850</td>\n",
              "      <td>0.010178</td>\n",
              "      <td>0.026304</td>\n",
              "      <td>0.017058</td>\n",
              "      <td>-0.019694</td>\n",
              "      <td>-0.026523</td>\n",
              "    </tr>\n",
              "    <tr>\n",
              "      <th>PERSONCOUNT</th>\n",
              "      <td>0.128866</td>\n",
              "      <td>0.012887</td>\n",
              "      <td>-0.013850</td>\n",
              "      <td>1.000000</td>\n",
              "      <td>-0.024764</td>\n",
              "      <td>-0.040317</td>\n",
              "      <td>0.375640</td>\n",
              "      <td>-0.136945</td>\n",
              "      <td>-0.184444</td>\n",
              "    </tr>\n",
              "    <tr>\n",
              "      <th>PEDCOUNT</th>\n",
              "      <td>0.246722</td>\n",
              "      <td>0.011304</td>\n",
              "      <td>0.010178</td>\n",
              "      <td>-0.024764</td>\n",
              "      <td>1.000000</td>\n",
              "      <td>-0.017461</td>\n",
              "      <td>-0.265337</td>\n",
              "      <td>0.267683</td>\n",
              "      <td>-0.251219</td>\n",
              "    </tr>\n",
              "    <tr>\n",
              "      <th>PEDCYLCOUNT</th>\n",
              "      <td>0.214969</td>\n",
              "      <td>-0.001752</td>\n",
              "      <td>0.026304</td>\n",
              "      <td>-0.040317</td>\n",
              "      <td>-0.017461</td>\n",
              "      <td>1.000000</td>\n",
              "      <td>-0.257882</td>\n",
              "      <td>0.393089</td>\n",
              "      <td>0.201667</td>\n",
              "    </tr>\n",
              "    <tr>\n",
              "      <th>VEHCOUNT</th>\n",
              "      <td>-0.058067</td>\n",
              "      <td>-0.012168</td>\n",
              "      <td>0.017058</td>\n",
              "      <td>0.375640</td>\n",
              "      <td>-0.265337</td>\n",
              "      <td>-0.257882</td>\n",
              "      <td>1.000000</td>\n",
              "      <td>-0.377330</td>\n",
              "      <td>-0.070465</td>\n",
              "    </tr>\n",
              "    <tr>\n",
              "      <th>SDOT_COLCODE</th>\n",
              "      <td>0.185926</td>\n",
              "      <td>0.010904</td>\n",
              "      <td>-0.019694</td>\n",
              "      <td>-0.136945</td>\n",
              "      <td>0.267683</td>\n",
              "      <td>0.393089</td>\n",
              "      <td>-0.377330</td>\n",
              "      <td>1.000000</td>\n",
              "      <td>0.287378</td>\n",
              "    </tr>\n",
              "    <tr>\n",
              "      <th>ST_COLCODE</th>\n",
              "      <td>-0.149119</td>\n",
              "      <td>-0.022002</td>\n",
              "      <td>-0.026523</td>\n",
              "      <td>-0.184444</td>\n",
              "      <td>-0.251219</td>\n",
              "      <td>0.201667</td>\n",
              "      <td>-0.070465</td>\n",
              "      <td>0.287378</td>\n",
              "      <td>1.000000</td>\n",
              "    </tr>\n",
              "  </tbody>\n",
              "</table>\n",
              "</div>"
            ],
            "text/plain": [
              "              SEVERITYCODE         X  ...  SDOT_COLCODE  ST_COLCODE\n",
              "SEVERITYCODE      1.000000  0.010309  ...      0.185926   -0.149119\n",
              "X                 0.010309  1.000000  ...      0.010904   -0.022002\n",
              "Y                 0.017737 -0.160262  ...     -0.019694   -0.026523\n",
              "PERSONCOUNT       0.128866  0.012887  ...     -0.136945   -0.184444\n",
              "PEDCOUNT          0.246722  0.011304  ...      0.267683   -0.251219\n",
              "PEDCYLCOUNT       0.214969 -0.001752  ...      0.393089    0.201667\n",
              "VEHCOUNT         -0.058067 -0.012168  ...     -0.377330   -0.070465\n",
              "SDOT_COLCODE      0.185926  0.010904  ...      1.000000    0.287378\n",
              "ST_COLCODE       -0.149119 -0.022002  ...      0.287378    1.000000\n",
              "\n",
              "[9 rows x 9 columns]"
            ]
          },
          "metadata": {
            "tags": []
          },
          "execution_count": 99
        }
      ]
    },
    {
      "cell_type": "code",
      "metadata": {
        "id": "Vy13hL7IVpz0"
      },
      "source": [
        "Xdata = df_clean.drop(columns='SEVERITYCODE')\n",
        "y = df_clean['SEVERITYCODE']"
      ],
      "execution_count": 102,
      "outputs": []
    },
    {
      "cell_type": "code",
      "metadata": {
        "id": "G3X1Qy1jVzC4"
      },
      "source": [
        "X = pd.get_dummies(Xdata, drop_first=True)"
      ],
      "execution_count": 103,
      "outputs": []
    },
    {
      "cell_type": "code",
      "metadata": {
        "id": "9QjBnjfAX1IQ",
        "outputId": "ea860c7f-4d2b-48a8-9eff-55e8ae884a0b",
        "colab": {
          "base_uri": "https://localhost:8080/",
          "height": 71
        }
      },
      "source": [
        "import umap\n",
        "X = umap.UMAP(n_neighbors=30,min_dist=0.0,n_components=2,random_state=42).fit_transform(X)"
      ],
      "execution_count": null,
      "outputs": [
        {
          "output_type": "stream",
          "text": [
            "/usr/local/lib/python3.6/dist-packages/sklearn/manifold/_spectral_embedding.py:236: UserWarning: Graph is not fully connected, spectral embedding may not work as expected.\n",
            "  warnings.warn(\"Graph is not fully connected, spectral embedding\"\n"
          ],
          "name": "stderr"
        }
      ]
    },
    {
      "cell_type": "code",
      "metadata": {
        "id": "bvQo-JFqYv1I"
      },
      "source": [
        "print(f\"After Delete the NaN values: {X.shape}\")\n",
        "print(f\"Before delete the NaN values: {df.shape}\")"
      ],
      "execution_count": null,
      "outputs": []
    },
    {
      "cell_type": "markdown",
      "metadata": {
        "id": "-JDumHU0dbqL"
      },
      "source": [
        "# Modeling"
      ]
    },
    {
      "cell_type": "code",
      "metadata": {
        "id": "VmOZcfWndcae"
      },
      "source": [
        "from sklearn.neighbors import KNeighborsClassifier\n",
        "from sklearn.model_selection import train_test_split"
      ],
      "execution_count": 105,
      "outputs": []
    },
    {
      "cell_type": "code",
      "metadata": {
        "id": "g-Z-2t2GyFmX"
      },
      "source": [
        "X_train, X_test, y_train, y_test = train_test_split(X,y, test_size=0.45, random_state=42, shuffle=True)"
      ],
      "execution_count": 106,
      "outputs": []
    },
    {
      "cell_type": "markdown",
      "metadata": {
        "id": "3I2IVvXByyh-"
      },
      "source": [
        "Because the label data is imbalanced, I will balanced it using SMOTE"
      ]
    },
    {
      "cell_type": "code",
      "metadata": {
        "id": "NiaF1dQlmNbd",
        "outputId": "221f67a3-185c-4906-89a0-38ea2cbdd64e",
        "colab": {
          "base_uri": "https://localhost:8080/",
          "height": 71
        }
      },
      "source": [
        "from imblearn.over_sampling import SMOTE\n",
        "\n",
        "smote = SMOTE(ratio='all')\n",
        "X_sm, y_sm = smote.fit_sample(X_train, y_train)"
      ],
      "execution_count": 107,
      "outputs": [
        {
          "output_type": "stream",
          "text": [
            "/usr/local/lib/python3.6/dist-packages/sklearn/utils/deprecation.py:87: FutureWarning: Function safe_indexing is deprecated; safe_indexing is deprecated in version 0.22 and will be removed in version 0.24.\n",
            "  warnings.warn(msg, category=FutureWarning)\n"
          ],
          "name": "stderr"
        }
      ]
    },
    {
      "cell_type": "code",
      "metadata": {
        "id": "zXhoYJSsyYya",
        "outputId": "b2a22b0e-a8f7-4ca5-cfd3-e58c3799e15a",
        "colab": {
          "base_uri": "https://localhost:8080/",
          "height": 153
        }
      },
      "source": [
        "print(f\"Before resampling: \\n{y_train.value_counts()}\")\n",
        "print(f\"After resampling: \\n{pd.Series(y_sm).value_counts()}\")"
      ],
      "execution_count": 108,
      "outputs": [
        {
          "output_type": "stream",
          "text": [
            "Before resampling: \n",
            "1    72709\n",
            "2    31427\n",
            "Name: SEVERITYCODE, dtype: int64\n",
            "After resampling: \n",
            "2    72709\n",
            "1    72709\n",
            "dtype: int64\n"
          ],
          "name": "stdout"
        }
      ]
    },
    {
      "cell_type": "markdown",
      "metadata": {
        "id": "jM8_Ui5b0LY4"
      },
      "source": [
        "## Testing the best ML Classfier Model\n",
        "In this part I will use some of Classifier model such as SVM, KNN, Decision tree, etc., after that I will use Random Search method to search the best hyperparameter."
      ]
    },
    {
      "cell_type": "markdown",
      "metadata": {
        "id": "Nceel6H10PSv"
      },
      "source": [
        "### K-Nearest Neighbor"
      ]
    },
    {
      "cell_type": "code",
      "metadata": {
        "id": "bsU-uVKtdlr3",
        "outputId": "571adbe6-bfe9-411c-885e-7d9f67a4907c",
        "colab": {
          "base_uri": "https://localhost:8080/",
          "height": 34
        }
      },
      "source": [
        "knn = KNeighborsClassifier()\n",
        "knn.fit(X_sm,y_sm)\n",
        "knn.score(X_sm,y_sm)"
      ],
      "execution_count": 65,
      "outputs": [
        {
          "output_type": "execute_result",
          "data": {
            "text/plain": [
              "0.8349035195092767"
            ]
          },
          "metadata": {
            "tags": []
          },
          "execution_count": 65
        }
      ]
    },
    {
      "cell_type": "code",
      "metadata": {
        "id": "Vmbg0PL300_A",
        "outputId": "8a109f41-b6c3-4720-fcf3-df42b9f13e97",
        "colab": {
          "base_uri": "https://localhost:8080/",
          "height": 51
        }
      },
      "source": [
        "from sklearn.model_selection import RandomizedSearchCV\n",
        "\n",
        "knn = KNeighborsClassifier()\n",
        "params = {'n_neighbors': range(1,50), 'weights': ['uniform', 'distance']}\n",
        "\n",
        "rsearch = RandomizedSearchCV(estimator=knn, param_distributions=params, cv=4, random_state=0)\n",
        "rsearch.fit(X_sm,y_sm)\n",
        "\n",
        "print(f\"Best Parameter: {rsearch.best_params_}\")\n",
        "print(f\"Best Score: {rsearch.best_score_}\")"
      ],
      "execution_count": 66,
      "outputs": [
        {
          "output_type": "stream",
          "text": [
            "Best Parameter: {'weights': 'distance', 'n_neighbors': 28}\n",
            "Best Score: 0.758193904554147\n"
          ],
          "name": "stdout"
        }
      ]
    },
    {
      "cell_type": "code",
      "metadata": {
        "id": "RGOvPOZ9_npx",
        "outputId": "00bda08d-aef1-45ae-d8eb-a718d6a4b75e",
        "colab": {
          "base_uri": "https://localhost:8080/",
          "height": 51
        }
      },
      "source": [
        "knn = KNeighborsClassifier(n_neighbors=rsearch.best_params_['n_neighbors'], weights=rsearch.best_params_['weights'])\n",
        "knn.fit(X_sm,y_sm)\n",
        "print(f\"Train Accuracy: {knn.score(X_sm,y_sm)}\")\n",
        "print(f\"Test Accuracy: {knn.score(X_test,y_test)}\")"
      ],
      "execution_count": 67,
      "outputs": [
        {
          "output_type": "stream",
          "text": [
            "Train Accuracy: 0.9837227853498192\n",
            "Test Accuracy: 0.6971820241071324\n"
          ],
          "name": "stdout"
        }
      ]
    },
    {
      "cell_type": "markdown",
      "metadata": {
        "id": "xTfNuoA50W55"
      },
      "source": [
        ""
      ]
    }
  ]
}