{
  "nbformat": 4,
  "nbformat_minor": 0,
  "metadata": {
    "colab": {
      "name": "Copy of capstone.ipynb",
      "provenance": [],
      "authorship_tag": "ABX9TyNFmJxtRU/5VCqFJokWqw/L",
      "include_colab_link": true
    },
    "kernelspec": {
      "name": "python3",
      "display_name": "Python 3"
    }
  },
  "cells": [
    {
      "cell_type": "markdown",
      "metadata": {
        "id": "view-in-github",
        "colab_type": "text"
      },
      "source": [
        "<a href=\"https://colab.research.google.com/github/mazprimrez/capstoneprojectDS/blob/master/Capstone%20Project.ipynb\" target=\"_parent\"><img src=\"https://colab.research.google.com/assets/colab-badge.svg\" alt=\"Open In Colab\"/></a>"
      ]
    },
    {
      "cell_type": "markdown",
      "metadata": {
        "id": "_t4aBVVLYfdZ"
      },
      "source": [
        "# Capstone Project\n",
        "This Notebook will be used for capstone project, a data science specialization by IBM on Coursera"
      ]
    },
    {
      "cell_type": "code",
      "metadata": {
        "id": "vWY7u4DlYZIW"
      },
      "source": [
        "import numpy as np\n",
        "import pandas as pd"
      ],
      "execution_count": 112,
      "outputs": []
    },
    {
      "cell_type": "markdown",
      "metadata": {
        "id": "iGSNDuk5ZS5r"
      },
      "source": [
        "# The Data"
      ]
    },
    {
      "cell_type": "code",
      "metadata": {
        "id": "rSVZL4CeYdZT"
      },
      "source": [
        "dataset = pd.read_csv(\"https://opendata.arcgis.com/datasets/5b5c745e0f1f48e7a53acec63a0022ab_0.csv\")"
      ],
      "execution_count": 113,
      "outputs": []
    },
    {
      "cell_type": "code",
      "metadata": {
        "id": "lbWUnhmxkrUD",
        "outputId": "f0faf5e4-0715-4438-ee98-bebee654a49f",
        "colab": {
          "base_uri": "https://localhost:8080/",
          "height": 632
        }
      },
      "source": [
        "dataset.head()"
      ],
      "execution_count": 114,
      "outputs": [
        {
          "output_type": "execute_result",
          "data": {
            "text/html": [
              "<div>\n",
              "<style scoped>\n",
              "    .dataframe tbody tr th:only-of-type {\n",
              "        vertical-align: middle;\n",
              "    }\n",
              "\n",
              "    .dataframe tbody tr th {\n",
              "        vertical-align: top;\n",
              "    }\n",
              "\n",
              "    .dataframe thead th {\n",
              "        text-align: right;\n",
              "    }\n",
              "</style>\n",
              "<table border=\"1\" class=\"dataframe\">\n",
              "  <thead>\n",
              "    <tr style=\"text-align: right;\">\n",
              "      <th></th>\n",
              "      <th>X</th>\n",
              "      <th>Y</th>\n",
              "      <th>OBJECTID</th>\n",
              "      <th>INCKEY</th>\n",
              "      <th>COLDETKEY</th>\n",
              "      <th>REPORTNO</th>\n",
              "      <th>STATUS</th>\n",
              "      <th>ADDRTYPE</th>\n",
              "      <th>INTKEY</th>\n",
              "      <th>LOCATION</th>\n",
              "      <th>EXCEPTRSNCODE</th>\n",
              "      <th>EXCEPTRSNDESC</th>\n",
              "      <th>SEVERITYCODE</th>\n",
              "      <th>SEVERITYDESC</th>\n",
              "      <th>COLLISIONTYPE</th>\n",
              "      <th>PERSONCOUNT</th>\n",
              "      <th>PEDCOUNT</th>\n",
              "      <th>PEDCYLCOUNT</th>\n",
              "      <th>VEHCOUNT</th>\n",
              "      <th>INJURIES</th>\n",
              "      <th>SERIOUSINJURIES</th>\n",
              "      <th>FATALITIES</th>\n",
              "      <th>INCDATE</th>\n",
              "      <th>INCDTTM</th>\n",
              "      <th>JUNCTIONTYPE</th>\n",
              "      <th>SDOT_COLCODE</th>\n",
              "      <th>SDOT_COLDESC</th>\n",
              "      <th>INATTENTIONIND</th>\n",
              "      <th>UNDERINFL</th>\n",
              "      <th>WEATHER</th>\n",
              "      <th>ROADCOND</th>\n",
              "      <th>LIGHTCOND</th>\n",
              "      <th>PEDROWNOTGRNT</th>\n",
              "      <th>SDOTCOLNUM</th>\n",
              "      <th>SPEEDING</th>\n",
              "      <th>ST_COLCODE</th>\n",
              "      <th>ST_COLDESC</th>\n",
              "      <th>SEGLANEKEY</th>\n",
              "      <th>CROSSWALKKEY</th>\n",
              "      <th>HITPARKEDCAR</th>\n",
              "    </tr>\n",
              "  </thead>\n",
              "  <tbody>\n",
              "    <tr>\n",
              "      <th>0</th>\n",
              "      <td>-122.356511</td>\n",
              "      <td>47.517361</td>\n",
              "      <td>1</td>\n",
              "      <td>327920</td>\n",
              "      <td>329420</td>\n",
              "      <td>3856094</td>\n",
              "      <td>Matched</td>\n",
              "      <td>Intersection</td>\n",
              "      <td>34911.0</td>\n",
              "      <td>17TH AVE SW AND SW ROXBURY ST</td>\n",
              "      <td></td>\n",
              "      <td>NaN</td>\n",
              "      <td>1</td>\n",
              "      <td>Property Damage Only Collision</td>\n",
              "      <td>Angles</td>\n",
              "      <td>2</td>\n",
              "      <td>0</td>\n",
              "      <td>0</td>\n",
              "      <td>2</td>\n",
              "      <td>0</td>\n",
              "      <td>0</td>\n",
              "      <td>0</td>\n",
              "      <td>2020/01/19 00:00:00+00</td>\n",
              "      <td>1/19/2020 9:01:00 AM</td>\n",
              "      <td>At Intersection (intersection related)</td>\n",
              "      <td>11.0</td>\n",
              "      <td>MOTOR VEHICLE STRUCK MOTOR VEHICLE, FRONT END ...</td>\n",
              "      <td>NaN</td>\n",
              "      <td>N</td>\n",
              "      <td>Clear</td>\n",
              "      <td>Dry</td>\n",
              "      <td>Daylight</td>\n",
              "      <td>NaN</td>\n",
              "      <td>NaN</td>\n",
              "      <td>NaN</td>\n",
              "      <td>10</td>\n",
              "      <td>Entering at angle</td>\n",
              "      <td>0</td>\n",
              "      <td>0</td>\n",
              "      <td>N</td>\n",
              "    </tr>\n",
              "    <tr>\n",
              "      <th>1</th>\n",
              "      <td>-122.361405</td>\n",
              "      <td>47.702064</td>\n",
              "      <td>2</td>\n",
              "      <td>46200</td>\n",
              "      <td>46200</td>\n",
              "      <td>1791736</td>\n",
              "      <td>Matched</td>\n",
              "      <td>Block</td>\n",
              "      <td>NaN</td>\n",
              "      <td>HOLMAN RD NW BETWEEN 4TH AVE NW AND 3RD AVE NW</td>\n",
              "      <td>NaN</td>\n",
              "      <td>NaN</td>\n",
              "      <td>1</td>\n",
              "      <td>Property Damage Only Collision</td>\n",
              "      <td>Rear Ended</td>\n",
              "      <td>2</td>\n",
              "      <td>0</td>\n",
              "      <td>0</td>\n",
              "      <td>2</td>\n",
              "      <td>0</td>\n",
              "      <td>0</td>\n",
              "      <td>0</td>\n",
              "      <td>2005/04/11 00:00:00+00</td>\n",
              "      <td>4/11/2005 6:31:00 PM</td>\n",
              "      <td>Mid-Block (not related to intersection)</td>\n",
              "      <td>14.0</td>\n",
              "      <td>MOTOR VEHICLE STRUCK MOTOR VEHICLE, REAR END</td>\n",
              "      <td>Y</td>\n",
              "      <td>0</td>\n",
              "      <td>Raining</td>\n",
              "      <td>Wet</td>\n",
              "      <td>Dusk</td>\n",
              "      <td>NaN</td>\n",
              "      <td>5101020.0</td>\n",
              "      <td>NaN</td>\n",
              "      <td>13</td>\n",
              "      <td>From same direction - both going straight - bo...</td>\n",
              "      <td>0</td>\n",
              "      <td>0</td>\n",
              "      <td>N</td>\n",
              "    </tr>\n",
              "    <tr>\n",
              "      <th>2</th>\n",
              "      <td>-122.317414</td>\n",
              "      <td>47.664028</td>\n",
              "      <td>3</td>\n",
              "      <td>1212</td>\n",
              "      <td>1212</td>\n",
              "      <td>3507861</td>\n",
              "      <td>Matched</td>\n",
              "      <td>Block</td>\n",
              "      <td>NaN</td>\n",
              "      <td>ROOSEVELT WAY NE BETWEEN NE 47TH ST AND NE 50T...</td>\n",
              "      <td></td>\n",
              "      <td>NaN</td>\n",
              "      <td>2</td>\n",
              "      <td>Injury Collision</td>\n",
              "      <td>Head On</td>\n",
              "      <td>2</td>\n",
              "      <td>0</td>\n",
              "      <td>0</td>\n",
              "      <td>2</td>\n",
              "      <td>1</td>\n",
              "      <td>0</td>\n",
              "      <td>0</td>\n",
              "      <td>2013/03/31 00:00:00+00</td>\n",
              "      <td>3/31/2013 2:09:00 AM</td>\n",
              "      <td>Mid-Block (not related to intersection)</td>\n",
              "      <td>11.0</td>\n",
              "      <td>MOTOR VEHICLE STRUCK MOTOR VEHICLE, FRONT END ...</td>\n",
              "      <td>NaN</td>\n",
              "      <td>N</td>\n",
              "      <td>Clear</td>\n",
              "      <td>Dry</td>\n",
              "      <td>Dark - Street Lights On</td>\n",
              "      <td>NaN</td>\n",
              "      <td>NaN</td>\n",
              "      <td>NaN</td>\n",
              "      <td>30</td>\n",
              "      <td>From opposite direction - all others</td>\n",
              "      <td>0</td>\n",
              "      <td>0</td>\n",
              "      <td>N</td>\n",
              "    </tr>\n",
              "    <tr>\n",
              "      <th>3</th>\n",
              "      <td>-122.318234</td>\n",
              "      <td>47.619927</td>\n",
              "      <td>4</td>\n",
              "      <td>327909</td>\n",
              "      <td>329409</td>\n",
              "      <td>EA03026</td>\n",
              "      <td>Matched</td>\n",
              "      <td>Intersection</td>\n",
              "      <td>29054.0</td>\n",
              "      <td>11TH AVE E AND E JOHN ST</td>\n",
              "      <td></td>\n",
              "      <td>NaN</td>\n",
              "      <td>2</td>\n",
              "      <td>Injury Collision</td>\n",
              "      <td>Pedestrian</td>\n",
              "      <td>3</td>\n",
              "      <td>1</td>\n",
              "      <td>0</td>\n",
              "      <td>1</td>\n",
              "      <td>1</td>\n",
              "      <td>0</td>\n",
              "      <td>0</td>\n",
              "      <td>2020/01/06 00:00:00+00</td>\n",
              "      <td>1/6/2020 5:55:00 PM</td>\n",
              "      <td>At Intersection (intersection related)</td>\n",
              "      <td>24.0</td>\n",
              "      <td>MOTOR VEHCILE STRUCK PEDESTRIAN</td>\n",
              "      <td>NaN</td>\n",
              "      <td>N</td>\n",
              "      <td>Raining</td>\n",
              "      <td>Wet</td>\n",
              "      <td>Dark - Street Lights On</td>\n",
              "      <td>NaN</td>\n",
              "      <td>NaN</td>\n",
              "      <td>NaN</td>\n",
              "      <td>0</td>\n",
              "      <td>Vehicle going straight hits pedestrian</td>\n",
              "      <td>0</td>\n",
              "      <td>0</td>\n",
              "      <td>N</td>\n",
              "    </tr>\n",
              "    <tr>\n",
              "      <th>4</th>\n",
              "      <td>-122.351724</td>\n",
              "      <td>47.560306</td>\n",
              "      <td>5</td>\n",
              "      <td>104900</td>\n",
              "      <td>104900</td>\n",
              "      <td>2671936</td>\n",
              "      <td>Matched</td>\n",
              "      <td>Block</td>\n",
              "      <td>NaN</td>\n",
              "      <td>WEST MARGINAL WAY SW BETWEEN SW ALASKA ST AND ...</td>\n",
              "      <td>NaN</td>\n",
              "      <td>NaN</td>\n",
              "      <td>2</td>\n",
              "      <td>Injury Collision</td>\n",
              "      <td>Other</td>\n",
              "      <td>2</td>\n",
              "      <td>0</td>\n",
              "      <td>0</td>\n",
              "      <td>1</td>\n",
              "      <td>1</td>\n",
              "      <td>0</td>\n",
              "      <td>0</td>\n",
              "      <td>2009/12/25 00:00:00+00</td>\n",
              "      <td>12/25/2009 7:00:00 PM</td>\n",
              "      <td>Mid-Block (not related to intersection)</td>\n",
              "      <td>28.0</td>\n",
              "      <td>MOTOR VEHICLE RAN OFF ROAD - HIT FIXED OBJECT</td>\n",
              "      <td>NaN</td>\n",
              "      <td>0</td>\n",
              "      <td>Clear</td>\n",
              "      <td>Ice</td>\n",
              "      <td>Dark - Street Lights On</td>\n",
              "      <td>NaN</td>\n",
              "      <td>9359012.0</td>\n",
              "      <td>Y</td>\n",
              "      <td>50</td>\n",
              "      <td>Fixed object</td>\n",
              "      <td>0</td>\n",
              "      <td>0</td>\n",
              "      <td>N</td>\n",
              "    </tr>\n",
              "  </tbody>\n",
              "</table>\n",
              "</div>"
            ],
            "text/plain": [
              "            X          Y  OBJECTID  ...  SEGLANEKEY  CROSSWALKKEY HITPARKEDCAR\n",
              "0 -122.356511  47.517361         1  ...           0             0            N\n",
              "1 -122.361405  47.702064         2  ...           0             0            N\n",
              "2 -122.317414  47.664028         3  ...           0             0            N\n",
              "3 -122.318234  47.619927         4  ...           0             0            N\n",
              "4 -122.351724  47.560306         5  ...           0             0            N\n",
              "\n",
              "[5 rows x 40 columns]"
            ]
          },
          "metadata": {
            "tags": []
          },
          "execution_count": 114
        }
      ]
    },
    {
      "cell_type": "code",
      "metadata": {
        "id": "nwxWKKnVnSif",
        "outputId": "45c6b20f-83f1-44bd-8f96-b5ac5dc8ad58",
        "colab": {
          "base_uri": "https://localhost:8080/",
          "height": 34
        }
      },
      "source": [
        "dataset.shape"
      ],
      "execution_count": 115,
      "outputs": [
        {
          "output_type": "execute_result",
          "data": {
            "text/plain": [
              "(221738, 40)"
            ]
          },
          "metadata": {
            "tags": []
          },
          "execution_count": 115
        }
      ]
    },
    {
      "cell_type": "code",
      "metadata": {
        "id": "TeBgVSL4nijH",
        "outputId": "ec44ef03-76d6-40ba-a3ee-5b87c0c20a51",
        "colab": {
          "base_uri": "https://localhost:8080/",
          "height": 1000
        }
      },
      "source": [
        "for i in dataset.columns:\n",
        "    print(f\"{i}: {dataset[i].unique()}\")"
      ],
      "execution_count": 116,
      "outputs": [
        {
          "output_type": "stream",
          "text": [
            "X: [-122.35651081 -122.36140492 -122.31741361 ... -122.28073397 -122.2848477\n",
            " -122.2807745 ]\n",
            "Y: [47.5173613  47.70206353 47.66402754 ... 47.55783671 47.51973913\n",
            " 47.55156407]\n",
            "OBJECTID: [     1      2      3 ... 221736 221737 221738]\n",
            "INCKEY: [327920  46200   1212 ... 321607 321002 321629]\n",
            "COLDETKEY: [329420  46200   1212 ... 323107 322502 323129]\n",
            "REPORTNO: ['3856094' '1791736' '3507861' ... '3752879' 'E938673' '3692985']\n",
            "STATUS: ['Matched' 'Unmatched']\n",
            "ADDRTYPE: ['Intersection' 'Block' nan 'Alley']\n",
            "INTKEY: [34911.    nan 29054. ... 30763. 33437. 35374.]\n",
            "LOCATION: ['17TH AVE SW AND SW ROXBURY ST'\n",
            " 'HOLMAN RD NW BETWEEN 4TH AVE NW AND 3RD AVE NW'\n",
            " 'ROOSEVELT WAY NE BETWEEN NE 47TH ST AND NE 50TH ST' ...\n",
            " '42ND AVE S AND S FERDINAND S ST' '38TH AVE S AND S BENEFIT ST'\n",
            " '42ND AVE S BETWEEN S FINDLAY ST AND S ORCAS ST']\n",
            "EXCEPTRSNCODE: [' ' nan 'NEI']\n",
            "EXCEPTRSNDESC: [nan 'Not Enough Information, or Insufficient Location Information']\n",
            "SEVERITYCODE: ['1' '2' '2b' '0' '3' nan]\n",
            "SEVERITYDESC: ['Property Damage Only Collision' 'Injury Collision'\n",
            " 'Serious Injury Collision' 'Unknown' 'Fatality Collision']\n",
            "COLLISIONTYPE: ['Angles' 'Rear Ended' 'Head On' 'Pedestrian' 'Other' 'Cycles'\n",
            " 'Parked Car' nan 'Left Turn' 'Sideswipe' 'Right Turn']\n",
            "PERSONCOUNT: [ 2  3  0  1  7  5  6  4  8 16 25 12 11 17  9 22 26 13 10 37 28 36 14 19\n",
            " 53 30 29 23 44 15 32 21 20 41 27 35 43 81 18 48 24 34 57 47 39 31 54 93]\n",
            "PEDCOUNT: [0 1 2 3 4 5 6]\n",
            "PEDCYLCOUNT: [0 1 2]\n",
            "VEHCOUNT: [ 2  1  3  0  4  7  5  6  8 11  9 14 10 12 13 15]\n",
            "INJURIES: [ 0  1  3  2  5  4  6  7  8 11  9 13 10 12 15 78]\n",
            "SERIOUSINJURIES: [ 0  1  2  3  5  4 41]\n",
            "FATALITIES: [0 2 1 4 3 5]\n",
            "INCDATE: ['2020/01/19 00:00:00+00' '2005/04/11 00:00:00+00'\n",
            " '2013/03/31 00:00:00+00' ... '2019/06/04 00:00:00+00'\n",
            " '2019/07/04 00:00:00+00' '2019/06/09 00:00:00+00']\n",
            "INCDTTM: ['1/19/2020 9:01:00 AM' '4/11/2005 6:31:00 PM' '3/31/2013 2:09:00 AM' ...\n",
            " '7/24/2019 3:35:00 PM' '7/7/2019 6:13:00 PM' '7/18/2019 4:51:00 PM']\n",
            "JUNCTIONTYPE: ['At Intersection (intersection related)'\n",
            " 'Mid-Block (not related to intersection)'\n",
            " 'Mid-Block (but intersection related)' 'Driveway Junction' nan\n",
            " 'At Intersection (but not related to intersection)' 'Ramp Junction'\n",
            " 'Unknown']\n",
            "SDOT_COLCODE: [11. 14. 24. 28. 18. 13. 15. 51.  0. 16. 26. nan 33. 69. 12. 29. 23. 55.\n",
            " 56. 34. 21. 44. 66. 31. 25. 48. 54. 32. 27. 36. 64. 22. 47. 58. 35. 61.\n",
            " 53. 46. 68. 52. 87.]\n",
            "SDOT_COLDESC: ['MOTOR VEHICLE STRUCK MOTOR VEHICLE, FRONT END AT ANGLE'\n",
            " 'MOTOR VEHICLE STRUCK MOTOR VEHICLE, REAR END'\n",
            " 'MOTOR VEHCILE STRUCK PEDESTRIAN'\n",
            " 'MOTOR VEHICLE RAN OFF ROAD - HIT FIXED OBJECT'\n",
            " 'MOTOR VEHICLE STRUCK PEDALCYCLIST, FRONT END AT ANGLE'\n",
            " 'MOTOR VEHICLE STRUCK MOTOR VEHICLE, LEFT SIDE AT ANGLE'\n",
            " 'MOTOR VEHICLE STRUCK MOTOR VEHICLE, RIGHT SIDE SIDESWIPE'\n",
            " 'PEDALCYCLIST STRUCK MOTOR VEHICLE FRONT END AT ANGLE'\n",
            " 'NOT ENOUGH INFORMATION / NOT APPLICABLE'\n",
            " 'MOTOR VEHICLE STRUCK MOTOR VEHICLE, LEFT SIDE SIDESWIPE'\n",
            " 'MOTOR VEHICLE STRUCK OBJECT IN ROAD' nan\n",
            " 'DRIVERLESS VEHICLE STRUCK MOTOR VEHICLE LEFT SIDE AT ANGLE'\n",
            " 'PEDALCYCLIST OVERTURNED IN ROAD'\n",
            " 'MOTOR VEHICLE STRUCK MOTOR VEHICLE, RIGHT SIDE AT ANGLE'\n",
            " 'MOTOR VEHICLE OVERTURNED IN ROAD'\n",
            " 'MOTOR VEHICLE STRUCK PEDALCYCLIST, LEFT SIDE SIDESWIPE'\n",
            " 'PEDALCYCLIST STRUCK MOTOR VEHICLE RIGHT SIDE SIDESWIPE'\n",
            " 'PEDALCYCLIST STRUCK MOTOR VEHICLE LEFT SIDE SIDESWIPE'\n",
            " 'DRIVERLESS VEHICLE STRUCK MOTOR VEHICLE REAR END'\n",
            " 'MOTOR VEHICLE STRUCK PEDALCYCLIST, REAR END'\n",
            " 'DRIVERLESS VEHICLE STRUCK PEDESTRIAN'\n",
            " 'PEDALCYCLIST STRUCK OBJECT IN ROAD'\n",
            " 'DRIVERLESS VEHICLE STRUCK MOTOR VEHICLE FRONT END AT ANGLE'\n",
            " 'MOTOR VEHICLE STRUCK TRAIN'\n",
            " 'DRIVERLESS VEHICLE RAN OFF ROAD - HIT FIXED OBJECT'\n",
            " 'PEDALCYCLIST STRUCK MOTOR VEHICLE REAR END'\n",
            " 'DRIVERLESS VEHICLE STRUCK MOTOR VEHICLE RIGHT SIDE AT ANGLE '\n",
            " 'MOTOR VEHICLE RAN OFF ROAD - NO COLLISION'\n",
            " 'DRIVERLESS VEHICLE STRUCK MOTOR VEHICLE LEFT SIDE SIDESWIPE'\n",
            " 'PEDALCYCLIST STRUCK PEDESTRIAN'\n",
            " 'MOTOR VEHICLE STRUCK PEDALCYCLIST, RIGHT SIDE SIDESWIPE'\n",
            " 'DRIVERLESS VEHICLE RAN OFF ROAD - NO COLLISION'\n",
            " 'PEDALCYCLIST STRUCK PEDALCYCLIST FRONT END AT ANGLE'\n",
            " 'DRIVERLESS VEHICLE STRUCK MOTOR VEHICLE RIGHT SIDE SIDESWIPE'\n",
            " 'PEDALCYCLIST STRUCK PEDALCYCLIST REAR END'\n",
            " 'PEDALCYCLIST STRUCK MOTOR VEHICLE LEFT SIDE AT ANGLE'\n",
            " 'DRIVERLESS VEHICLE STRUCK OBJECT IN ROADWAY'\n",
            " 'PEDALCYCLIST RAN OFF ROAD - HIT FIXED OBJECT'\n",
            " 'PEDALCYCLIST STRUCK MOTOR VEHICLE RIGHT SIDE AT ANGLE'\n",
            " 'MOTORIZED SCOOTER COLLISION: COLLISION INVOLVING A MOTORIZED SCOOTER']\n",
            "INATTENTIONIND: [nan 'Y']\n",
            "UNDERINFL: ['N' '0' nan '1' 'Y']\n",
            "WEATHER: ['Clear' 'Raining' 'Overcast' nan 'Unknown' 'Other' 'Snowing'\n",
            " 'Sleet/Hail/Freezing Rain' 'Fog/Smog/Smoke' 'Blowing Sand/Dirt'\n",
            " 'Severe Crosswind' 'Partly Cloudy' 'Blowing Snow']\n",
            "ROADCOND: ['Dry' 'Wet' 'Ice' nan 'Unknown' 'Snow/Slush' 'Standing Water' 'Other'\n",
            " 'Sand/Mud/Dirt' 'Oil']\n",
            "LIGHTCOND: ['Daylight' 'Dusk' 'Dark - Street Lights On' nan 'Unknown' 'Dawn'\n",
            " 'Dark - No Street Lights' 'Dark - Street Lights Off' 'Other'\n",
            " 'Dark - Unknown Lighting']\n",
            "PEDROWNOTGRNT: [nan 'Y']\n",
            "SDOTCOLNUM: [      nan  5101020.  9359012. ... 13067021. 13066010. 13038024.]\n",
            "SPEEDING: [nan 'Y']\n",
            "ST_COLCODE: ['10' '13' '30' '0' '50' '14' '5' '32' ' ' '45' '22' '51' nan '15' '11'\n",
            " '66' '1' '20' '21' '23' '28' '12' '71' '16' '3' '2' '52' '26' '81' '19'\n",
            " '4' '27' '57' '74' '40' '25' '83' '6' '8' '24' '29' '53' '56' '72' '17'\n",
            " '41' '73' '65' '82' '49' '67' '84' '31' '42' '48' '43' '64' '54' '60'\n",
            " '87' '7' '85' '18' '88']\n",
            "ST_COLDESC: ['Entering at angle'\n",
            " 'From same direction - both going straight - both moving - rear-end'\n",
            " 'From opposite direction - all others'\n",
            " 'Vehicle going straight hits pedestrian' 'Fixed object'\n",
            " 'From same direction - both going straight - one stopped - rear-end'\n",
            " 'Vehicle Strikes Pedalcyclist' 'One parked--one moving' nan\n",
            " 'Vehicle - Pedalcyclist' 'One car leaving driveway access' 'Other object'\n",
            " 'From same direction - one left turn - one straight'\n",
            " 'From same direction - both going straight - both moving - sideswipe'\n",
            " 'Vehicle Hits Other Road or Construction Machinery'\n",
            " 'Vehicle turning right hits pedestrian' 'One car leaving parked position'\n",
            " 'One car entering driveway access' 'From same direction - all others'\n",
            " 'From opposite direction - one left turn - one straight'\n",
            " 'From same direction - both going straight - one stopped - sideswipe'\n",
            " 'Same direction -- both turning right -- both moving -- sideswipe'\n",
            " 'From same direction - one right turn - one straight'\n",
            " 'Vehicle backing hits pedestrian' 'Vehicle turning left hits pedestrian'\n",
            " 'Vehicle overturned'\n",
            " 'From opposite direction - both going straight - sideswipe'\n",
            " 'Same direction -- both turning left -- both moving -- sideswipe'\n",
            " 'One car entering parked position'\n",
            " 'Vehicle hits Pedestrian - All Other Actions'\n",
            " 'From opposite direction - both going straight - one stopped - sideswipe'\n",
            " 'All other non-collision'\n",
            " 'Same direction -- both turning right -- one stopped -- rear end'\n",
            " 'Railway Vehicle Strikes Vehicle'\n",
            " 'From opposite direction - one stopped - head-on'\n",
            " 'Same direction -- both turning left -- both moving -- rear end'\n",
            " 'Pedalcyclist Strikes Moving Vehicle'\n",
            " 'Pedalcyclist All Other Involvements ONE UNIT - PEDALCYCLIST ONLY or PEDALCYCLIST STR'\n",
            " 'From opposite direction - both moving - head-on'\n",
            " 'From opposite direction - one left turn - one right turn'\n",
            " 'Person fell, jumped or was pushed from vehicle'\n",
            " 'Breakage of any part of the vehicle resulting in injury or in further property damage'\n",
            " 'Same direction -- both turning right -- one stopped -- sideswipe'\n",
            " 'Strikes or Was Struck by Object from the Load of Another Vehicle'\n",
            " 'Vehicle Strikes Railway Vehicle'\n",
            " 'Same direction -- both turning right -- both moving -- rear end'\n",
            " 'Vehicle Struck by City Road or Construction Machinery'\n",
            " 'Same direction -- both turning left -- one stopped -- sideswipe'\n",
            " 'Non-domestic animal (deer, bear, elk, etc)'\n",
            " 'Vehicle Struck by Other Road or Construction Machinery'\n",
            " 'Same direction -- both turning left -- one stopped -- rear end'\n",
            " 'Not stated' 'Railway Vehicle Strikes Pedestrian'\n",
            " 'Domestic animal other (cat, dog, etc)'\n",
            " 'Railway Vehicle Strikes Pedalcyclist'\n",
            " 'Vehicle Hits City Road or Construction Machinery'\n",
            " 'Fire started in vehicle'\n",
            " 'Vehicle Hits State Road or Construction Machinery'\n",
            " 'Vehicle Strikes All Other Non-Domestic Animal'\n",
            " 'Pedalcyclist Strikes Pedalcyclist or Pedestrian' 'Vehicle Strikes Deer'\n",
            " 'Strikes or Was Struck by a Part of Another Vehicle (Not from Load)'\n",
            " 'All Other Multi Vehicle']\n",
            "SEGLANEKEY: [    0 15057  6828 ... 45465  6850 45748]\n",
            "CROSSWALKKEY: [     0 524507 520838 ... 626530 524163 523681]\n",
            "HITPARKEDCAR: ['N' 'Y']\n"
          ],
          "name": "stdout"
        }
      ]
    },
    {
      "cell_type": "markdown",
      "metadata": {
        "id": "LiIPmvmn_J9M"
      },
      "source": [
        "# Data Cleaning"
      ]
    },
    {
      "cell_type": "markdown",
      "metadata": {
        "id": "SUBplCepmGU5"
      },
      "source": [
        "There are NaN value that filled with ' ' and \n",
        "'unknown' instead."
      ]
    },
    {
      "cell_type": "code",
      "metadata": {
        "id": "QagdEdCQmNFg"
      },
      "source": [
        "str_cols = dataset.select_dtypes(['object']).columns\n",
        "dataset[str_cols] = dataset[str_cols].replace(' ',np.nan).replace('Unknown',np.nan)"
      ],
      "execution_count": 117,
      "outputs": []
    },
    {
      "cell_type": "code",
      "metadata": {
        "id": "y33mATA1ZV57",
        "outputId": "957aff0f-1947-4409-e055-bdb171bb9fc7",
        "colab": {
          "base_uri": "https://localhost:8080/",
          "height": 816
        }
      },
      "source": [
        "dataset.info()"
      ],
      "execution_count": 118,
      "outputs": [
        {
          "output_type": "stream",
          "text": [
            "<class 'pandas.core.frame.DataFrame'>\n",
            "RangeIndex: 221738 entries, 0 to 221737\n",
            "Data columns (total 40 columns):\n",
            " #   Column           Non-Null Count   Dtype  \n",
            "---  ------           --------------   -----  \n",
            " 0   X                214260 non-null  float64\n",
            " 1   Y                214260 non-null  float64\n",
            " 2   OBJECTID         221738 non-null  int64  \n",
            " 3   INCKEY           221738 non-null  int64  \n",
            " 4   COLDETKEY        221738 non-null  int64  \n",
            " 5   REPORTNO         221738 non-null  object \n",
            " 6   STATUS           221738 non-null  object \n",
            " 7   ADDRTYPE         218024 non-null  object \n",
            " 8   INTKEY           72027 non-null   float64\n",
            " 9   LOCATION         217145 non-null  object \n",
            " 10  EXCEPTRSNCODE    11785 non-null   object \n",
            " 11  EXCEPTRSNDESC    11785 non-null   object \n",
            " 12  SEVERITYCODE     221737 non-null  object \n",
            " 13  SEVERITYDESC     200081 non-null  object \n",
            " 14  COLLISIONTYPE    195287 non-null  object \n",
            " 15  PERSONCOUNT      221738 non-null  int64  \n",
            " 16  PEDCOUNT         221738 non-null  int64  \n",
            " 17  PEDCYLCOUNT      221738 non-null  int64  \n",
            " 18  VEHCOUNT         221738 non-null  int64  \n",
            " 19  INJURIES         221738 non-null  int64  \n",
            " 20  SERIOUSINJURIES  221738 non-null  int64  \n",
            " 21  FATALITIES       221738 non-null  int64  \n",
            " 22  INCDATE          221738 non-null  object \n",
            " 23  INCDTTM          221738 non-null  object \n",
            " 24  JUNCTIONTYPE     209738 non-null  object \n",
            " 25  SDOT_COLCODE     221737 non-null  float64\n",
            " 26  SDOT_COLDESC     221737 non-null  object \n",
            " 27  INATTENTIONIND   30188 non-null   object \n",
            " 28  UNDERINFL        195307 non-null  object \n",
            " 29  WEATHER          179966 non-null  object \n",
            " 30  ROADCOND         180039 non-null  object \n",
            " 31  LIGHTCOND        181475 non-null  object \n",
            " 32  PEDROWNOTGRNT    5195 non-null    object \n",
            " 33  SDOTCOLNUM       127205 non-null  float64\n",
            " 34  SPEEDING         9936 non-null    object \n",
            " 35  ST_COLCODE       195287 non-null  object \n",
            " 36  ST_COLDESC       195287 non-null  object \n",
            " 37  SEGLANEKEY       221738 non-null  int64  \n",
            " 38  CROSSWALKKEY     221738 non-null  int64  \n",
            " 39  HITPARKEDCAR     221738 non-null  object \n",
            "dtypes: float64(5), int64(12), object(23)\n",
            "memory usage: 67.7+ MB\n"
          ],
          "name": "stdout"
        }
      ]
    },
    {
      "cell_type": "code",
      "metadata": {
        "id": "mvNbX0GRdRGc",
        "outputId": "e13deea3-0531-42b5-fce8-2e682f7b0689",
        "colab": {
          "base_uri": "https://localhost:8080/",
          "height": 714
        }
      },
      "source": [
        "dataset.isna().sum().sort_values()"
      ],
      "execution_count": 119,
      "outputs": [
        {
          "output_type": "execute_result",
          "data": {
            "text/plain": [
              "INJURIES                0\n",
              "SEGLANEKEY              0\n",
              "INCDTTM                 0\n",
              "INCDATE                 0\n",
              "FATALITIES              0\n",
              "SERIOUSINJURIES         0\n",
              "CROSSWALKKEY            0\n",
              "VEHCOUNT                0\n",
              "PEDCYLCOUNT             0\n",
              "PEDCOUNT                0\n",
              "PERSONCOUNT             0\n",
              "HITPARKEDCAR            0\n",
              "OBJECTID                0\n",
              "INCKEY                  0\n",
              "COLDETKEY               0\n",
              "REPORTNO                0\n",
              "STATUS                  0\n",
              "SEVERITYCODE            1\n",
              "SDOT_COLDESC            1\n",
              "SDOT_COLCODE            1\n",
              "ADDRTYPE             3714\n",
              "LOCATION             4593\n",
              "X                    7478\n",
              "Y                    7478\n",
              "JUNCTIONTYPE        12000\n",
              "SEVERITYDESC        21657\n",
              "UNDERINFL           26431\n",
              "COLLISIONTYPE       26451\n",
              "ST_COLDESC          26451\n",
              "ST_COLCODE          26451\n",
              "LIGHTCOND           40263\n",
              "ROADCOND            41699\n",
              "WEATHER             41772\n",
              "SDOTCOLNUM          94533\n",
              "INTKEY             149711\n",
              "INATTENTIONIND     191550\n",
              "EXCEPTRSNDESC      209953\n",
              "EXCEPTRSNCODE      209953\n",
              "SPEEDING           211802\n",
              "PEDROWNOTGRNT      216543\n",
              "dtype: int64"
            ]
          },
          "metadata": {
            "tags": []
          },
          "execution_count": 119
        }
      ]
    },
    {
      "cell_type": "markdown",
      "metadata": {
        "id": "l3dJLXzhqkhO"
      },
      "source": [
        "In this section I will delete some features such as features with NaN values more than 50k, features with desc values that already described by code, and ID number."
      ]
    },
    {
      "cell_type": "code",
      "metadata": {
        "id": "L8lFCkN6l0Sk"
      },
      "source": [
        "rem_col = dataset.isna().sum()[dataset.isna().sum().sort_values() > 50000].index"
      ],
      "execution_count": 120,
      "outputs": []
    },
    {
      "cell_type": "code",
      "metadata": {
        "id": "ZKQosWhvl3o5"
      },
      "source": [
        "a = [col for col in dataset.columns if col not in rem_col]\n",
        "a = [col for col in dataset[a].columns if col not in np.array(['SEVERITYCODE.1','LOCATION','SEVERITYDESC','INCDATE','INCDTTM',\n",
        "                                                            'SDOT_COLDESC','ST_COLDESC','SEGLANEKEY','CROSSWALKKEY','OBJECTID','INCKEY',\n",
        "                                                            'COLDETKEY','REPORTNO'])]"
      ],
      "execution_count": 132,
      "outputs": []
    },
    {
      "cell_type": "code",
      "metadata": {
        "id": "zpH-oz4-rip-",
        "outputId": "dbcd74ea-9949-4e01-bb01-60ab05f49536",
        "colab": {
          "base_uri": "https://localhost:8080/",
          "height": 394
        }
      },
      "source": [
        "df = dataset[a]\n",
        "df = df[df.SEVERITYCODE.isna()==False] #remove NaN value in label\n",
        "df.head()"
      ],
      "execution_count": 133,
      "outputs": [
        {
          "output_type": "execute_result",
          "data": {
            "text/html": [
              "<div>\n",
              "<style scoped>\n",
              "    .dataframe tbody tr th:only-of-type {\n",
              "        vertical-align: middle;\n",
              "    }\n",
              "\n",
              "    .dataframe tbody tr th {\n",
              "        vertical-align: top;\n",
              "    }\n",
              "\n",
              "    .dataframe thead th {\n",
              "        text-align: right;\n",
              "    }\n",
              "</style>\n",
              "<table border=\"1\" class=\"dataframe\">\n",
              "  <thead>\n",
              "    <tr style=\"text-align: right;\">\n",
              "      <th></th>\n",
              "      <th>X</th>\n",
              "      <th>Y</th>\n",
              "      <th>STATUS</th>\n",
              "      <th>ADDRTYPE</th>\n",
              "      <th>SEVERITYCODE</th>\n",
              "      <th>COLLISIONTYPE</th>\n",
              "      <th>PERSONCOUNT</th>\n",
              "      <th>PEDCOUNT</th>\n",
              "      <th>PEDCYLCOUNT</th>\n",
              "      <th>VEHCOUNT</th>\n",
              "      <th>INJURIES</th>\n",
              "      <th>SERIOUSINJURIES</th>\n",
              "      <th>FATALITIES</th>\n",
              "      <th>JUNCTIONTYPE</th>\n",
              "      <th>SDOT_COLCODE</th>\n",
              "      <th>UNDERINFL</th>\n",
              "      <th>WEATHER</th>\n",
              "      <th>ROADCOND</th>\n",
              "      <th>LIGHTCOND</th>\n",
              "      <th>ST_COLCODE</th>\n",
              "      <th>HITPARKEDCAR</th>\n",
              "    </tr>\n",
              "  </thead>\n",
              "  <tbody>\n",
              "    <tr>\n",
              "      <th>0</th>\n",
              "      <td>-122.356511</td>\n",
              "      <td>47.517361</td>\n",
              "      <td>Matched</td>\n",
              "      <td>Intersection</td>\n",
              "      <td>1</td>\n",
              "      <td>Angles</td>\n",
              "      <td>2</td>\n",
              "      <td>0</td>\n",
              "      <td>0</td>\n",
              "      <td>2</td>\n",
              "      <td>0</td>\n",
              "      <td>0</td>\n",
              "      <td>0</td>\n",
              "      <td>At Intersection (intersection related)</td>\n",
              "      <td>11.0</td>\n",
              "      <td>N</td>\n",
              "      <td>Clear</td>\n",
              "      <td>Dry</td>\n",
              "      <td>Daylight</td>\n",
              "      <td>10</td>\n",
              "      <td>N</td>\n",
              "    </tr>\n",
              "    <tr>\n",
              "      <th>1</th>\n",
              "      <td>-122.361405</td>\n",
              "      <td>47.702064</td>\n",
              "      <td>Matched</td>\n",
              "      <td>Block</td>\n",
              "      <td>1</td>\n",
              "      <td>Rear Ended</td>\n",
              "      <td>2</td>\n",
              "      <td>0</td>\n",
              "      <td>0</td>\n",
              "      <td>2</td>\n",
              "      <td>0</td>\n",
              "      <td>0</td>\n",
              "      <td>0</td>\n",
              "      <td>Mid-Block (not related to intersection)</td>\n",
              "      <td>14.0</td>\n",
              "      <td>0</td>\n",
              "      <td>Raining</td>\n",
              "      <td>Wet</td>\n",
              "      <td>Dusk</td>\n",
              "      <td>13</td>\n",
              "      <td>N</td>\n",
              "    </tr>\n",
              "    <tr>\n",
              "      <th>2</th>\n",
              "      <td>-122.317414</td>\n",
              "      <td>47.664028</td>\n",
              "      <td>Matched</td>\n",
              "      <td>Block</td>\n",
              "      <td>2</td>\n",
              "      <td>Head On</td>\n",
              "      <td>2</td>\n",
              "      <td>0</td>\n",
              "      <td>0</td>\n",
              "      <td>2</td>\n",
              "      <td>1</td>\n",
              "      <td>0</td>\n",
              "      <td>0</td>\n",
              "      <td>Mid-Block (not related to intersection)</td>\n",
              "      <td>11.0</td>\n",
              "      <td>N</td>\n",
              "      <td>Clear</td>\n",
              "      <td>Dry</td>\n",
              "      <td>Dark - Street Lights On</td>\n",
              "      <td>30</td>\n",
              "      <td>N</td>\n",
              "    </tr>\n",
              "    <tr>\n",
              "      <th>3</th>\n",
              "      <td>-122.318234</td>\n",
              "      <td>47.619927</td>\n",
              "      <td>Matched</td>\n",
              "      <td>Intersection</td>\n",
              "      <td>2</td>\n",
              "      <td>Pedestrian</td>\n",
              "      <td>3</td>\n",
              "      <td>1</td>\n",
              "      <td>0</td>\n",
              "      <td>1</td>\n",
              "      <td>1</td>\n",
              "      <td>0</td>\n",
              "      <td>0</td>\n",
              "      <td>At Intersection (intersection related)</td>\n",
              "      <td>24.0</td>\n",
              "      <td>N</td>\n",
              "      <td>Raining</td>\n",
              "      <td>Wet</td>\n",
              "      <td>Dark - Street Lights On</td>\n",
              "      <td>0</td>\n",
              "      <td>N</td>\n",
              "    </tr>\n",
              "    <tr>\n",
              "      <th>4</th>\n",
              "      <td>-122.351724</td>\n",
              "      <td>47.560306</td>\n",
              "      <td>Matched</td>\n",
              "      <td>Block</td>\n",
              "      <td>2</td>\n",
              "      <td>Other</td>\n",
              "      <td>2</td>\n",
              "      <td>0</td>\n",
              "      <td>0</td>\n",
              "      <td>1</td>\n",
              "      <td>1</td>\n",
              "      <td>0</td>\n",
              "      <td>0</td>\n",
              "      <td>Mid-Block (not related to intersection)</td>\n",
              "      <td>28.0</td>\n",
              "      <td>0</td>\n",
              "      <td>Clear</td>\n",
              "      <td>Ice</td>\n",
              "      <td>Dark - Street Lights On</td>\n",
              "      <td>50</td>\n",
              "      <td>N</td>\n",
              "    </tr>\n",
              "  </tbody>\n",
              "</table>\n",
              "</div>"
            ],
            "text/plain": [
              "            X          Y  ... ST_COLCODE HITPARKEDCAR\n",
              "0 -122.356511  47.517361  ...         10            N\n",
              "1 -122.361405  47.702064  ...         13            N\n",
              "2 -122.317414  47.664028  ...         30            N\n",
              "3 -122.318234  47.619927  ...          0            N\n",
              "4 -122.351724  47.560306  ...         50            N\n",
              "\n",
              "[5 rows x 21 columns]"
            ]
          },
          "metadata": {
            "tags": []
          },
          "execution_count": 133
        }
      ]
    },
    {
      "cell_type": "code",
      "metadata": {
        "id": "WMxZ6dKUuJdW",
        "outputId": "1f0f46a9-5a1a-484b-d790-72d815e6818d",
        "colab": {
          "base_uri": "https://localhost:8080/",
          "height": 680
        }
      },
      "source": [
        "for i in df.columns:\n",
        "    print(f\"{i}: {df[i].unique()}\")"
      ],
      "execution_count": 134,
      "outputs": [
        {
          "output_type": "stream",
          "text": [
            "X: [-122.35651081 -122.36140492 -122.31741361 ... -122.28073397 -122.2848477\n",
            " -122.2807745 ]\n",
            "Y: [47.5173613  47.70206353 47.66402754 ... 47.55783671 47.51973913\n",
            " 47.55156407]\n",
            "STATUS: ['Matched' 'Unmatched']\n",
            "ADDRTYPE: ['Intersection' 'Block' nan 'Alley']\n",
            "SEVERITYCODE: ['1' '2' '2b' '0' '3']\n",
            "COLLISIONTYPE: ['Angles' 'Rear Ended' 'Head On' 'Pedestrian' 'Other' 'Cycles'\n",
            " 'Parked Car' nan 'Left Turn' 'Sideswipe' 'Right Turn']\n",
            "PERSONCOUNT: [ 2  3  0  1  7  5  6  4  8 16 25 12 11 17  9 22 26 13 10 37 28 36 14 19\n",
            " 53 30 29 23 44 15 32 21 20 41 27 35 43 81 18 48 24 34 57 47 39 31 54 93]\n",
            "PEDCOUNT: [0 1 2 3 4 5 6]\n",
            "PEDCYLCOUNT: [0 1 2]\n",
            "VEHCOUNT: [ 2  1  3  0  4  7  5  6  8 11  9 14 10 12 13 15]\n",
            "INJURIES: [ 0  1  3  2  5  4  6  7  8 11  9 13 10 12 15 78]\n",
            "SERIOUSINJURIES: [ 0  1  2  3  5  4 41]\n",
            "FATALITIES: [0 2 1 4 3 5]\n",
            "JUNCTIONTYPE: ['At Intersection (intersection related)'\n",
            " 'Mid-Block (not related to intersection)'\n",
            " 'Mid-Block (but intersection related)' 'Driveway Junction' nan\n",
            " 'At Intersection (but not related to intersection)' 'Ramp Junction']\n",
            "SDOT_COLCODE: [11. 14. 24. 28. 18. 13. 15. 51.  0. 16. 26. nan 33. 69. 12. 29. 23. 55.\n",
            " 56. 34. 21. 44. 66. 31. 25. 48. 54. 32. 27. 36. 64. 22. 47. 58. 35. 61.\n",
            " 53. 46. 68. 52. 87.]\n",
            "UNDERINFL: ['N' '0' nan '1' 'Y']\n",
            "WEATHER: ['Clear' 'Raining' 'Overcast' nan 'Other' 'Snowing'\n",
            " 'Sleet/Hail/Freezing Rain' 'Fog/Smog/Smoke' 'Blowing Sand/Dirt'\n",
            " 'Severe Crosswind' 'Partly Cloudy' 'Blowing Snow']\n",
            "ROADCOND: ['Dry' 'Wet' 'Ice' nan 'Snow/Slush' 'Standing Water' 'Other'\n",
            " 'Sand/Mud/Dirt' 'Oil']\n",
            "LIGHTCOND: ['Daylight' 'Dusk' 'Dark - Street Lights On' nan 'Dawn'\n",
            " 'Dark - No Street Lights' 'Dark - Street Lights Off' 'Other'\n",
            " 'Dark - Unknown Lighting']\n",
            "ST_COLCODE: ['10' '13' '30' '0' '50' '14' '5' '32' nan '45' '22' '51' '15' '11' '66'\n",
            " '1' '20' '21' '23' '28' '12' '71' '16' '3' '2' '52' '26' '81' '19' '4'\n",
            " '27' '57' '74' '40' '25' '83' '6' '8' '24' '29' '53' '56' '72' '17' '41'\n",
            " '73' '65' '82' '49' '67' '84' '31' '42' '48' '43' '64' '54' '60' '87' '7'\n",
            " '85' '18' '88']\n",
            "HITPARKEDCAR: ['N' 'Y']\n"
          ],
          "name": "stdout"
        }
      ]
    },
    {
      "cell_type": "code",
      "metadata": {
        "id": "M_gbc-Ndh1SJ",
        "outputId": "d21d2128-1447-4fe3-b212-ad90a54e8ff5",
        "colab": {
          "base_uri": "https://localhost:8080/",
          "height": 391
        }
      },
      "source": [
        "df.isna().sum()"
      ],
      "execution_count": 139,
      "outputs": [
        {
          "output_type": "execute_result",
          "data": {
            "text/plain": [
              "X                   7478\n",
              "Y                   7478\n",
              "STATUS                 0\n",
              "ADDRTYPE            3714\n",
              "SEVERITYCODE           0\n",
              "COLLISIONTYPE      26450\n",
              "PERSONCOUNT            0\n",
              "PEDCOUNT               0\n",
              "PEDCYLCOUNT            0\n",
              "VEHCOUNT               0\n",
              "INJURIES               0\n",
              "SERIOUSINJURIES        0\n",
              "FATALITIES             0\n",
              "JUNCTIONTYPE       12000\n",
              "SDOT_COLCODE           1\n",
              "UNDERINFL          26431\n",
              "WEATHER            41772\n",
              "ROADCOND           41699\n",
              "LIGHTCOND          40263\n",
              "ST_COLCODE         26450\n",
              "HITPARKEDCAR           0\n",
              "dtype: int64"
            ]
          },
          "metadata": {
            "tags": []
          },
          "execution_count": 139
        }
      ]
    },
    {
      "cell_type": "code",
      "metadata": {
        "id": "TrHhxQYv8r2g",
        "outputId": "bf146d3b-b794-4085-e61b-464c2ee4b16d",
        "colab": {
          "base_uri": "https://localhost:8080/",
          "height": 34
        }
      },
      "source": [
        "df[a].shape"
      ],
      "execution_count": 140,
      "outputs": [
        {
          "output_type": "execute_result",
          "data": {
            "text/plain": [
              "(221737, 21)"
            ]
          },
          "metadata": {
            "tags": []
          },
          "execution_count": 140
        }
      ]
    },
    {
      "cell_type": "markdown",
      "metadata": {
        "id": "iCmFB66B9nBZ"
      },
      "source": [
        "For UNDERINFL feature, the value seems weird, so I will change '1' to Y and '0' to 'N'"
      ]
    },
    {
      "cell_type": "code",
      "metadata": {
        "id": "263tontm95J2"
      },
      "source": [
        "df['UNDERINFL'] = df['UNDERINFL'].replace(['1','0'],['Y','N'])"
      ],
      "execution_count": 141,
      "outputs": []
    },
    {
      "cell_type": "markdown",
      "metadata": {
        "id": "83wlcaVO-vRN"
      },
      "source": [
        "The Number of each category of severity code:"
      ]
    },
    {
      "cell_type": "code",
      "metadata": {
        "id": "UwGgoLnIUHJw",
        "outputId": "353b50db-e635-4518-91d2-99758f30f3ce",
        "colab": {
          "base_uri": "https://localhost:8080/",
          "height": 779
        }
      },
      "source": [
        "df"
      ],
      "execution_count": 142,
      "outputs": [
        {
          "output_type": "execute_result",
          "data": {
            "text/html": [
              "<div>\n",
              "<style scoped>\n",
              "    .dataframe tbody tr th:only-of-type {\n",
              "        vertical-align: middle;\n",
              "    }\n",
              "\n",
              "    .dataframe tbody tr th {\n",
              "        vertical-align: top;\n",
              "    }\n",
              "\n",
              "    .dataframe thead th {\n",
              "        text-align: right;\n",
              "    }\n",
              "</style>\n",
              "<table border=\"1\" class=\"dataframe\">\n",
              "  <thead>\n",
              "    <tr style=\"text-align: right;\">\n",
              "      <th></th>\n",
              "      <th>X</th>\n",
              "      <th>Y</th>\n",
              "      <th>STATUS</th>\n",
              "      <th>ADDRTYPE</th>\n",
              "      <th>SEVERITYCODE</th>\n",
              "      <th>COLLISIONTYPE</th>\n",
              "      <th>PERSONCOUNT</th>\n",
              "      <th>PEDCOUNT</th>\n",
              "      <th>PEDCYLCOUNT</th>\n",
              "      <th>VEHCOUNT</th>\n",
              "      <th>INJURIES</th>\n",
              "      <th>SERIOUSINJURIES</th>\n",
              "      <th>FATALITIES</th>\n",
              "      <th>JUNCTIONTYPE</th>\n",
              "      <th>SDOT_COLCODE</th>\n",
              "      <th>UNDERINFL</th>\n",
              "      <th>WEATHER</th>\n",
              "      <th>ROADCOND</th>\n",
              "      <th>LIGHTCOND</th>\n",
              "      <th>ST_COLCODE</th>\n",
              "      <th>HITPARKEDCAR</th>\n",
              "    </tr>\n",
              "  </thead>\n",
              "  <tbody>\n",
              "    <tr>\n",
              "      <th>0</th>\n",
              "      <td>-122.356511</td>\n",
              "      <td>47.517361</td>\n",
              "      <td>Matched</td>\n",
              "      <td>Intersection</td>\n",
              "      <td>1</td>\n",
              "      <td>Angles</td>\n",
              "      <td>2</td>\n",
              "      <td>0</td>\n",
              "      <td>0</td>\n",
              "      <td>2</td>\n",
              "      <td>0</td>\n",
              "      <td>0</td>\n",
              "      <td>0</td>\n",
              "      <td>At Intersection (intersection related)</td>\n",
              "      <td>11.0</td>\n",
              "      <td>N</td>\n",
              "      <td>Clear</td>\n",
              "      <td>Dry</td>\n",
              "      <td>Daylight</td>\n",
              "      <td>10</td>\n",
              "      <td>N</td>\n",
              "    </tr>\n",
              "    <tr>\n",
              "      <th>1</th>\n",
              "      <td>-122.361405</td>\n",
              "      <td>47.702064</td>\n",
              "      <td>Matched</td>\n",
              "      <td>Block</td>\n",
              "      <td>1</td>\n",
              "      <td>Rear Ended</td>\n",
              "      <td>2</td>\n",
              "      <td>0</td>\n",
              "      <td>0</td>\n",
              "      <td>2</td>\n",
              "      <td>0</td>\n",
              "      <td>0</td>\n",
              "      <td>0</td>\n",
              "      <td>Mid-Block (not related to intersection)</td>\n",
              "      <td>14.0</td>\n",
              "      <td>N</td>\n",
              "      <td>Raining</td>\n",
              "      <td>Wet</td>\n",
              "      <td>Dusk</td>\n",
              "      <td>13</td>\n",
              "      <td>N</td>\n",
              "    </tr>\n",
              "    <tr>\n",
              "      <th>2</th>\n",
              "      <td>-122.317414</td>\n",
              "      <td>47.664028</td>\n",
              "      <td>Matched</td>\n",
              "      <td>Block</td>\n",
              "      <td>2</td>\n",
              "      <td>Head On</td>\n",
              "      <td>2</td>\n",
              "      <td>0</td>\n",
              "      <td>0</td>\n",
              "      <td>2</td>\n",
              "      <td>1</td>\n",
              "      <td>0</td>\n",
              "      <td>0</td>\n",
              "      <td>Mid-Block (not related to intersection)</td>\n",
              "      <td>11.0</td>\n",
              "      <td>N</td>\n",
              "      <td>Clear</td>\n",
              "      <td>Dry</td>\n",
              "      <td>Dark - Street Lights On</td>\n",
              "      <td>30</td>\n",
              "      <td>N</td>\n",
              "    </tr>\n",
              "    <tr>\n",
              "      <th>3</th>\n",
              "      <td>-122.318234</td>\n",
              "      <td>47.619927</td>\n",
              "      <td>Matched</td>\n",
              "      <td>Intersection</td>\n",
              "      <td>2</td>\n",
              "      <td>Pedestrian</td>\n",
              "      <td>3</td>\n",
              "      <td>1</td>\n",
              "      <td>0</td>\n",
              "      <td>1</td>\n",
              "      <td>1</td>\n",
              "      <td>0</td>\n",
              "      <td>0</td>\n",
              "      <td>At Intersection (intersection related)</td>\n",
              "      <td>24.0</td>\n",
              "      <td>N</td>\n",
              "      <td>Raining</td>\n",
              "      <td>Wet</td>\n",
              "      <td>Dark - Street Lights On</td>\n",
              "      <td>0</td>\n",
              "      <td>N</td>\n",
              "    </tr>\n",
              "    <tr>\n",
              "      <th>4</th>\n",
              "      <td>-122.351724</td>\n",
              "      <td>47.560306</td>\n",
              "      <td>Matched</td>\n",
              "      <td>Block</td>\n",
              "      <td>2</td>\n",
              "      <td>Other</td>\n",
              "      <td>2</td>\n",
              "      <td>0</td>\n",
              "      <td>0</td>\n",
              "      <td>1</td>\n",
              "      <td>1</td>\n",
              "      <td>0</td>\n",
              "      <td>0</td>\n",
              "      <td>Mid-Block (not related to intersection)</td>\n",
              "      <td>28.0</td>\n",
              "      <td>N</td>\n",
              "      <td>Clear</td>\n",
              "      <td>Ice</td>\n",
              "      <td>Dark - Street Lights On</td>\n",
              "      <td>50</td>\n",
              "      <td>N</td>\n",
              "    </tr>\n",
              "    <tr>\n",
              "      <th>...</th>\n",
              "      <td>...</td>\n",
              "      <td>...</td>\n",
              "      <td>...</td>\n",
              "      <td>...</td>\n",
              "      <td>...</td>\n",
              "      <td>...</td>\n",
              "      <td>...</td>\n",
              "      <td>...</td>\n",
              "      <td>...</td>\n",
              "      <td>...</td>\n",
              "      <td>...</td>\n",
              "      <td>...</td>\n",
              "      <td>...</td>\n",
              "      <td>...</td>\n",
              "      <td>...</td>\n",
              "      <td>...</td>\n",
              "      <td>...</td>\n",
              "      <td>...</td>\n",
              "      <td>...</td>\n",
              "      <td>...</td>\n",
              "      <td>...</td>\n",
              "    </tr>\n",
              "    <tr>\n",
              "      <th>221733</th>\n",
              "      <td>-122.336431</td>\n",
              "      <td>47.689605</td>\n",
              "      <td>Unmatched</td>\n",
              "      <td>Block</td>\n",
              "      <td>0</td>\n",
              "      <td>NaN</td>\n",
              "      <td>2</td>\n",
              "      <td>0</td>\n",
              "      <td>0</td>\n",
              "      <td>0</td>\n",
              "      <td>0</td>\n",
              "      <td>0</td>\n",
              "      <td>0</td>\n",
              "      <td>Mid-Block (not related to intersection)</td>\n",
              "      <td>13.0</td>\n",
              "      <td>NaN</td>\n",
              "      <td>NaN</td>\n",
              "      <td>NaN</td>\n",
              "      <td>NaN</td>\n",
              "      <td>NaN</td>\n",
              "      <td>Y</td>\n",
              "    </tr>\n",
              "    <tr>\n",
              "      <th>221734</th>\n",
              "      <td>-122.379619</td>\n",
              "      <td>47.668051</td>\n",
              "      <td>Matched</td>\n",
              "      <td>Block</td>\n",
              "      <td>1</td>\n",
              "      <td>Sideswipe</td>\n",
              "      <td>2</td>\n",
              "      <td>0</td>\n",
              "      <td>0</td>\n",
              "      <td>2</td>\n",
              "      <td>0</td>\n",
              "      <td>0</td>\n",
              "      <td>0</td>\n",
              "      <td>Mid-Block (not related to intersection)</td>\n",
              "      <td>11.0</td>\n",
              "      <td>N</td>\n",
              "      <td>Clear</td>\n",
              "      <td>Dry</td>\n",
              "      <td>Daylight</td>\n",
              "      <td>71</td>\n",
              "      <td>N</td>\n",
              "    </tr>\n",
              "    <tr>\n",
              "      <th>221735</th>\n",
              "      <td>-122.312837</td>\n",
              "      <td>47.526850</td>\n",
              "      <td>Matched</td>\n",
              "      <td>Intersection</td>\n",
              "      <td>2</td>\n",
              "      <td>Angles</td>\n",
              "      <td>3</td>\n",
              "      <td>0</td>\n",
              "      <td>0</td>\n",
              "      <td>2</td>\n",
              "      <td>3</td>\n",
              "      <td>0</td>\n",
              "      <td>0</td>\n",
              "      <td>At Intersection (intersection related)</td>\n",
              "      <td>11.0</td>\n",
              "      <td>N</td>\n",
              "      <td>Clear</td>\n",
              "      <td>Dry</td>\n",
              "      <td>Daylight</td>\n",
              "      <td>10</td>\n",
              "      <td>N</td>\n",
              "    </tr>\n",
              "    <tr>\n",
              "      <th>221736</th>\n",
              "      <td>-122.285051</td>\n",
              "      <td>47.567923</td>\n",
              "      <td>Matched</td>\n",
              "      <td>Intersection</td>\n",
              "      <td>2</td>\n",
              "      <td>Angles</td>\n",
              "      <td>3</td>\n",
              "      <td>0</td>\n",
              "      <td>0</td>\n",
              "      <td>2</td>\n",
              "      <td>2</td>\n",
              "      <td>0</td>\n",
              "      <td>0</td>\n",
              "      <td>At Intersection (intersection related)</td>\n",
              "      <td>11.0</td>\n",
              "      <td>N</td>\n",
              "      <td>Clear</td>\n",
              "      <td>Dry</td>\n",
              "      <td>Daylight</td>\n",
              "      <td>10</td>\n",
              "      <td>N</td>\n",
              "    </tr>\n",
              "    <tr>\n",
              "      <th>221737</th>\n",
              "      <td>-122.363032</td>\n",
              "      <td>47.548385</td>\n",
              "      <td>Matched</td>\n",
              "      <td>Block</td>\n",
              "      <td>2</td>\n",
              "      <td>Parked Car</td>\n",
              "      <td>3</td>\n",
              "      <td>0</td>\n",
              "      <td>0</td>\n",
              "      <td>2</td>\n",
              "      <td>2</td>\n",
              "      <td>0</td>\n",
              "      <td>0</td>\n",
              "      <td>Mid-Block (not related to intersection)</td>\n",
              "      <td>11.0</td>\n",
              "      <td>N</td>\n",
              "      <td>Raining</td>\n",
              "      <td>Wet</td>\n",
              "      <td>Daylight</td>\n",
              "      <td>32</td>\n",
              "      <td>N</td>\n",
              "    </tr>\n",
              "  </tbody>\n",
              "</table>\n",
              "<p>221737 rows × 21 columns</p>\n",
              "</div>"
            ],
            "text/plain": [
              "                 X          Y  ... ST_COLCODE HITPARKEDCAR\n",
              "0      -122.356511  47.517361  ...         10            N\n",
              "1      -122.361405  47.702064  ...         13            N\n",
              "2      -122.317414  47.664028  ...         30            N\n",
              "3      -122.318234  47.619927  ...          0            N\n",
              "4      -122.351724  47.560306  ...         50            N\n",
              "...            ...        ...  ...        ...          ...\n",
              "221733 -122.336431  47.689605  ...        NaN            Y\n",
              "221734 -122.379619  47.668051  ...         71            N\n",
              "221735 -122.312837  47.526850  ...         10            N\n",
              "221736 -122.285051  47.567923  ...         10            N\n",
              "221737 -122.363032  47.548385  ...         32            N\n",
              "\n",
              "[221737 rows x 21 columns]"
            ]
          },
          "metadata": {
            "tags": []
          },
          "execution_count": 142
        }
      ]
    },
    {
      "cell_type": "code",
      "metadata": {
        "id": "94it231f9-vs",
        "outputId": "799ea289-8d02-4176-b0b3-a6fbe8dc8656",
        "colab": {
          "base_uri": "https://localhost:8080/",
          "height": 119
        }
      },
      "source": [
        "df.SEVERITYCODE.value_counts()"
      ],
      "execution_count": 143,
      "outputs": [
        {
          "output_type": "execute_result",
          "data": {
            "text/plain": [
              "1     137776\n",
              "2      58842\n",
              "0      21656\n",
              "2b      3111\n",
              "3        352\n",
              "Name: SEVERITYCODE, dtype: int64"
            ]
          },
          "metadata": {
            "tags": []
          },
          "execution_count": 143
        }
      ]
    },
    {
      "cell_type": "markdown",
      "metadata": {
        "id": "fAqwcHod_n3N"
      },
      "source": [
        "ST_COLCODE must be int not object"
      ]
    },
    {
      "cell_type": "code",
      "metadata": {
        "id": "gCyAWrsY_tla"
      },
      "source": [
        "df['ST_COLCODE'] = df['ST_COLCODE'].astype('float')"
      ],
      "execution_count": 145,
      "outputs": []
    },
    {
      "cell_type": "markdown",
      "metadata": {
        "id": "isOcTK49-Jbu"
      },
      "source": [
        "# Exploratory Data Analysis"
      ]
    },
    {
      "cell_type": "code",
      "metadata": {
        "id": "N7IqtYGv_Nrh"
      },
      "source": [
        "import seaborn as sns\n",
        "import matplotlib.pyplot as plt"
      ],
      "execution_count": 146,
      "outputs": []
    },
    {
      "cell_type": "code",
      "metadata": {
        "id": "fFgUrHC2_T9o",
        "outputId": "a1fced58-7b1b-4f46-ea58-cfa358f721bb",
        "colab": {
          "base_uri": "https://localhost:8080/",
          "height": 721
        }
      },
      "source": [
        "fig, axes = plt.subplots(3,4, figsize=(20,10))\n",
        "axes = axes.flatten()\n",
        "\n",
        "i = 0\n",
        "for t in df.select_dtypes('object').columns:\n",
        "    df[t].value_counts().plot(kind='bar', ax=axes[i], title=t)\n",
        "    i +=1"
      ],
      "execution_count": 148,
      "outputs": [
        {
          "output_type": "display_data",
          "data": {
            "image/png": "[encoded data removed]",
            "text/plain": [
              "<Figure size 1440x720 with 12 Axes>"
            ]
          },
          "metadata": {
            "tags": [],
            "needs_background": "light"
          }
        }
      ]
    },
    {
      "cell_type": "code",
      "metadata": {
        "id": "4K0WjMpRMhr3",
        "outputId": "260292a7-44ac-4dcd-93e1-ddaa10fb2f0d",
        "colab": {
          "base_uri": "https://localhost:8080/",
          "height": 606
        }
      },
      "source": [
        "x_var = \"SEVERITYCODE\"\n",
        "fig, axes = plt.subplots(3,4, figsize=(20,10))\n",
        "axes = axes.flatten()\n",
        "\n",
        "i = 0\n",
        "for t in df.select_dtypes(['int','float']):\n",
        "    ax = sns.boxplot(x=x_var, y=t, data=df, ax=axes[i])\n",
        "    i +=1"
      ],
      "execution_count": 150,
      "outputs": [
        {
          "output_type": "display_data",
          "data": {
            "image/png": "[encoded data removed]",
            "text/plain": [
              "<Figure size 1440x720 with 12 Axes>"
            ]
          },
          "metadata": {
            "tags": [],
            "needs_background": "light"
          }
        }
      ]
    },
    {
      "cell_type": "markdown",
      "metadata": {
        "id": "DzqI35wfN8BU"
      },
      "source": [
        "# Encode Data\n",
        "In this part, I will encode the categorical text data to int using OneHotEncoder by scikit-learn."
      ]
    },
    {
      "cell_type": "code",
      "metadata": {
        "id": "YhIvs7B8eDtK",
        "outputId": "a261168c-241d-4629-d18e-f609c6282d1a",
        "colab": {
          "base_uri": "https://localhost:8080/",
          "height": 119
        }
      },
      "source": [
        "df_clean[df_clean.select_dtypes('int').columns] = df_clean.select_dtypes('int').fillna(-1)\n",
        "df_clean = df[df['X'].isna()==False]\n",
        "df_clean[df_clean.select_dtypes('float').columns] = df_clean.select_dtypes('float').fillna(-1)\n",
        "df_clean[df_clean.select_dtypes('object').columns] = df_clean.select_dtypes('object').replace(np.nan,'Unknown')"
      ],
      "execution_count": 183,
      "outputs": [
        {
          "output_type": "stream",
          "text": [
            "/usr/local/lib/python3.6/dist-packages/pandas/core/frame.py:2963: SettingWithCopyWarning: \n",
            "A value is trying to be set on a copy of a slice from a DataFrame.\n",
            "Try using .loc[row_indexer,col_indexer] = value instead\n",
            "\n",
            "See the caveats in the documentation: https://pandas.pydata.org/pandas-docs/stable/user_guide/indexing.html#returning-a-view-versus-a-copy\n",
            "  self[k1] = value[k2]\n"
          ],
          "name": "stderr"
        }
      ]
    },
    {
      "cell_type": "code",
      "metadata": {
        "id": "JE8HFB06VqSy",
        "outputId": "d6d9e50b-a627-47c3-cbef-f37072a249ee",
        "colab": {
          "base_uri": "https://localhost:8080/",
          "height": 391
        }
      },
      "source": [
        "df_clean.isna().sum()"
      ],
      "execution_count": 184,
      "outputs": [
        {
          "output_type": "execute_result",
          "data": {
            "text/plain": [
              "X                  0\n",
              "Y                  0\n",
              "STATUS             0\n",
              "ADDRTYPE           0\n",
              "SEVERITYCODE       0\n",
              "COLLISIONTYPE      0\n",
              "PERSONCOUNT        0\n",
              "PEDCOUNT           0\n",
              "PEDCYLCOUNT        0\n",
              "VEHCOUNT           0\n",
              "INJURIES           0\n",
              "SERIOUSINJURIES    0\n",
              "FATALITIES         0\n",
              "JUNCTIONTYPE       0\n",
              "SDOT_COLCODE       0\n",
              "UNDERINFL          0\n",
              "WEATHER            0\n",
              "ROADCOND           0\n",
              "LIGHTCOND          0\n",
              "ST_COLCODE         0\n",
              "HITPARKEDCAR       0\n",
              "dtype: int64"
            ]
          },
          "metadata": {
            "tags": []
          },
          "execution_count": 184
        }
      ]
    },
    {
      "cell_type": "code",
      "metadata": {
        "id": "h1vKZWWlrEmX"
      },
      "source": [
        "import seaborn as sns"
      ],
      "execution_count": 158,
      "outputs": []
    },
    {
      "cell_type": "code",
      "metadata": {
        "id": "HHJ-XT8ErGUu",
        "outputId": "aaec704d-8172-4e6c-c335-ecf44864dc2f",
        "colab": {
          "base_uri": "https://localhost:8080/",
          "height": 363
        }
      },
      "source": [
        "sns.heatmap(df_clean.corr())"
      ],
      "execution_count": 159,
      "outputs": [
        {
          "output_type": "execute_result",
          "data": {
            "text/plain": [
              "<matplotlib.axes._subplots.AxesSubplot at 0x7f5a39b07278>"
            ]
          },
          "metadata": {
            "tags": []
          },
          "execution_count": 159
        },
        {
          "output_type": "display_data",
          "data": {
            "image/png": "[encoded data removed]",
            "text/plain": [
              "<Figure size 432x288 with 2 Axes>"
            ]
          },
          "metadata": {
            "tags": [],
            "needs_background": "light"
          }
        }
      ]
    },
    {
      "cell_type": "code",
      "metadata": {
        "id": "Vy13hL7IVpz0"
      },
      "source": [
        "Xdata = df_clean.drop(columns='SEVERITYCODE')\n",
        "y = df_clean['SEVERITYCODE']"
      ],
      "execution_count": 185,
      "outputs": []
    },
    {
      "cell_type": "code",
      "metadata": {
        "id": "G3X1Qy1jVzC4"
      },
      "source": [
        "X = pd.get_dummies(Xdata, drop_first=True)"
      ],
      "execution_count": 186,
      "outputs": []
    },
    {
      "cell_type": "code",
      "metadata": {
        "id": "ze7-uTaWrrva"
      },
      "source": [
        "from sklearn import preprocessing\n",
        "data_clean_scaled = preprocessing.StandardScaler().fit(X).transform(X)"
      ],
      "execution_count": 187,
      "outputs": []
    },
    {
      "cell_type": "code",
      "metadata": {
        "id": "bvQo-JFqYv1I",
        "outputId": "1ef42c0b-d808-406c-ac70-4fbb28c81dc2",
        "colab": {
          "base_uri": "https://localhost:8080/",
          "height": 51
        }
      },
      "source": [
        "print(f\"After Delete the NaN values: {X.shape}\")\n",
        "print(f\"Before delete the NaN values: {df.shape}\")"
      ],
      "execution_count": 188,
      "outputs": [
        {
          "output_type": "stream",
          "text": [
            "After Delete the NaN values: (214259, 59)\n",
            "Before delete the NaN values: (221737, 21)\n"
          ],
          "name": "stdout"
        }
      ]
    },
    {
      "cell_type": "markdown",
      "metadata": {
        "id": "-JDumHU0dbqL"
      },
      "source": [
        "# Modeling"
      ]
    },
    {
      "cell_type": "code",
      "metadata": {
        "id": "VmOZcfWndcae"
      },
      "source": [
        "from sklearn.neighbors import KNeighborsClassifier\n",
        "from sklearn.model_selection import train_test_split"
      ],
      "execution_count": 189,
      "outputs": []
    },
    {
      "cell_type": "code",
      "metadata": {
        "id": "g-Z-2t2GyFmX"
      },
      "source": [
        "X_train, X_test, y_train, y_test = train_test_split(data_clean_scaled,y, test_size=0.65, random_state=42, shuffle=True)"
      ],
      "execution_count": 190,
      "outputs": []
    },
    {
      "cell_type": "markdown",
      "metadata": {
        "id": "3I2IVvXByyh-"
      },
      "source": [
        "Because the label data is imbalanced, I will balanced it using SMOTE"
      ]
    },
    {
      "cell_type": "code",
      "metadata": {
        "id": "NiaF1dQlmNbd",
        "outputId": "d28bcafd-2549-4d7b-ebf4-9f4b5fa8e945",
        "colab": {
          "base_uri": "https://localhost:8080/",
          "height": 139
        }
      },
      "source": [
        "from imblearn.over_sampling import SMOTE\n",
        "\n",
        "smote = SMOTE(ratio='all')\n",
        "X_sm, y_sm = smote.fit_sample(X_train, y_train)"
      ],
      "execution_count": 48,
      "outputs": [
        {
          "output_type": "stream",
          "text": [
            "/usr/local/lib/python3.6/dist-packages/sklearn/externals/six.py:31: FutureWarning: The module is deprecated in version 0.21 and will be removed in version 0.23 since we've dropped support for Python 2.7. Please rely on the official version of six (https://pypi.org/project/six/).\n",
            "  \"(https://pypi.org/project/six/).\", FutureWarning)\n",
            "/usr/local/lib/python3.6/dist-packages/sklearn/utils/deprecation.py:144: FutureWarning: The sklearn.neighbors.base module is  deprecated in version 0.22 and will be removed in version 0.24. The corresponding classes / functions should instead be imported from sklearn.neighbors. Anything that cannot be imported from sklearn.neighbors is now part of the private API.\n",
            "  warnings.warn(message, FutureWarning)\n",
            "/usr/local/lib/python3.6/dist-packages/sklearn/utils/deprecation.py:87: FutureWarning: Function safe_indexing is deprecated; safe_indexing is deprecated in version 0.22 and will be removed in version 0.24.\n",
            "  warnings.warn(msg, category=FutureWarning)\n"
          ],
          "name": "stderr"
        }
      ]
    },
    {
      "cell_type": "code",
      "metadata": {
        "id": "zXhoYJSsyYya",
        "outputId": "1d18f2e4-4293-43df-c119-fe3362a94ec9",
        "colab": {
          "base_uri": "https://localhost:8080/",
          "height": 119
        }
      },
      "source": [
        "y_train.value_counts()/y_train.shape[0]"
      ],
      "execution_count": 195,
      "outputs": [
        {
          "output_type": "execute_result",
          "data": {
            "text/plain": [
              "1     0.625430\n",
              "2     0.267702\n",
              "0     0.091572\n",
              "2b    0.013602\n",
              "3     0.001694\n",
              "Name: SEVERITYCODE, dtype: float64"
            ]
          },
          "metadata": {
            "tags": []
          },
          "execution_count": 195
        }
      ]
    },
    {
      "cell_type": "markdown",
      "metadata": {
        "id": "jM8_Ui5b0LY4"
      },
      "source": [
        "## Testing the best ML Classfier Model\n",
        "In this part I will use some of Classifier model such as SVM, KNN, Decision tree, etc., after that I will use Random Search method to search the best hyperparameter."
      ]
    },
    {
      "cell_type": "markdown",
      "metadata": {
        "id": "JCXYHrdZuEMl"
      },
      "source": [
        "### Random Forest"
      ]
    },
    {
      "cell_type": "code",
      "metadata": {
        "id": "M3dLl3u4uDvV",
        "outputId": "ed60628a-5fbd-47b7-d577-e3f89b870437",
        "colab": {
          "base_uri": "https://localhost:8080/",
          "height": 51
        }
      },
      "source": [
        "from sklearn.ensemble import RandomForestClassifier\n",
        "clf = RandomForestClassifier(random_state=0, max_depth=50)\n",
        "\n",
        "clf.fit(X_train, y_train)\n",
        "print(f\"Train accuracy: {clf.score(X_train, y_train)}\")\n",
        "print(f\"Test accuracy: {clf.score(X_test, y_test)}\")"
      ],
      "execution_count": 192,
      "outputs": [
        {
          "output_type": "stream",
          "text": [
            "Train accuracy: 0.9999333244432591\n",
            "Test accuracy: 0.9951245431503063\n"
          ],
          "name": "stdout"
        }
      ]
    },
    {
      "cell_type": "code",
      "metadata": {
        "id": "rybVvHzgv5bu",
        "outputId": "877d0a09-27b6-4b1e-dd40-f27973ba4714",
        "colab": {
          "base_uri": "https://localhost:8080/",
          "height": 34
        }
      },
      "source": [
        "clf.score(X_test, y_test)"
      ],
      "execution_count": 193,
      "outputs": [
        {
          "output_type": "execute_result",
          "data": {
            "text/plain": [
              "0.9951245431503063"
            ]
          },
          "metadata": {
            "tags": []
          },
          "execution_count": 193
        }
      ]
    },
    {
      "cell_type": "markdown",
      "metadata": {
        "id": "lNTL6RKqwgrR"
      },
      "source": [
        "### Neural Networks"
      ]
    },
    {
      "cell_type": "code",
      "metadata": {
        "id": "UwsK5EA4wuW5",
        "outputId": "68ff164b-2226-4276-906c-949a966c9314",
        "colab": {
          "base_uri": "https://localhost:8080/",
          "height": 34
        }
      },
      "source": [
        "X_train.shape"
      ],
      "execution_count": 197,
      "outputs": [
        {
          "output_type": "execute_result",
          "data": {
            "text/plain": [
              "(74990, 59)"
            ]
          },
          "metadata": {
            "tags": []
          },
          "execution_count": 197
        }
      ]
    },
    {
      "cell_type": "code",
      "metadata": {
        "id": "ivFNOu4bwh85",
        "outputId": "3da748e6-2283-4a60-f75d-91bff541352e",
        "colab": {
          "base_uri": "https://localhost:8080/",
          "height": 426
        }
      },
      "source": [
        "from keras.models import Sequential\n",
        "from keras.layers import Dense\n",
        "\n",
        "model = Sequential()\n",
        "model.add(Dense(256, input_shape=(59,), activation=\"relu\"))\n",
        "model.add(Dense(128, activation=\"sigmoid\"))\n",
        "model.add(Dense(1))\n",
        "\n",
        "model.compile(optimizer=\"adam\", loss=\"mse\", metrics=['accuracy'])\n",
        "\n",
        "model.fit(X_train, y_train, epochs=200, batch_size=256)"
      ],
      "execution_count": 198,
      "outputs": [
        {
          "output_type": "stream",
          "text": [
            "Epoch 1/200\n"
          ],
          "name": "stdout"
        },
        {
          "output_type": "error",
          "ename": "UnimplementedError",
          "evalue": "ignored",
          "traceback": [
            "\u001b[0;31m---------------------------------------------------------------------------\u001b[0m",
            "\u001b[0;31mUnimplementedError\u001b[0m                        Traceback (most recent call last)",
            "\u001b[0;32m<ipython-input-198-43427433255d>\u001b[0m in \u001b[0;36m<module>\u001b[0;34m()\u001b[0m\n\u001b[1;32m     11\u001b[0m \u001b[0mmodel\u001b[0m\u001b[0;34m.\u001b[0m\u001b[0mcompile\u001b[0m\u001b[0;34m(\u001b[0m\u001b[0moptimizer\u001b[0m\u001b[0;34m=\u001b[0m\u001b[0;34m\"adam\"\u001b[0m\u001b[0;34m,\u001b[0m \u001b[0mloss\u001b[0m\u001b[0;34m=\u001b[0m\u001b[0;34m\"mse\"\u001b[0m\u001b[0;34m,\u001b[0m \u001b[0mmetrics\u001b[0m\u001b[0;34m=\u001b[0m\u001b[0;34m[\u001b[0m\u001b[0;34m'accuracy'\u001b[0m\u001b[0;34m]\u001b[0m\u001b[0;34m)\u001b[0m\u001b[0;34m\u001b[0m\u001b[0;34m\u001b[0m\u001b[0m\n\u001b[1;32m     12\u001b[0m \u001b[0;34m\u001b[0m\u001b[0m\n\u001b[0;32m---> 13\u001b[0;31m \u001b[0mmodel\u001b[0m\u001b[0;34m.\u001b[0m\u001b[0mfit\u001b[0m\u001b[0;34m(\u001b[0m\u001b[0mX_train\u001b[0m\u001b[0;34m,\u001b[0m \u001b[0my_train\u001b[0m\u001b[0;34m,\u001b[0m \u001b[0mepochs\u001b[0m\u001b[0;34m=\u001b[0m\u001b[0;36m200\u001b[0m\u001b[0;34m,\u001b[0m \u001b[0mbatch_size\u001b[0m\u001b[0;34m=\u001b[0m\u001b[0;36m256\u001b[0m\u001b[0;34m)\u001b[0m\u001b[0;34m\u001b[0m\u001b[0;34m\u001b[0m\u001b[0m\n\u001b[0m",
            "\u001b[0;32m/usr/local/lib/python3.6/dist-packages/tensorflow/python/keras/engine/training.py\u001b[0m in \u001b[0;36m_method_wrapper\u001b[0;34m(self, *args, **kwargs)\u001b[0m\n\u001b[1;32m    106\u001b[0m   \u001b[0;32mdef\u001b[0m \u001b[0m_method_wrapper\u001b[0m\u001b[0;34m(\u001b[0m\u001b[0mself\u001b[0m\u001b[0;34m,\u001b[0m \u001b[0;34m*\u001b[0m\u001b[0margs\u001b[0m\u001b[0;34m,\u001b[0m \u001b[0;34m**\u001b[0m\u001b[0mkwargs\u001b[0m\u001b[0;34m)\u001b[0m\u001b[0;34m:\u001b[0m\u001b[0;34m\u001b[0m\u001b[0;34m\u001b[0m\u001b[0m\n\u001b[1;32m    107\u001b[0m     \u001b[0;32mif\u001b[0m \u001b[0;32mnot\u001b[0m \u001b[0mself\u001b[0m\u001b[0;34m.\u001b[0m\u001b[0m_in_multi_worker_mode\u001b[0m\u001b[0;34m(\u001b[0m\u001b[0;34m)\u001b[0m\u001b[0;34m:\u001b[0m  \u001b[0;31m# pylint: disable=protected-access\u001b[0m\u001b[0;34m\u001b[0m\u001b[0;34m\u001b[0m\u001b[0m\n\u001b[0;32m--> 108\u001b[0;31m       \u001b[0;32mreturn\u001b[0m \u001b[0mmethod\u001b[0m\u001b[0;34m(\u001b[0m\u001b[0mself\u001b[0m\u001b[0;34m,\u001b[0m \u001b[0;34m*\u001b[0m\u001b[0margs\u001b[0m\u001b[0;34m,\u001b[0m \u001b[0;34m**\u001b[0m\u001b[0mkwargs\u001b[0m\u001b[0;34m)\u001b[0m\u001b[0;34m\u001b[0m\u001b[0;34m\u001b[0m\u001b[0m\n\u001b[0m\u001b[1;32m    109\u001b[0m \u001b[0;34m\u001b[0m\u001b[0m\n\u001b[1;32m    110\u001b[0m     \u001b[0;31m# Running inside `run_distribute_coordinator` already.\u001b[0m\u001b[0;34m\u001b[0m\u001b[0;34m\u001b[0m\u001b[0;34m\u001b[0m\u001b[0m\n",
            "\u001b[0;32m/usr/local/lib/python3.6/dist-packages/tensorflow/python/keras/engine/training.py\u001b[0m in \u001b[0;36mfit\u001b[0;34m(self, x, y, batch_size, epochs, verbose, callbacks, validation_split, validation_data, shuffle, class_weight, sample_weight, initial_epoch, steps_per_epoch, validation_steps, validation_batch_size, validation_freq, max_queue_size, workers, use_multiprocessing)\u001b[0m\n\u001b[1;32m   1096\u001b[0m                 batch_size=batch_size):\n\u001b[1;32m   1097\u001b[0m               \u001b[0mcallbacks\u001b[0m\u001b[0;34m.\u001b[0m\u001b[0mon_train_batch_begin\u001b[0m\u001b[0;34m(\u001b[0m\u001b[0mstep\u001b[0m\u001b[0;34m)\u001b[0m\u001b[0;34m\u001b[0m\u001b[0;34m\u001b[0m\u001b[0m\n\u001b[0;32m-> 1098\u001b[0;31m               \u001b[0mtmp_logs\u001b[0m \u001b[0;34m=\u001b[0m \u001b[0mtrain_function\u001b[0m\u001b[0;34m(\u001b[0m\u001b[0miterator\u001b[0m\u001b[0;34m)\u001b[0m\u001b[0;34m\u001b[0m\u001b[0;34m\u001b[0m\u001b[0m\n\u001b[0m\u001b[1;32m   1099\u001b[0m               \u001b[0;32mif\u001b[0m \u001b[0mdata_handler\u001b[0m\u001b[0;34m.\u001b[0m\u001b[0mshould_sync\u001b[0m\u001b[0;34m:\u001b[0m\u001b[0;34m\u001b[0m\u001b[0;34m\u001b[0m\u001b[0m\n\u001b[1;32m   1100\u001b[0m                 \u001b[0mcontext\u001b[0m\u001b[0;34m.\u001b[0m\u001b[0masync_wait\u001b[0m\u001b[0;34m(\u001b[0m\u001b[0;34m)\u001b[0m\u001b[0;34m\u001b[0m\u001b[0;34m\u001b[0m\u001b[0m\n",
            "\u001b[0;32m/usr/local/lib/python3.6/dist-packages/tensorflow/python/eager/def_function.py\u001b[0m in \u001b[0;36m__call__\u001b[0;34m(self, *args, **kwds)\u001b[0m\n\u001b[1;32m    778\u001b[0m       \u001b[0;32melse\u001b[0m\u001b[0;34m:\u001b[0m\u001b[0;34m\u001b[0m\u001b[0;34m\u001b[0m\u001b[0m\n\u001b[1;32m    779\u001b[0m         \u001b[0mcompiler\u001b[0m \u001b[0;34m=\u001b[0m \u001b[0;34m\"nonXla\"\u001b[0m\u001b[0;34m\u001b[0m\u001b[0;34m\u001b[0m\u001b[0m\n\u001b[0;32m--> 780\u001b[0;31m         \u001b[0mresult\u001b[0m \u001b[0;34m=\u001b[0m \u001b[0mself\u001b[0m\u001b[0;34m.\u001b[0m\u001b[0m_call\u001b[0m\u001b[0;34m(\u001b[0m\u001b[0;34m*\u001b[0m\u001b[0margs\u001b[0m\u001b[0;34m,\u001b[0m \u001b[0;34m**\u001b[0m\u001b[0mkwds\u001b[0m\u001b[0;34m)\u001b[0m\u001b[0;34m\u001b[0m\u001b[0;34m\u001b[0m\u001b[0m\n\u001b[0m\u001b[1;32m    781\u001b[0m \u001b[0;34m\u001b[0m\u001b[0m\n\u001b[1;32m    782\u001b[0m       \u001b[0mnew_tracing_count\u001b[0m \u001b[0;34m=\u001b[0m \u001b[0mself\u001b[0m\u001b[0;34m.\u001b[0m\u001b[0m_get_tracing_count\u001b[0m\u001b[0;34m(\u001b[0m\u001b[0;34m)\u001b[0m\u001b[0;34m\u001b[0m\u001b[0;34m\u001b[0m\u001b[0m\n",
            "\u001b[0;32m/usr/local/lib/python3.6/dist-packages/tensorflow/python/eager/def_function.py\u001b[0m in \u001b[0;36m_call\u001b[0;34m(self, *args, **kwds)\u001b[0m\n\u001b[1;32m    838\u001b[0m         \u001b[0;31m# Lifting succeeded, so variables are initialized and we can run the\u001b[0m\u001b[0;34m\u001b[0m\u001b[0;34m\u001b[0m\u001b[0;34m\u001b[0m\u001b[0m\n\u001b[1;32m    839\u001b[0m         \u001b[0;31m# stateless function.\u001b[0m\u001b[0;34m\u001b[0m\u001b[0;34m\u001b[0m\u001b[0;34m\u001b[0m\u001b[0m\n\u001b[0;32m--> 840\u001b[0;31m         \u001b[0;32mreturn\u001b[0m \u001b[0mself\u001b[0m\u001b[0;34m.\u001b[0m\u001b[0m_stateless_fn\u001b[0m\u001b[0;34m(\u001b[0m\u001b[0;34m*\u001b[0m\u001b[0margs\u001b[0m\u001b[0;34m,\u001b[0m \u001b[0;34m**\u001b[0m\u001b[0mkwds\u001b[0m\u001b[0;34m)\u001b[0m\u001b[0;34m\u001b[0m\u001b[0;34m\u001b[0m\u001b[0m\n\u001b[0m\u001b[1;32m    841\u001b[0m     \u001b[0;32melse\u001b[0m\u001b[0;34m:\u001b[0m\u001b[0;34m\u001b[0m\u001b[0;34m\u001b[0m\u001b[0m\n\u001b[1;32m    842\u001b[0m       \u001b[0mcanon_args\u001b[0m\u001b[0;34m,\u001b[0m \u001b[0mcanon_kwds\u001b[0m \u001b[0;34m=\u001b[0m\u001b[0;31m \u001b[0m\u001b[0;31m\\\u001b[0m\u001b[0;34m\u001b[0m\u001b[0;34m\u001b[0m\u001b[0m\n",
            "\u001b[0;32m/usr/local/lib/python3.6/dist-packages/tensorflow/python/eager/function.py\u001b[0m in \u001b[0;36m__call__\u001b[0;34m(self, *args, **kwargs)\u001b[0m\n\u001b[1;32m   2827\u001b[0m     \u001b[0;32mwith\u001b[0m \u001b[0mself\u001b[0m\u001b[0;34m.\u001b[0m\u001b[0m_lock\u001b[0m\u001b[0;34m:\u001b[0m\u001b[0;34m\u001b[0m\u001b[0;34m\u001b[0m\u001b[0m\n\u001b[1;32m   2828\u001b[0m       \u001b[0mgraph_function\u001b[0m\u001b[0;34m,\u001b[0m \u001b[0margs\u001b[0m\u001b[0;34m,\u001b[0m \u001b[0mkwargs\u001b[0m \u001b[0;34m=\u001b[0m \u001b[0mself\u001b[0m\u001b[0;34m.\u001b[0m\u001b[0m_maybe_define_function\u001b[0m\u001b[0;34m(\u001b[0m\u001b[0margs\u001b[0m\u001b[0;34m,\u001b[0m \u001b[0mkwargs\u001b[0m\u001b[0;34m)\u001b[0m\u001b[0;34m\u001b[0m\u001b[0;34m\u001b[0m\u001b[0m\n\u001b[0;32m-> 2829\u001b[0;31m     \u001b[0;32mreturn\u001b[0m \u001b[0mgraph_function\u001b[0m\u001b[0;34m.\u001b[0m\u001b[0m_filtered_call\u001b[0m\u001b[0;34m(\u001b[0m\u001b[0margs\u001b[0m\u001b[0;34m,\u001b[0m \u001b[0mkwargs\u001b[0m\u001b[0;34m)\u001b[0m  \u001b[0;31m# pylint: disable=protected-access\u001b[0m\u001b[0;34m\u001b[0m\u001b[0;34m\u001b[0m\u001b[0m\n\u001b[0m\u001b[1;32m   2830\u001b[0m \u001b[0;34m\u001b[0m\u001b[0m\n\u001b[1;32m   2831\u001b[0m   \u001b[0;34m@\u001b[0m\u001b[0mproperty\u001b[0m\u001b[0;34m\u001b[0m\u001b[0;34m\u001b[0m\u001b[0m\n",
            "\u001b[0;32m/usr/local/lib/python3.6/dist-packages/tensorflow/python/eager/function.py\u001b[0m in \u001b[0;36m_filtered_call\u001b[0;34m(self, args, kwargs, cancellation_manager)\u001b[0m\n\u001b[1;32m   1846\u001b[0m                            resource_variable_ops.BaseResourceVariable))],\n\u001b[1;32m   1847\u001b[0m         \u001b[0mcaptured_inputs\u001b[0m\u001b[0;34m=\u001b[0m\u001b[0mself\u001b[0m\u001b[0;34m.\u001b[0m\u001b[0mcaptured_inputs\u001b[0m\u001b[0;34m,\u001b[0m\u001b[0;34m\u001b[0m\u001b[0;34m\u001b[0m\u001b[0m\n\u001b[0;32m-> 1848\u001b[0;31m         cancellation_manager=cancellation_manager)\n\u001b[0m\u001b[1;32m   1849\u001b[0m \u001b[0;34m\u001b[0m\u001b[0m\n\u001b[1;32m   1850\u001b[0m   \u001b[0;32mdef\u001b[0m \u001b[0m_call_flat\u001b[0m\u001b[0;34m(\u001b[0m\u001b[0mself\u001b[0m\u001b[0;34m,\u001b[0m \u001b[0margs\u001b[0m\u001b[0;34m,\u001b[0m \u001b[0mcaptured_inputs\u001b[0m\u001b[0;34m,\u001b[0m \u001b[0mcancellation_manager\u001b[0m\u001b[0;34m=\u001b[0m\u001b[0;32mNone\u001b[0m\u001b[0;34m)\u001b[0m\u001b[0;34m:\u001b[0m\u001b[0;34m\u001b[0m\u001b[0;34m\u001b[0m\u001b[0m\n",
            "\u001b[0;32m/usr/local/lib/python3.6/dist-packages/tensorflow/python/eager/function.py\u001b[0m in \u001b[0;36m_call_flat\u001b[0;34m(self, args, captured_inputs, cancellation_manager)\u001b[0m\n\u001b[1;32m   1922\u001b[0m       \u001b[0;31m# No tape is watching; skip to running the function.\u001b[0m\u001b[0;34m\u001b[0m\u001b[0;34m\u001b[0m\u001b[0;34m\u001b[0m\u001b[0m\n\u001b[1;32m   1923\u001b[0m       return self._build_call_outputs(self._inference_function.call(\n\u001b[0;32m-> 1924\u001b[0;31m           ctx, args, cancellation_manager=cancellation_manager))\n\u001b[0m\u001b[1;32m   1925\u001b[0m     forward_backward = self._select_forward_and_backward_functions(\n\u001b[1;32m   1926\u001b[0m         \u001b[0margs\u001b[0m\u001b[0;34m,\u001b[0m\u001b[0;34m\u001b[0m\u001b[0;34m\u001b[0m\u001b[0m\n",
            "\u001b[0;32m/usr/local/lib/python3.6/dist-packages/tensorflow/python/eager/function.py\u001b[0m in \u001b[0;36mcall\u001b[0;34m(self, ctx, args, cancellation_manager)\u001b[0m\n\u001b[1;32m    548\u001b[0m               \u001b[0minputs\u001b[0m\u001b[0;34m=\u001b[0m\u001b[0margs\u001b[0m\u001b[0;34m,\u001b[0m\u001b[0;34m\u001b[0m\u001b[0;34m\u001b[0m\u001b[0m\n\u001b[1;32m    549\u001b[0m               \u001b[0mattrs\u001b[0m\u001b[0;34m=\u001b[0m\u001b[0mattrs\u001b[0m\u001b[0;34m,\u001b[0m\u001b[0;34m\u001b[0m\u001b[0;34m\u001b[0m\u001b[0m\n\u001b[0;32m--> 550\u001b[0;31m               ctx=ctx)\n\u001b[0m\u001b[1;32m    551\u001b[0m         \u001b[0;32melse\u001b[0m\u001b[0;34m:\u001b[0m\u001b[0;34m\u001b[0m\u001b[0;34m\u001b[0m\u001b[0m\n\u001b[1;32m    552\u001b[0m           outputs = execute.execute_with_cancellation(\n",
            "\u001b[0;32m/usr/local/lib/python3.6/dist-packages/tensorflow/python/eager/execute.py\u001b[0m in \u001b[0;36mquick_execute\u001b[0;34m(op_name, num_outputs, inputs, attrs, ctx, name)\u001b[0m\n\u001b[1;32m     58\u001b[0m     \u001b[0mctx\u001b[0m\u001b[0;34m.\u001b[0m\u001b[0mensure_initialized\u001b[0m\u001b[0;34m(\u001b[0m\u001b[0;34m)\u001b[0m\u001b[0;34m\u001b[0m\u001b[0;34m\u001b[0m\u001b[0m\n\u001b[1;32m     59\u001b[0m     tensors = pywrap_tfe.TFE_Py_Execute(ctx._handle, device_name, op_name,\n\u001b[0;32m---> 60\u001b[0;31m                                         inputs, attrs, num_outputs)\n\u001b[0m\u001b[1;32m     61\u001b[0m   \u001b[0;32mexcept\u001b[0m \u001b[0mcore\u001b[0m\u001b[0;34m.\u001b[0m\u001b[0m_NotOkStatusException\u001b[0m \u001b[0;32mas\u001b[0m \u001b[0me\u001b[0m\u001b[0;34m:\u001b[0m\u001b[0;34m\u001b[0m\u001b[0;34m\u001b[0m\u001b[0m\n\u001b[1;32m     62\u001b[0m     \u001b[0;32mif\u001b[0m \u001b[0mname\u001b[0m \u001b[0;32mis\u001b[0m \u001b[0;32mnot\u001b[0m \u001b[0;32mNone\u001b[0m\u001b[0;34m:\u001b[0m\u001b[0;34m\u001b[0m\u001b[0;34m\u001b[0m\u001b[0m\n",
            "\u001b[0;31mUnimplementedError\u001b[0m:  Cast string to float is not supported\n\t [[node mean_squared_error/Cast (defined at <ipython-input-198-43427433255d>:13) ]] [Op:__inference_train_function_1859046]\n\nFunction call stack:\ntrain_function\n"
          ]
        }
      ]
    },
    {
      "cell_type": "code",
      "metadata": {
        "id": "G3ABtLOg4CJ_",
        "outputId": "482aa308-0b96-4a0d-fb41-b2cde5009cd0",
        "colab": {
          "base_uri": "https://localhost:8080/",
          "height": 307
        }
      },
      "source": [
        "model.predict(X_test,y_test)"
      ],
      "execution_count": 92,
      "outputs": [
        {
          "output_type": "error",
          "ename": "ValueError",
          "evalue": "ignored",
          "traceback": [
            "\u001b[0;31m---------------------------------------------------------------------------\u001b[0m",
            "\u001b[0;31mValueError\u001b[0m                                Traceback (most recent call last)",
            "\u001b[0;32m<ipython-input-92-b0ab634916e6>\u001b[0m in \u001b[0;36m<module>\u001b[0;34m()\u001b[0m\n\u001b[0;32m----> 1\u001b[0;31m \u001b[0mmodel\u001b[0m\u001b[0;34m.\u001b[0m\u001b[0mpredict\u001b[0m\u001b[0;34m(\u001b[0m\u001b[0mX_test\u001b[0m\u001b[0;34m,\u001b[0m\u001b[0my_test\u001b[0m\u001b[0;34m)\u001b[0m\u001b[0;34m\u001b[0m\u001b[0;34m\u001b[0m\u001b[0m\n\u001b[0m",
            "\u001b[0;32m/usr/local/lib/python3.6/dist-packages/tensorflow/python/keras/engine/training.py\u001b[0m in \u001b[0;36m_method_wrapper\u001b[0;34m(self, *args, **kwargs)\u001b[0m\n\u001b[1;32m    128\u001b[0m       raise ValueError('{} is not supported in multi-worker mode.'.format(\n\u001b[1;32m    129\u001b[0m           method.__name__))\n\u001b[0;32m--> 130\u001b[0;31m     \u001b[0;32mreturn\u001b[0m \u001b[0mmethod\u001b[0m\u001b[0;34m(\u001b[0m\u001b[0mself\u001b[0m\u001b[0;34m,\u001b[0m \u001b[0;34m*\u001b[0m\u001b[0margs\u001b[0m\u001b[0;34m,\u001b[0m \u001b[0;34m**\u001b[0m\u001b[0mkwargs\u001b[0m\u001b[0;34m)\u001b[0m\u001b[0;34m\u001b[0m\u001b[0;34m\u001b[0m\u001b[0m\n\u001b[0m\u001b[1;32m    131\u001b[0m \u001b[0;34m\u001b[0m\u001b[0m\n\u001b[1;32m    132\u001b[0m   return tf_decorator.make_decorator(\n",
            "\u001b[0;32m/usr/local/lib/python3.6/dist-packages/tensorflow/python/keras/engine/training.py\u001b[0m in \u001b[0;36mpredict\u001b[0;34m(self, x, batch_size, verbose, steps, callbacks, max_queue_size, workers, use_multiprocessing)\u001b[0m\n\u001b[1;32m   1577\u001b[0m           \u001b[0muse_multiprocessing\u001b[0m\u001b[0;34m=\u001b[0m\u001b[0muse_multiprocessing\u001b[0m\u001b[0;34m,\u001b[0m\u001b[0;34m\u001b[0m\u001b[0;34m\u001b[0m\u001b[0m\n\u001b[1;32m   1578\u001b[0m           \u001b[0mmodel\u001b[0m\u001b[0;34m=\u001b[0m\u001b[0mself\u001b[0m\u001b[0;34m,\u001b[0m\u001b[0;34m\u001b[0m\u001b[0;34m\u001b[0m\u001b[0m\n\u001b[0;32m-> 1579\u001b[0;31m           steps_per_execution=self._steps_per_execution)\n\u001b[0m\u001b[1;32m   1580\u001b[0m \u001b[0;34m\u001b[0m\u001b[0m\n\u001b[1;32m   1581\u001b[0m       \u001b[0;31m# Container that configures and calls `tf.keras.Callback`s.\u001b[0m\u001b[0;34m\u001b[0m\u001b[0;34m\u001b[0m\u001b[0;34m\u001b[0m\u001b[0m\n",
            "\u001b[0;32m/usr/local/lib/python3.6/dist-packages/tensorflow/python/keras/engine/data_adapter.py\u001b[0m in \u001b[0;36m__init__\u001b[0;34m(self, x, y, sample_weight, batch_size, steps_per_epoch, initial_epoch, epochs, shuffle, class_weight, max_queue_size, workers, use_multiprocessing, model, steps_per_execution)\u001b[0m\n\u001b[1;32m   1115\u001b[0m         \u001b[0muse_multiprocessing\u001b[0m\u001b[0;34m=\u001b[0m\u001b[0muse_multiprocessing\u001b[0m\u001b[0;34m,\u001b[0m\u001b[0;34m\u001b[0m\u001b[0;34m\u001b[0m\u001b[0m\n\u001b[1;32m   1116\u001b[0m         \u001b[0mdistribution_strategy\u001b[0m\u001b[0;34m=\u001b[0m\u001b[0mds_context\u001b[0m\u001b[0;34m.\u001b[0m\u001b[0mget_strategy\u001b[0m\u001b[0;34m(\u001b[0m\u001b[0;34m)\u001b[0m\u001b[0;34m,\u001b[0m\u001b[0;34m\u001b[0m\u001b[0;34m\u001b[0m\u001b[0m\n\u001b[0;32m-> 1117\u001b[0;31m         model=model)\n\u001b[0m\u001b[1;32m   1118\u001b[0m \u001b[0;34m\u001b[0m\u001b[0m\n\u001b[1;32m   1119\u001b[0m     \u001b[0mstrategy\u001b[0m \u001b[0;34m=\u001b[0m \u001b[0mds_context\u001b[0m\u001b[0;34m.\u001b[0m\u001b[0mget_strategy\u001b[0m\u001b[0;34m(\u001b[0m\u001b[0;34m)\u001b[0m\u001b[0;34m\u001b[0m\u001b[0;34m\u001b[0m\u001b[0m\n",
            "\u001b[0;32m/usr/local/lib/python3.6/dist-packages/tensorflow/python/keras/engine/data_adapter.py\u001b[0m in \u001b[0;36m__init__\u001b[0;34m(self, x, y, sample_weights, sample_weight_modes, batch_size, epochs, steps, shuffle, **kwargs)\u001b[0m\n\u001b[1;32m    285\u001b[0m     \u001b[0;31m# If batch_size is not passed but steps is, calculate from the input data.\u001b[0m\u001b[0;34m\u001b[0m\u001b[0;34m\u001b[0m\u001b[0;34m\u001b[0m\u001b[0m\n\u001b[1;32m    286\u001b[0m     \u001b[0;31m# Default to 32 for backwards compat.\u001b[0m\u001b[0;34m\u001b[0m\u001b[0;34m\u001b[0m\u001b[0;34m\u001b[0m\u001b[0m\n\u001b[0;32m--> 287\u001b[0;31m     \u001b[0;32mif\u001b[0m \u001b[0;32mnot\u001b[0m \u001b[0mbatch_size\u001b[0m\u001b[0;34m:\u001b[0m\u001b[0;34m\u001b[0m\u001b[0;34m\u001b[0m\u001b[0m\n\u001b[0m\u001b[1;32m    288\u001b[0m       \u001b[0mbatch_size\u001b[0m \u001b[0;34m=\u001b[0m \u001b[0mint\u001b[0m\u001b[0;34m(\u001b[0m\u001b[0mmath\u001b[0m\u001b[0;34m.\u001b[0m\u001b[0mceil\u001b[0m\u001b[0;34m(\u001b[0m\u001b[0mnum_samples\u001b[0m \u001b[0;34m/\u001b[0m \u001b[0msteps\u001b[0m\u001b[0;34m)\u001b[0m\u001b[0;34m)\u001b[0m \u001b[0;32mif\u001b[0m \u001b[0msteps\u001b[0m \u001b[0;32melse\u001b[0m \u001b[0;36m32\u001b[0m\u001b[0;34m\u001b[0m\u001b[0;34m\u001b[0m\u001b[0m\n\u001b[1;32m    289\u001b[0m \u001b[0;34m\u001b[0m\u001b[0m\n",
            "\u001b[0;32m/usr/local/lib/python3.6/dist-packages/pandas/core/generic.py\u001b[0m in \u001b[0;36m__nonzero__\u001b[0;34m(self)\u001b[0m\n\u001b[1;32m   1477\u001b[0m     \u001b[0;32mdef\u001b[0m \u001b[0m__nonzero__\u001b[0m\u001b[0;34m(\u001b[0m\u001b[0mself\u001b[0m\u001b[0;34m)\u001b[0m\u001b[0;34m:\u001b[0m\u001b[0;34m\u001b[0m\u001b[0;34m\u001b[0m\u001b[0m\n\u001b[1;32m   1478\u001b[0m         raise ValueError(\n\u001b[0;32m-> 1479\u001b[0;31m             \u001b[0;34mf\"The truth value of a {type(self).__name__} is ambiguous. \"\u001b[0m\u001b[0;34m\u001b[0m\u001b[0;34m\u001b[0m\u001b[0m\n\u001b[0m\u001b[1;32m   1480\u001b[0m             \u001b[0;34m\"Use a.empty, a.bool(), a.item(), a.any() or a.all().\"\u001b[0m\u001b[0;34m\u001b[0m\u001b[0;34m\u001b[0m\u001b[0m\n\u001b[1;32m   1481\u001b[0m         )\n",
            "\u001b[0;31mValueError\u001b[0m: The truth value of a Series is ambiguous. Use a.empty, a.bool(), a.item(), a.any() or a.all()."
          ]
        }
      ]
    }
  ]
}